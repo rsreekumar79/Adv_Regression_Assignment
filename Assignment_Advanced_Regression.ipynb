{
 "cells": [
  {
   "cell_type": "markdown",
   "metadata": {},
   "source": [
    "### Assignment - Advanced Regression"
   ]
  },
  {
   "cell_type": "markdown",
   "metadata": {},
   "source": [
    "Importing basic libraries. Other specific libraries are imported as and when required"
   ]
  },
  {
   "cell_type": "code",
   "execution_count": 343,
   "metadata": {},
   "outputs": [],
   "source": [
    "import pandas as pd\n",
    "import numpy as np\n",
    "import matplotlib.pyplot as plt \n",
    "import seaborn as sns\n",
    "\n",
    "import warnings\n",
    "warnings.filterwarnings(\"ignore\")"
   ]
  },
  {
   "cell_type": "markdown",
   "metadata": {},
   "source": [
    "#### Reading the data file"
   ]
  },
  {
   "cell_type": "code",
   "execution_count": 344,
   "metadata": {},
   "outputs": [
    {
     "data": {
      "text/html": [
       "<div>\n",
       "<style scoped>\n",
       "    .dataframe tbody tr th:only-of-type {\n",
       "        vertical-align: middle;\n",
       "    }\n",
       "\n",
       "    .dataframe tbody tr th {\n",
       "        vertical-align: top;\n",
       "    }\n",
       "\n",
       "    .dataframe thead th {\n",
       "        text-align: right;\n",
       "    }\n",
       "</style>\n",
       "<table border=\"1\" class=\"dataframe\">\n",
       "  <thead>\n",
       "    <tr style=\"text-align: right;\">\n",
       "      <th></th>\n",
       "      <th>Id</th>\n",
       "      <th>MSSubClass</th>\n",
       "      <th>MSZoning</th>\n",
       "      <th>LotFrontage</th>\n",
       "      <th>LotArea</th>\n",
       "      <th>Street</th>\n",
       "      <th>Alley</th>\n",
       "      <th>LotShape</th>\n",
       "      <th>LandContour</th>\n",
       "      <th>Utilities</th>\n",
       "      <th>...</th>\n",
       "      <th>PoolArea</th>\n",
       "      <th>PoolQC</th>\n",
       "      <th>Fence</th>\n",
       "      <th>MiscFeature</th>\n",
       "      <th>MiscVal</th>\n",
       "      <th>MoSold</th>\n",
       "      <th>YrSold</th>\n",
       "      <th>SaleType</th>\n",
       "      <th>SaleCondition</th>\n",
       "      <th>SalePrice</th>\n",
       "    </tr>\n",
       "  </thead>\n",
       "  <tbody>\n",
       "    <tr>\n",
       "      <th>0</th>\n",
       "      <td>1</td>\n",
       "      <td>60</td>\n",
       "      <td>RL</td>\n",
       "      <td>65.0</td>\n",
       "      <td>8450</td>\n",
       "      <td>Pave</td>\n",
       "      <td>NaN</td>\n",
       "      <td>Reg</td>\n",
       "      <td>Lvl</td>\n",
       "      <td>AllPub</td>\n",
       "      <td>...</td>\n",
       "      <td>0</td>\n",
       "      <td>NaN</td>\n",
       "      <td>NaN</td>\n",
       "      <td>NaN</td>\n",
       "      <td>0</td>\n",
       "      <td>2</td>\n",
       "      <td>2008</td>\n",
       "      <td>WD</td>\n",
       "      <td>Normal</td>\n",
       "      <td>208500</td>\n",
       "    </tr>\n",
       "    <tr>\n",
       "      <th>1</th>\n",
       "      <td>2</td>\n",
       "      <td>20</td>\n",
       "      <td>RL</td>\n",
       "      <td>80.0</td>\n",
       "      <td>9600</td>\n",
       "      <td>Pave</td>\n",
       "      <td>NaN</td>\n",
       "      <td>Reg</td>\n",
       "      <td>Lvl</td>\n",
       "      <td>AllPub</td>\n",
       "      <td>...</td>\n",
       "      <td>0</td>\n",
       "      <td>NaN</td>\n",
       "      <td>NaN</td>\n",
       "      <td>NaN</td>\n",
       "      <td>0</td>\n",
       "      <td>5</td>\n",
       "      <td>2007</td>\n",
       "      <td>WD</td>\n",
       "      <td>Normal</td>\n",
       "      <td>181500</td>\n",
       "    </tr>\n",
       "    <tr>\n",
       "      <th>2</th>\n",
       "      <td>3</td>\n",
       "      <td>60</td>\n",
       "      <td>RL</td>\n",
       "      <td>68.0</td>\n",
       "      <td>11250</td>\n",
       "      <td>Pave</td>\n",
       "      <td>NaN</td>\n",
       "      <td>IR1</td>\n",
       "      <td>Lvl</td>\n",
       "      <td>AllPub</td>\n",
       "      <td>...</td>\n",
       "      <td>0</td>\n",
       "      <td>NaN</td>\n",
       "      <td>NaN</td>\n",
       "      <td>NaN</td>\n",
       "      <td>0</td>\n",
       "      <td>9</td>\n",
       "      <td>2008</td>\n",
       "      <td>WD</td>\n",
       "      <td>Normal</td>\n",
       "      <td>223500</td>\n",
       "    </tr>\n",
       "    <tr>\n",
       "      <th>3</th>\n",
       "      <td>4</td>\n",
       "      <td>70</td>\n",
       "      <td>RL</td>\n",
       "      <td>60.0</td>\n",
       "      <td>9550</td>\n",
       "      <td>Pave</td>\n",
       "      <td>NaN</td>\n",
       "      <td>IR1</td>\n",
       "      <td>Lvl</td>\n",
       "      <td>AllPub</td>\n",
       "      <td>...</td>\n",
       "      <td>0</td>\n",
       "      <td>NaN</td>\n",
       "      <td>NaN</td>\n",
       "      <td>NaN</td>\n",
       "      <td>0</td>\n",
       "      <td>2</td>\n",
       "      <td>2006</td>\n",
       "      <td>WD</td>\n",
       "      <td>Abnorml</td>\n",
       "      <td>140000</td>\n",
       "    </tr>\n",
       "    <tr>\n",
       "      <th>4</th>\n",
       "      <td>5</td>\n",
       "      <td>60</td>\n",
       "      <td>RL</td>\n",
       "      <td>84.0</td>\n",
       "      <td>14260</td>\n",
       "      <td>Pave</td>\n",
       "      <td>NaN</td>\n",
       "      <td>IR1</td>\n",
       "      <td>Lvl</td>\n",
       "      <td>AllPub</td>\n",
       "      <td>...</td>\n",
       "      <td>0</td>\n",
       "      <td>NaN</td>\n",
       "      <td>NaN</td>\n",
       "      <td>NaN</td>\n",
       "      <td>0</td>\n",
       "      <td>12</td>\n",
       "      <td>2008</td>\n",
       "      <td>WD</td>\n",
       "      <td>Normal</td>\n",
       "      <td>250000</td>\n",
       "    </tr>\n",
       "  </tbody>\n",
       "</table>\n",
       "<p>5 rows × 81 columns</p>\n",
       "</div>"
      ],
      "text/plain": [
       "   Id  MSSubClass MSZoning  LotFrontage  LotArea Street Alley LotShape  \\\n",
       "0   1          60       RL         65.0     8450   Pave   NaN      Reg   \n",
       "1   2          20       RL         80.0     9600   Pave   NaN      Reg   \n",
       "2   3          60       RL         68.0    11250   Pave   NaN      IR1   \n",
       "3   4          70       RL         60.0     9550   Pave   NaN      IR1   \n",
       "4   5          60       RL         84.0    14260   Pave   NaN      IR1   \n",
       "\n",
       "  LandContour Utilities  ... PoolArea PoolQC Fence MiscFeature MiscVal MoSold  \\\n",
       "0         Lvl    AllPub  ...        0    NaN   NaN         NaN       0      2   \n",
       "1         Lvl    AllPub  ...        0    NaN   NaN         NaN       0      5   \n",
       "2         Lvl    AllPub  ...        0    NaN   NaN         NaN       0      9   \n",
       "3         Lvl    AllPub  ...        0    NaN   NaN         NaN       0      2   \n",
       "4         Lvl    AllPub  ...        0    NaN   NaN         NaN       0     12   \n",
       "\n",
       "  YrSold  SaleType  SaleCondition  SalePrice  \n",
       "0   2008        WD         Normal     208500  \n",
       "1   2007        WD         Normal     181500  \n",
       "2   2008        WD         Normal     223500  \n",
       "3   2006        WD        Abnorml     140000  \n",
       "4   2008        WD         Normal     250000  \n",
       "\n",
       "[5 rows x 81 columns]"
      ]
     },
     "execution_count": 344,
     "metadata": {},
     "output_type": "execute_result"
    }
   ],
   "source": [
    "df = pd.read_csv(\"train.csv\")\n",
    "df.head()"
   ]
  },
  {
   "cell_type": "markdown",
   "metadata": {},
   "source": [
    "Checking the shape of the dataframe"
   ]
  },
  {
   "cell_type": "code",
   "execution_count": 345,
   "metadata": {},
   "outputs": [
    {
     "data": {
      "text/plain": [
       "(1460, 81)"
      ]
     },
     "execution_count": 345,
     "metadata": {},
     "output_type": "execute_result"
    }
   ],
   "source": [
    "df.shape"
   ]
  },
  {
   "cell_type": "markdown",
   "metadata": {},
   "source": [
    "checking the data types and values using info()"
   ]
  },
  {
   "cell_type": "code",
   "execution_count": 346,
   "metadata": {},
   "outputs": [
    {
     "name": "stdout",
     "output_type": "stream",
     "text": [
      "<class 'pandas.core.frame.DataFrame'>\n",
      "RangeIndex: 1460 entries, 0 to 1459\n",
      "Data columns (total 81 columns):\n",
      " #   Column         Non-Null Count  Dtype  \n",
      "---  ------         --------------  -----  \n",
      " 0   Id             1460 non-null   int64  \n",
      " 1   MSSubClass     1460 non-null   int64  \n",
      " 2   MSZoning       1460 non-null   object \n",
      " 3   LotFrontage    1201 non-null   float64\n",
      " 4   LotArea        1460 non-null   int64  \n",
      " 5   Street         1460 non-null   object \n",
      " 6   Alley          91 non-null     object \n",
      " 7   LotShape       1460 non-null   object \n",
      " 8   LandContour    1460 non-null   object \n",
      " 9   Utilities      1460 non-null   object \n",
      " 10  LotConfig      1460 non-null   object \n",
      " 11  LandSlope      1460 non-null   object \n",
      " 12  Neighborhood   1460 non-null   object \n",
      " 13  Condition1     1460 non-null   object \n",
      " 14  Condition2     1460 non-null   object \n",
      " 15  BldgType       1460 non-null   object \n",
      " 16  HouseStyle     1460 non-null   object \n",
      " 17  OverallQual    1460 non-null   int64  \n",
      " 18  OverallCond    1460 non-null   int64  \n",
      " 19  YearBuilt      1460 non-null   int64  \n",
      " 20  YearRemodAdd   1460 non-null   int64  \n",
      " 21  RoofStyle      1460 non-null   object \n",
      " 22  RoofMatl       1460 non-null   object \n",
      " 23  Exterior1st    1460 non-null   object \n",
      " 24  Exterior2nd    1460 non-null   object \n",
      " 25  MasVnrType     588 non-null    object \n",
      " 26  MasVnrArea     1452 non-null   float64\n",
      " 27  ExterQual      1460 non-null   object \n",
      " 28  ExterCond      1460 non-null   object \n",
      " 29  Foundation     1460 non-null   object \n",
      " 30  BsmtQual       1423 non-null   object \n",
      " 31  BsmtCond       1423 non-null   object \n",
      " 32  BsmtExposure   1422 non-null   object \n",
      " 33  BsmtFinType1   1423 non-null   object \n",
      " 34  BsmtFinSF1     1460 non-null   int64  \n",
      " 35  BsmtFinType2   1422 non-null   object \n",
      " 36  BsmtFinSF2     1460 non-null   int64  \n",
      " 37  BsmtUnfSF      1460 non-null   int64  \n",
      " 38  TotalBsmtSF    1460 non-null   int64  \n",
      " 39  Heating        1460 non-null   object \n",
      " 40  HeatingQC      1460 non-null   object \n",
      " 41  CentralAir     1460 non-null   object \n",
      " 42  Electrical     1459 non-null   object \n",
      " 43  1stFlrSF       1460 non-null   int64  \n",
      " 44  2ndFlrSF       1460 non-null   int64  \n",
      " 45  LowQualFinSF   1460 non-null   int64  \n",
      " 46  GrLivArea      1460 non-null   int64  \n",
      " 47  BsmtFullBath   1460 non-null   int64  \n",
      " 48  BsmtHalfBath   1460 non-null   int64  \n",
      " 49  FullBath       1460 non-null   int64  \n",
      " 50  HalfBath       1460 non-null   int64  \n",
      " 51  BedroomAbvGr   1460 non-null   int64  \n",
      " 52  KitchenAbvGr   1460 non-null   int64  \n",
      " 53  KitchenQual    1460 non-null   object \n",
      " 54  TotRmsAbvGrd   1460 non-null   int64  \n",
      " 55  Functional     1460 non-null   object \n",
      " 56  Fireplaces     1460 non-null   int64  \n",
      " 57  FireplaceQu    770 non-null    object \n",
      " 58  GarageType     1379 non-null   object \n",
      " 59  GarageYrBlt    1379 non-null   float64\n",
      " 60  GarageFinish   1379 non-null   object \n",
      " 61  GarageCars     1460 non-null   int64  \n",
      " 62  GarageArea     1460 non-null   int64  \n",
      " 63  GarageQual     1379 non-null   object \n",
      " 64  GarageCond     1379 non-null   object \n",
      " 65  PavedDrive     1460 non-null   object \n",
      " 66  WoodDeckSF     1460 non-null   int64  \n",
      " 67  OpenPorchSF    1460 non-null   int64  \n",
      " 68  EnclosedPorch  1460 non-null   int64  \n",
      " 69  3SsnPorch      1460 non-null   int64  \n",
      " 70  ScreenPorch    1460 non-null   int64  \n",
      " 71  PoolArea       1460 non-null   int64  \n",
      " 72  PoolQC         7 non-null      object \n",
      " 73  Fence          281 non-null    object \n",
      " 74  MiscFeature    54 non-null     object \n",
      " 75  MiscVal        1460 non-null   int64  \n",
      " 76  MoSold         1460 non-null   int64  \n",
      " 77  YrSold         1460 non-null   int64  \n",
      " 78  SaleType       1460 non-null   object \n",
      " 79  SaleCondition  1460 non-null   object \n",
      " 80  SalePrice      1460 non-null   int64  \n",
      "dtypes: float64(3), int64(35), object(43)\n",
      "memory usage: 924.0+ KB\n"
     ]
    }
   ],
   "source": [
    "df.info()"
   ]
  },
  {
   "cell_type": "markdown",
   "metadata": {},
   "source": [
    "#### Data Cleaning"
   ]
  },
  {
   "cell_type": "markdown",
   "metadata": {},
   "source": [
    "Null values are present. Listing features having null values."
   ]
  },
  {
   "cell_type": "code",
   "execution_count": 347,
   "metadata": {},
   "outputs": [
    {
     "name": "stdout",
     "output_type": "stream",
     "text": [
      "No. of features with null values: 19\n",
      "No. of features without null values: 62\n"
     ]
    }
   ],
   "source": [
    "#Counting number of features with null values and without null values\n",
    "print(f\"No. of features with null values: {(df.isnull().sum() > 0).sum()}\")\n",
    "print(f\"No. of features without null values: {(df.isnull().sum() == 0).sum()}\")"
   ]
  },
  {
   "cell_type": "code",
   "execution_count": 348,
   "metadata": {},
   "outputs": [
    {
     "data": {
      "text/plain": [
       "{'LotFrontage': 259,\n",
       " 'Alley': 1369,\n",
       " 'MasVnrType': 872,\n",
       " 'MasVnrArea': 8,\n",
       " 'BsmtQual': 37,\n",
       " 'BsmtCond': 37,\n",
       " 'BsmtExposure': 38,\n",
       " 'BsmtFinType1': 37,\n",
       " 'BsmtFinType2': 38,\n",
       " 'Electrical': 1,\n",
       " 'FireplaceQu': 690,\n",
       " 'GarageType': 81,\n",
       " 'GarageYrBlt': 81,\n",
       " 'GarageFinish': 81,\n",
       " 'GarageQual': 81,\n",
       " 'GarageCond': 81,\n",
       " 'PoolQC': 1453,\n",
       " 'Fence': 1179,\n",
       " 'MiscFeature': 1406}"
      ]
     },
     "execution_count": 348,
     "metadata": {},
     "output_type": "execute_result"
    }
   ],
   "source": [
    "dic = dict(df.isnull().sum() != 0)\n",
    "lis_key = []\n",
    "for key, value in dic.items():\n",
    "    if value == True:\n",
    "        lis_key.append(key)\n",
    "dic1 = {}\n",
    "for i in lis_key:\n",
    "    dic1[i] = df[i].isnull().sum()\n",
    "\n",
    "dic1\n",
    "\n"
   ]
  },
  {
   "cell_type": "markdown",
   "metadata": {},
   "source": [
    "There are 7 nos features with significant number of null values. (1) Alley with 1369, (2) PoolQC with 1453, (3) Fence with 1179, (4) MiscFeature with 1406, (5) MasVnrType with 872, (6) FireplaceQu with 690 and (7) LotFrontage with 259. These number of rows if deleted wont leave enough datapoints to build a model. The least number of null values in the above is for LotFrontage with 259 null values which is ~18% of total datapoints which is not a small number.\n",
    "\n",
    "Therefore these 7 features are removed from the database since model cannot predict correctly the influence of these features. "
   ]
  },
  {
   "cell_type": "code",
   "execution_count": 349,
   "metadata": {},
   "outputs": [
    {
     "data": {
      "text/plain": [
       "(1460, 74)"
      ]
     },
     "execution_count": 349,
     "metadata": {},
     "output_type": "execute_result"
    }
   ],
   "source": [
    "#Dropping 7 nos features with significant number of null values\n",
    "df = df.drop(columns=['LotFrontage', 'Alley', 'MasVnrType', 'FireplaceQu', 'PoolQC', 'Fence', 'MiscFeature'], axis = 0)\n",
    "df.shape"
   ]
  },
  {
   "cell_type": "markdown",
   "metadata": {},
   "source": [
    "Dropping the column 'Id' since there is not contribution of the column to the model."
   ]
  },
  {
   "cell_type": "code",
   "execution_count": 350,
   "metadata": {},
   "outputs": [
    {
     "data": {
      "text/html": [
       "<div>\n",
       "<style scoped>\n",
       "    .dataframe tbody tr th:only-of-type {\n",
       "        vertical-align: middle;\n",
       "    }\n",
       "\n",
       "    .dataframe tbody tr th {\n",
       "        vertical-align: top;\n",
       "    }\n",
       "\n",
       "    .dataframe thead th {\n",
       "        text-align: right;\n",
       "    }\n",
       "</style>\n",
       "<table border=\"1\" class=\"dataframe\">\n",
       "  <thead>\n",
       "    <tr style=\"text-align: right;\">\n",
       "      <th></th>\n",
       "      <th>MSSubClass</th>\n",
       "      <th>MSZoning</th>\n",
       "      <th>LotArea</th>\n",
       "      <th>Street</th>\n",
       "      <th>LotShape</th>\n",
       "      <th>LandContour</th>\n",
       "      <th>Utilities</th>\n",
       "      <th>LotConfig</th>\n",
       "      <th>LandSlope</th>\n",
       "      <th>Neighborhood</th>\n",
       "      <th>...</th>\n",
       "      <th>EnclosedPorch</th>\n",
       "      <th>3SsnPorch</th>\n",
       "      <th>ScreenPorch</th>\n",
       "      <th>PoolArea</th>\n",
       "      <th>MiscVal</th>\n",
       "      <th>MoSold</th>\n",
       "      <th>YrSold</th>\n",
       "      <th>SaleType</th>\n",
       "      <th>SaleCondition</th>\n",
       "      <th>SalePrice</th>\n",
       "    </tr>\n",
       "  </thead>\n",
       "  <tbody>\n",
       "    <tr>\n",
       "      <th>0</th>\n",
       "      <td>60</td>\n",
       "      <td>RL</td>\n",
       "      <td>8450</td>\n",
       "      <td>Pave</td>\n",
       "      <td>Reg</td>\n",
       "      <td>Lvl</td>\n",
       "      <td>AllPub</td>\n",
       "      <td>Inside</td>\n",
       "      <td>Gtl</td>\n",
       "      <td>CollgCr</td>\n",
       "      <td>...</td>\n",
       "      <td>0</td>\n",
       "      <td>0</td>\n",
       "      <td>0</td>\n",
       "      <td>0</td>\n",
       "      <td>0</td>\n",
       "      <td>2</td>\n",
       "      <td>2008</td>\n",
       "      <td>WD</td>\n",
       "      <td>Normal</td>\n",
       "      <td>208500</td>\n",
       "    </tr>\n",
       "    <tr>\n",
       "      <th>1</th>\n",
       "      <td>20</td>\n",
       "      <td>RL</td>\n",
       "      <td>9600</td>\n",
       "      <td>Pave</td>\n",
       "      <td>Reg</td>\n",
       "      <td>Lvl</td>\n",
       "      <td>AllPub</td>\n",
       "      <td>FR2</td>\n",
       "      <td>Gtl</td>\n",
       "      <td>Veenker</td>\n",
       "      <td>...</td>\n",
       "      <td>0</td>\n",
       "      <td>0</td>\n",
       "      <td>0</td>\n",
       "      <td>0</td>\n",
       "      <td>0</td>\n",
       "      <td>5</td>\n",
       "      <td>2007</td>\n",
       "      <td>WD</td>\n",
       "      <td>Normal</td>\n",
       "      <td>181500</td>\n",
       "    </tr>\n",
       "    <tr>\n",
       "      <th>2</th>\n",
       "      <td>60</td>\n",
       "      <td>RL</td>\n",
       "      <td>11250</td>\n",
       "      <td>Pave</td>\n",
       "      <td>IR1</td>\n",
       "      <td>Lvl</td>\n",
       "      <td>AllPub</td>\n",
       "      <td>Inside</td>\n",
       "      <td>Gtl</td>\n",
       "      <td>CollgCr</td>\n",
       "      <td>...</td>\n",
       "      <td>0</td>\n",
       "      <td>0</td>\n",
       "      <td>0</td>\n",
       "      <td>0</td>\n",
       "      <td>0</td>\n",
       "      <td>9</td>\n",
       "      <td>2008</td>\n",
       "      <td>WD</td>\n",
       "      <td>Normal</td>\n",
       "      <td>223500</td>\n",
       "    </tr>\n",
       "    <tr>\n",
       "      <th>3</th>\n",
       "      <td>70</td>\n",
       "      <td>RL</td>\n",
       "      <td>9550</td>\n",
       "      <td>Pave</td>\n",
       "      <td>IR1</td>\n",
       "      <td>Lvl</td>\n",
       "      <td>AllPub</td>\n",
       "      <td>Corner</td>\n",
       "      <td>Gtl</td>\n",
       "      <td>Crawfor</td>\n",
       "      <td>...</td>\n",
       "      <td>272</td>\n",
       "      <td>0</td>\n",
       "      <td>0</td>\n",
       "      <td>0</td>\n",
       "      <td>0</td>\n",
       "      <td>2</td>\n",
       "      <td>2006</td>\n",
       "      <td>WD</td>\n",
       "      <td>Abnorml</td>\n",
       "      <td>140000</td>\n",
       "    </tr>\n",
       "    <tr>\n",
       "      <th>4</th>\n",
       "      <td>60</td>\n",
       "      <td>RL</td>\n",
       "      <td>14260</td>\n",
       "      <td>Pave</td>\n",
       "      <td>IR1</td>\n",
       "      <td>Lvl</td>\n",
       "      <td>AllPub</td>\n",
       "      <td>FR2</td>\n",
       "      <td>Gtl</td>\n",
       "      <td>NoRidge</td>\n",
       "      <td>...</td>\n",
       "      <td>0</td>\n",
       "      <td>0</td>\n",
       "      <td>0</td>\n",
       "      <td>0</td>\n",
       "      <td>0</td>\n",
       "      <td>12</td>\n",
       "      <td>2008</td>\n",
       "      <td>WD</td>\n",
       "      <td>Normal</td>\n",
       "      <td>250000</td>\n",
       "    </tr>\n",
       "  </tbody>\n",
       "</table>\n",
       "<p>5 rows × 73 columns</p>\n",
       "</div>"
      ],
      "text/plain": [
       "   MSSubClass MSZoning  LotArea Street LotShape LandContour Utilities  \\\n",
       "0          60       RL     8450   Pave      Reg         Lvl    AllPub   \n",
       "1          20       RL     9600   Pave      Reg         Lvl    AllPub   \n",
       "2          60       RL    11250   Pave      IR1         Lvl    AllPub   \n",
       "3          70       RL     9550   Pave      IR1         Lvl    AllPub   \n",
       "4          60       RL    14260   Pave      IR1         Lvl    AllPub   \n",
       "\n",
       "  LotConfig LandSlope Neighborhood  ... EnclosedPorch 3SsnPorch ScreenPorch  \\\n",
       "0    Inside       Gtl      CollgCr  ...             0         0           0   \n",
       "1       FR2       Gtl      Veenker  ...             0         0           0   \n",
       "2    Inside       Gtl      CollgCr  ...             0         0           0   \n",
       "3    Corner       Gtl      Crawfor  ...           272         0           0   \n",
       "4       FR2       Gtl      NoRidge  ...             0         0           0   \n",
       "\n",
       "  PoolArea  MiscVal  MoSold  YrSold  SaleType SaleCondition SalePrice  \n",
       "0        0        0       2    2008        WD        Normal    208500  \n",
       "1        0        0       5    2007        WD        Normal    181500  \n",
       "2        0        0       9    2008        WD        Normal    223500  \n",
       "3        0        0       2    2006        WD       Abnorml    140000  \n",
       "4        0        0      12    2008        WD        Normal    250000  \n",
       "\n",
       "[5 rows x 73 columns]"
      ]
     },
     "execution_count": 350,
     "metadata": {},
     "output_type": "execute_result"
    }
   ],
   "source": [
    "#Dropping column 'Id' which is irrelevant\n",
    "df = df.drop(columns = ['Id'])\n",
    "df.head()\n"
   ]
  },
  {
   "cell_type": "code",
   "execution_count": 351,
   "metadata": {},
   "outputs": [
    {
     "data": {
      "text/plain": [
       "(1460, 73)"
      ]
     },
     "execution_count": 351,
     "metadata": {},
     "output_type": "execute_result"
    }
   ],
   "source": [
    "df.shape"
   ]
  },
  {
   "cell_type": "markdown",
   "metadata": {},
   "source": [
    "The new shape of dataframe is 1460,73 (previously 1460,81) after dropping 8 nos columns mentioned above"
   ]
  },
  {
   "cell_type": "markdown",
   "metadata": {},
   "source": [
    "Checking for null values again"
   ]
  },
  {
   "cell_type": "code",
   "execution_count": 352,
   "metadata": {},
   "outputs": [
    {
     "data": {
      "text/plain": [
       "12"
      ]
     },
     "execution_count": 352,
     "metadata": {},
     "output_type": "execute_result"
    }
   ],
   "source": [
    "(df.isnull().sum() != 0).sum()"
   ]
  },
  {
   "cell_type": "code",
   "execution_count": 353,
   "metadata": {},
   "outputs": [
    {
     "data": {
      "text/plain": [
       "{'MasVnrArea': 8,\n",
       " 'BsmtQual': 37,\n",
       " 'BsmtCond': 37,\n",
       " 'BsmtExposure': 38,\n",
       " 'BsmtFinType1': 37,\n",
       " 'BsmtFinType2': 38,\n",
       " 'Electrical': 1,\n",
       " 'GarageType': 81,\n",
       " 'GarageYrBlt': 81,\n",
       " 'GarageFinish': 81,\n",
       " 'GarageQual': 81,\n",
       " 'GarageCond': 81}"
      ]
     },
     "execution_count": 353,
     "metadata": {},
     "output_type": "execute_result"
    }
   ],
   "source": [
    "dic = dict(df.isnull().sum() != 0)\n",
    "lis_key = []\n",
    "for key, value in dic.items():\n",
    "    if value == True:\n",
    "        lis_key.append(key)\n",
    "dic1 = {}\n",
    "for i in lis_key:\n",
    "    dic1[i] = df[i].isnull().sum()\n",
    "\n",
    "dic1\n"
   ]
  },
  {
   "cell_type": "markdown",
   "metadata": {},
   "source": [
    "There are 12 columns with null values still, it is better to drop rows with null values."
   ]
  },
  {
   "cell_type": "code",
   "execution_count": 354,
   "metadata": {},
   "outputs": [
    {
     "data": {
      "text/plain": [
       "(1338, 73)"
      ]
     },
     "execution_count": 354,
     "metadata": {},
     "output_type": "execute_result"
    }
   ],
   "source": [
    "#dropping rows with null values\n",
    "df = df.dropna()\n",
    "df.shape"
   ]
  },
  {
   "cell_type": "markdown",
   "metadata": {},
   "source": [
    "For the remaining features with lesser null values, those rows are removed. the new shape is 1338, 73. 122 rows are removed which is just 8% of the total number of datapoints. Still 1338 is a good number of datapoints"
   ]
  },
  {
   "cell_type": "code",
   "execution_count": 355,
   "metadata": {},
   "outputs": [
    {
     "data": {
      "text/plain": [
       "0"
      ]
     },
     "execution_count": 355,
     "metadata": {},
     "output_type": "execute_result"
    }
   ],
   "source": [
    "(df.isnull().sum() != 0).sum()"
   ]
  },
  {
   "cell_type": "markdown",
   "metadata": {},
   "source": [
    "Now, there are no null values in the new dataframe"
   ]
  },
  {
   "cell_type": "code",
   "execution_count": 356,
   "metadata": {},
   "outputs": [
    {
     "name": "stdout",
     "output_type": "stream",
     "text": [
      "<class 'pandas.core.frame.DataFrame'>\n",
      "Index: 1338 entries, 0 to 1459\n",
      "Data columns (total 73 columns):\n",
      " #   Column         Non-Null Count  Dtype  \n",
      "---  ------         --------------  -----  \n",
      " 0   MSSubClass     1338 non-null   int64  \n",
      " 1   MSZoning       1338 non-null   object \n",
      " 2   LotArea        1338 non-null   int64  \n",
      " 3   Street         1338 non-null   object \n",
      " 4   LotShape       1338 non-null   object \n",
      " 5   LandContour    1338 non-null   object \n",
      " 6   Utilities      1338 non-null   object \n",
      " 7   LotConfig      1338 non-null   object \n",
      " 8   LandSlope      1338 non-null   object \n",
      " 9   Neighborhood   1338 non-null   object \n",
      " 10  Condition1     1338 non-null   object \n",
      " 11  Condition2     1338 non-null   object \n",
      " 12  BldgType       1338 non-null   object \n",
      " 13  HouseStyle     1338 non-null   object \n",
      " 14  OverallQual    1338 non-null   int64  \n",
      " 15  OverallCond    1338 non-null   int64  \n",
      " 16  YearBuilt      1338 non-null   int64  \n",
      " 17  YearRemodAdd   1338 non-null   int64  \n",
      " 18  RoofStyle      1338 non-null   object \n",
      " 19  RoofMatl       1338 non-null   object \n",
      " 20  Exterior1st    1338 non-null   object \n",
      " 21  Exterior2nd    1338 non-null   object \n",
      " 22  MasVnrArea     1338 non-null   float64\n",
      " 23  ExterQual      1338 non-null   object \n",
      " 24  ExterCond      1338 non-null   object \n",
      " 25  Foundation     1338 non-null   object \n",
      " 26  BsmtQual       1338 non-null   object \n",
      " 27  BsmtCond       1338 non-null   object \n",
      " 28  BsmtExposure   1338 non-null   object \n",
      " 29  BsmtFinType1   1338 non-null   object \n",
      " 30  BsmtFinSF1     1338 non-null   int64  \n",
      " 31  BsmtFinType2   1338 non-null   object \n",
      " 32  BsmtFinSF2     1338 non-null   int64  \n",
      " 33  BsmtUnfSF      1338 non-null   int64  \n",
      " 34  TotalBsmtSF    1338 non-null   int64  \n",
      " 35  Heating        1338 non-null   object \n",
      " 36  HeatingQC      1338 non-null   object \n",
      " 37  CentralAir     1338 non-null   object \n",
      " 38  Electrical     1338 non-null   object \n",
      " 39  1stFlrSF       1338 non-null   int64  \n",
      " 40  2ndFlrSF       1338 non-null   int64  \n",
      " 41  LowQualFinSF   1338 non-null   int64  \n",
      " 42  GrLivArea      1338 non-null   int64  \n",
      " 43  BsmtFullBath   1338 non-null   int64  \n",
      " 44  BsmtHalfBath   1338 non-null   int64  \n",
      " 45  FullBath       1338 non-null   int64  \n",
      " 46  HalfBath       1338 non-null   int64  \n",
      " 47  BedroomAbvGr   1338 non-null   int64  \n",
      " 48  KitchenAbvGr   1338 non-null   int64  \n",
      " 49  KitchenQual    1338 non-null   object \n",
      " 50  TotRmsAbvGrd   1338 non-null   int64  \n",
      " 51  Functional     1338 non-null   object \n",
      " 52  Fireplaces     1338 non-null   int64  \n",
      " 53  GarageType     1338 non-null   object \n",
      " 54  GarageYrBlt    1338 non-null   float64\n",
      " 55  GarageFinish   1338 non-null   object \n",
      " 56  GarageCars     1338 non-null   int64  \n",
      " 57  GarageArea     1338 non-null   int64  \n",
      " 58  GarageQual     1338 non-null   object \n",
      " 59  GarageCond     1338 non-null   object \n",
      " 60  PavedDrive     1338 non-null   object \n",
      " 61  WoodDeckSF     1338 non-null   int64  \n",
      " 62  OpenPorchSF    1338 non-null   int64  \n",
      " 63  EnclosedPorch  1338 non-null   int64  \n",
      " 64  3SsnPorch      1338 non-null   int64  \n",
      " 65  ScreenPorch    1338 non-null   int64  \n",
      " 66  PoolArea       1338 non-null   int64  \n",
      " 67  MiscVal        1338 non-null   int64  \n",
      " 68  MoSold         1338 non-null   int64  \n",
      " 69  YrSold         1338 non-null   int64  \n",
      " 70  SaleType       1338 non-null   object \n",
      " 71  SaleCondition  1338 non-null   object \n",
      " 72  SalePrice      1338 non-null   int64  \n",
      "dtypes: float64(2), int64(34), object(37)\n",
      "memory usage: 773.5+ KB\n"
     ]
    }
   ],
   "source": [
    "df.info()"
   ]
  },
  {
   "cell_type": "markdown",
   "metadata": {},
   "source": [
    "Lists of categorical variables and numerical variables are prepared based on the data analysis<br>List of categorical variables (32 nos, after removing null values during data cleaning)<br>\n",
    "List of numerical variables (41 nos after removing null values during data cleaning)"
   ]
  },
  {
   "cell_type": "code",
   "execution_count": 357,
   "metadata": {},
   "outputs": [
    {
     "name": "stdout",
     "output_type": "stream",
     "text": [
      "32\n",
      "41\n"
     ]
    }
   ],
   "source": [
    "#List of categorical variables after removing null values\n",
    "cat_list = ['MSSubClass', 'MSZoning', 'Street', 'LotShape', 'LandContour', 'Utilities', 'LotConfig', 'LandSlope',  'Neighborhood', 'Condition1', 'Condition2', 'BldgType', 'HouseStyle', 'OverallQual', 'OverallCond', 'RoofStyle', 'RoofMatl','Exterior1st','Exterior2nd', 'ExterQual', 'ExterCond', 'Foundation', 'BsmtQual', 'BsmtCond', 'BsmtExposure', 'BsmtFinType1', 'BsmtFinType2', 'HeatingQC', 'CentralAir', 'Electrical', 'SaleType','SaleCondition','KitchenQual', 'Functional', 'GarageType', 'GarageFinish', 'GarageQual', 'GarageCond', 'PavedDrive', 'MoSold', 'Heating']\n",
    "#List of numerical variables after removing null values\n",
    "num_list = ['LotArea', 'YearBuilt', 'YearRemodAdd', 'MasVnrArea', 'BsmtFinSF1',  'BsmtFinSF2', 'BsmtUnfSF', 'TotalBsmtSF', '1stFlrSF', '2ndFlrSF', 'LowQualFinSF', 'GrLivArea', 'BsmtFullBath', 'BsmtHalfBath', 'FullBath', 'HalfBath', 'BedroomAbvGr','KitchenAbvGr','TotRmsAbvGrd','Fireplaces','GarageYrBlt','GarageCars','GarageArea','WoodDeckSF','OpenPorchSF', 'EnclosedPorch','3SsnPorch','ScreenPorch','PoolArea','MiscVal','YrSold','SalePrice' ]\n",
    "print(len(num_list))\n",
    "print(len(cat_list))"
   ]
  },
  {
   "cell_type": "markdown",
   "metadata": {},
   "source": [
    "#### Handling outliers"
   ]
  },
  {
   "cell_type": "code",
   "execution_count": 358,
   "metadata": {},
   "outputs": [
    {
     "data": {
      "text/html": [
       "<div>\n",
       "<style scoped>\n",
       "    .dataframe tbody tr th:only-of-type {\n",
       "        vertical-align: middle;\n",
       "    }\n",
       "\n",
       "    .dataframe tbody tr th {\n",
       "        vertical-align: top;\n",
       "    }\n",
       "\n",
       "    .dataframe thead th {\n",
       "        text-align: right;\n",
       "    }\n",
       "</style>\n",
       "<table border=\"1\" class=\"dataframe\">\n",
       "  <thead>\n",
       "    <tr style=\"text-align: right;\">\n",
       "      <th></th>\n",
       "      <th>LotArea</th>\n",
       "      <th>YearBuilt</th>\n",
       "      <th>YearRemodAdd</th>\n",
       "      <th>MasVnrArea</th>\n",
       "      <th>BsmtFinSF1</th>\n",
       "      <th>BsmtFinSF2</th>\n",
       "      <th>BsmtUnfSF</th>\n",
       "      <th>TotalBsmtSF</th>\n",
       "      <th>1stFlrSF</th>\n",
       "      <th>2ndFlrSF</th>\n",
       "      <th>...</th>\n",
       "      <th>GarageArea</th>\n",
       "      <th>WoodDeckSF</th>\n",
       "      <th>OpenPorchSF</th>\n",
       "      <th>EnclosedPorch</th>\n",
       "      <th>3SsnPorch</th>\n",
       "      <th>ScreenPorch</th>\n",
       "      <th>PoolArea</th>\n",
       "      <th>MiscVal</th>\n",
       "      <th>YrSold</th>\n",
       "      <th>SalePrice</th>\n",
       "    </tr>\n",
       "  </thead>\n",
       "  <tbody>\n",
       "    <tr>\n",
       "      <th>count</th>\n",
       "      <td>1338.000000</td>\n",
       "      <td>1338.000000</td>\n",
       "      <td>1338.000000</td>\n",
       "      <td>1338.000000</td>\n",
       "      <td>1338.000000</td>\n",
       "      <td>1338.000000</td>\n",
       "      <td>1338.000000</td>\n",
       "      <td>1338.000000</td>\n",
       "      <td>1338.000000</td>\n",
       "      <td>1338.000000</td>\n",
       "      <td>...</td>\n",
       "      <td>1338.000000</td>\n",
       "      <td>1338.000000</td>\n",
       "      <td>1338.000000</td>\n",
       "      <td>1338.000000</td>\n",
       "      <td>1338.000000</td>\n",
       "      <td>1338.00000</td>\n",
       "      <td>1338.000000</td>\n",
       "      <td>1338.000000</td>\n",
       "      <td>1338.000000</td>\n",
       "      <td>1338.000000</td>\n",
       "    </tr>\n",
       "    <tr>\n",
       "      <th>mean</th>\n",
       "      <td>10706.294469</td>\n",
       "      <td>1973.029148</td>\n",
       "      <td>1985.668909</td>\n",
       "      <td>110.360239</td>\n",
       "      <td>464.234679</td>\n",
       "      <td>49.218236</td>\n",
       "      <td>582.494768</td>\n",
       "      <td>1095.947683</td>\n",
       "      <td>1176.221973</td>\n",
       "      <td>357.141256</td>\n",
       "      <td>...</td>\n",
       "      <td>501.449925</td>\n",
       "      <td>99.384903</td>\n",
       "      <td>47.782511</td>\n",
       "      <td>21.263827</td>\n",
       "      <td>3.585949</td>\n",
       "      <td>16.43423</td>\n",
       "      <td>3.010463</td>\n",
       "      <td>42.932735</td>\n",
       "      <td>2007.805680</td>\n",
       "      <td>186761.782511</td>\n",
       "    </tr>\n",
       "    <tr>\n",
       "      <th>std</th>\n",
       "      <td>10336.621126</td>\n",
       "      <td>29.563540</td>\n",
       "      <td>20.296463</td>\n",
       "      <td>185.604816</td>\n",
       "      <td>458.792420</td>\n",
       "      <td>166.196584</td>\n",
       "      <td>439.950528</td>\n",
       "      <td>405.554435</td>\n",
       "      <td>386.644986</td>\n",
       "      <td>440.324982</td>\n",
       "      <td>...</td>\n",
       "      <td>186.761863</td>\n",
       "      <td>127.537065</td>\n",
       "      <td>65.362562</td>\n",
       "      <td>60.843964</td>\n",
       "      <td>30.224622</td>\n",
       "      <td>58.05159</td>\n",
       "      <td>41.961337</td>\n",
       "      <td>508.056255</td>\n",
       "      <td>1.330691</td>\n",
       "      <td>78913.847668</td>\n",
       "    </tr>\n",
       "    <tr>\n",
       "      <th>min</th>\n",
       "      <td>1300.000000</td>\n",
       "      <td>1880.000000</td>\n",
       "      <td>1950.000000</td>\n",
       "      <td>0.000000</td>\n",
       "      <td>0.000000</td>\n",
       "      <td>0.000000</td>\n",
       "      <td>0.000000</td>\n",
       "      <td>105.000000</td>\n",
       "      <td>438.000000</td>\n",
       "      <td>0.000000</td>\n",
       "      <td>...</td>\n",
       "      <td>160.000000</td>\n",
       "      <td>0.000000</td>\n",
       "      <td>0.000000</td>\n",
       "      <td>0.000000</td>\n",
       "      <td>0.000000</td>\n",
       "      <td>0.00000</td>\n",
       "      <td>0.000000</td>\n",
       "      <td>0.000000</td>\n",
       "      <td>2006.000000</td>\n",
       "      <td>35311.000000</td>\n",
       "    </tr>\n",
       "    <tr>\n",
       "      <th>25%</th>\n",
       "      <td>7744.000000</td>\n",
       "      <td>1956.000000</td>\n",
       "      <td>1968.000000</td>\n",
       "      <td>0.000000</td>\n",
       "      <td>0.000000</td>\n",
       "      <td>0.000000</td>\n",
       "      <td>248.000000</td>\n",
       "      <td>819.750000</td>\n",
       "      <td>894.000000</td>\n",
       "      <td>0.000000</td>\n",
       "      <td>...</td>\n",
       "      <td>377.500000</td>\n",
       "      <td>0.000000</td>\n",
       "      <td>0.000000</td>\n",
       "      <td>0.000000</td>\n",
       "      <td>0.000000</td>\n",
       "      <td>0.00000</td>\n",
       "      <td>0.000000</td>\n",
       "      <td>0.000000</td>\n",
       "      <td>2007.000000</td>\n",
       "      <td>135000.000000</td>\n",
       "    </tr>\n",
       "    <tr>\n",
       "      <th>50%</th>\n",
       "      <td>9600.000000</td>\n",
       "      <td>1976.000000</td>\n",
       "      <td>1994.500000</td>\n",
       "      <td>0.000000</td>\n",
       "      <td>413.000000</td>\n",
       "      <td>0.000000</td>\n",
       "      <td>489.000000</td>\n",
       "      <td>1021.500000</td>\n",
       "      <td>1098.000000</td>\n",
       "      <td>0.000000</td>\n",
       "      <td>...</td>\n",
       "      <td>484.000000</td>\n",
       "      <td>6.000000</td>\n",
       "      <td>28.000000</td>\n",
       "      <td>0.000000</td>\n",
       "      <td>0.000000</td>\n",
       "      <td>0.00000</td>\n",
       "      <td>0.000000</td>\n",
       "      <td>0.000000</td>\n",
       "      <td>2008.000000</td>\n",
       "      <td>168500.000000</td>\n",
       "    </tr>\n",
       "    <tr>\n",
       "      <th>75%</th>\n",
       "      <td>11760.750000</td>\n",
       "      <td>2001.000000</td>\n",
       "      <td>2004.000000</td>\n",
       "      <td>174.000000</td>\n",
       "      <td>733.000000</td>\n",
       "      <td>0.000000</td>\n",
       "      <td>815.750000</td>\n",
       "      <td>1324.000000</td>\n",
       "      <td>1414.000000</td>\n",
       "      <td>740.500000</td>\n",
       "      <td>...</td>\n",
       "      <td>583.000000</td>\n",
       "      <td>174.500000</td>\n",
       "      <td>70.000000</td>\n",
       "      <td>0.000000</td>\n",
       "      <td>0.000000</td>\n",
       "      <td>0.00000</td>\n",
       "      <td>0.000000</td>\n",
       "      <td>0.000000</td>\n",
       "      <td>2009.000000</td>\n",
       "      <td>220000.000000</td>\n",
       "    </tr>\n",
       "    <tr>\n",
       "      <th>max</th>\n",
       "      <td>215245.000000</td>\n",
       "      <td>2010.000000</td>\n",
       "      <td>2010.000000</td>\n",
       "      <td>1600.000000</td>\n",
       "      <td>5644.000000</td>\n",
       "      <td>1474.000000</td>\n",
       "      <td>2336.000000</td>\n",
       "      <td>6110.000000</td>\n",
       "      <td>4692.000000</td>\n",
       "      <td>2065.000000</td>\n",
       "      <td>...</td>\n",
       "      <td>1418.000000</td>\n",
       "      <td>857.000000</td>\n",
       "      <td>547.000000</td>\n",
       "      <td>552.000000</td>\n",
       "      <td>508.000000</td>\n",
       "      <td>480.00000</td>\n",
       "      <td>738.000000</td>\n",
       "      <td>15500.000000</td>\n",
       "      <td>2010.000000</td>\n",
       "      <td>755000.000000</td>\n",
       "    </tr>\n",
       "  </tbody>\n",
       "</table>\n",
       "<p>8 rows × 32 columns</p>\n",
       "</div>"
      ],
      "text/plain": [
       "             LotArea    YearBuilt  YearRemodAdd   MasVnrArea   BsmtFinSF1  \\\n",
       "count    1338.000000  1338.000000   1338.000000  1338.000000  1338.000000   \n",
       "mean    10706.294469  1973.029148   1985.668909   110.360239   464.234679   \n",
       "std     10336.621126    29.563540     20.296463   185.604816   458.792420   \n",
       "min      1300.000000  1880.000000   1950.000000     0.000000     0.000000   \n",
       "25%      7744.000000  1956.000000   1968.000000     0.000000     0.000000   \n",
       "50%      9600.000000  1976.000000   1994.500000     0.000000   413.000000   \n",
       "75%     11760.750000  2001.000000   2004.000000   174.000000   733.000000   \n",
       "max    215245.000000  2010.000000   2010.000000  1600.000000  5644.000000   \n",
       "\n",
       "        BsmtFinSF2    BsmtUnfSF  TotalBsmtSF     1stFlrSF     2ndFlrSF  ...  \\\n",
       "count  1338.000000  1338.000000  1338.000000  1338.000000  1338.000000  ...   \n",
       "mean     49.218236   582.494768  1095.947683  1176.221973   357.141256  ...   \n",
       "std     166.196584   439.950528   405.554435   386.644986   440.324982  ...   \n",
       "min       0.000000     0.000000   105.000000   438.000000     0.000000  ...   \n",
       "25%       0.000000   248.000000   819.750000   894.000000     0.000000  ...   \n",
       "50%       0.000000   489.000000  1021.500000  1098.000000     0.000000  ...   \n",
       "75%       0.000000   815.750000  1324.000000  1414.000000   740.500000  ...   \n",
       "max    1474.000000  2336.000000  6110.000000  4692.000000  2065.000000  ...   \n",
       "\n",
       "        GarageArea   WoodDeckSF  OpenPorchSF  EnclosedPorch    3SsnPorch  \\\n",
       "count  1338.000000  1338.000000  1338.000000    1338.000000  1338.000000   \n",
       "mean    501.449925    99.384903    47.782511      21.263827     3.585949   \n",
       "std     186.761863   127.537065    65.362562      60.843964    30.224622   \n",
       "min     160.000000     0.000000     0.000000       0.000000     0.000000   \n",
       "25%     377.500000     0.000000     0.000000       0.000000     0.000000   \n",
       "50%     484.000000     6.000000    28.000000       0.000000     0.000000   \n",
       "75%     583.000000   174.500000    70.000000       0.000000     0.000000   \n",
       "max    1418.000000   857.000000   547.000000     552.000000   508.000000   \n",
       "\n",
       "       ScreenPorch     PoolArea       MiscVal       YrSold      SalePrice  \n",
       "count   1338.00000  1338.000000   1338.000000  1338.000000    1338.000000  \n",
       "mean      16.43423     3.010463     42.932735  2007.805680  186761.782511  \n",
       "std       58.05159    41.961337    508.056255     1.330691   78913.847668  \n",
       "min        0.00000     0.000000      0.000000  2006.000000   35311.000000  \n",
       "25%        0.00000     0.000000      0.000000  2007.000000  135000.000000  \n",
       "50%        0.00000     0.000000      0.000000  2008.000000  168500.000000  \n",
       "75%        0.00000     0.000000      0.000000  2009.000000  220000.000000  \n",
       "max      480.00000   738.000000  15500.000000  2010.000000  755000.000000  \n",
       "\n",
       "[8 rows x 32 columns]"
      ]
     },
     "execution_count": 358,
     "metadata": {},
     "output_type": "execute_result"
    }
   ],
   "source": [
    "df[num_list].describe()"
   ]
  },
  {
   "cell_type": "code",
   "execution_count": 359,
   "metadata": {},
   "outputs": [],
   "source": [
    "#Copying the existing dataframe to a new dataframe which is a dataframe after handling outliers\n",
    "df_clean = df"
   ]
  },
  {
   "cell_type": "markdown",
   "metadata": {},
   "source": [
    "#### Plotting box plots of numerical variables, removing outliers and replotting the boxplot as a check.<br> This is done for all numerical variables<br> Outliers are not removed in cases where there are no significant numbers"
   ]
  },
  {
   "cell_type": "code",
   "execution_count": 360,
   "metadata": {},
   "outputs": [
    {
     "data": {
      "text/plain": [
       "<AxesSubplot:ylabel='LotArea'>"
      ]
     },
     "execution_count": 360,
     "metadata": {},
     "output_type": "execute_result"
    },
    {
     "data": {
      "image/png": "[encoded data removed]",
      "text/plain": [
       "<Figure size 640x480 with 1 Axes>"
      ]
     },
     "metadata": {},
     "output_type": "display_data"
    }
   ],
   "source": [
    "sns.boxplot(df['LotArea'])"
   ]
  },
  {
   "cell_type": "code",
   "execution_count": 361,
   "metadata": {},
   "outputs": [
    {
     "data": {
      "text/plain": [
       "<AxesSubplot:ylabel='LotArea'>"
      ]
     },
     "execution_count": 361,
     "metadata": {},
     "output_type": "execute_result"
    },
    {
     "data": {
      "image/png": "[encoded data removed]",
      "text/plain": [
       "<Figure size 640x480 with 1 Axes>"
      ]
     },
     "metadata": {},
     "output_type": "display_data"
    }
   ],
   "source": [
    "df_clean = df_clean.loc[df_clean['LotArea'] <= 20000]  \n",
    "sns.boxplot(df_clean['LotArea'])"
   ]
  },
  {
   "cell_type": "code",
   "execution_count": 362,
   "metadata": {},
   "outputs": [
    {
     "data": {
      "text/plain": [
       "<AxesSubplot:ylabel='MasVnrArea'>"
      ]
     },
     "execution_count": 362,
     "metadata": {},
     "output_type": "execute_result"
    },
    {
     "data": {
      "image/png": "[encoded data removed]",
      "text/plain": [
       "<Figure size 640x480 with 1 Axes>"
      ]
     },
     "metadata": {},
     "output_type": "display_data"
    }
   ],
   "source": [
    "sns.boxplot(df_clean['MasVnrArea'])"
   ]
  },
  {
   "cell_type": "code",
   "execution_count": 363,
   "metadata": {},
   "outputs": [
    {
     "data": {
      "text/plain": [
       "<AxesSubplot:ylabel='MasVnrArea'>"
      ]
     },
     "execution_count": 363,
     "metadata": {},
     "output_type": "execute_result"
    },
    {
     "data": {
      "image/png": "[encoded data removed]",
      "text/plain": [
       "<Figure size 640x480 with 1 Axes>"
      ]
     },
     "metadata": {},
     "output_type": "display_data"
    }
   ],
   "source": [
    "df_clean = df_clean.loc[df_clean['MasVnrArea'] <= 450]  \n",
    "sns.boxplot(df_clean['MasVnrArea'])"
   ]
  },
  {
   "cell_type": "code",
   "execution_count": 364,
   "metadata": {},
   "outputs": [
    {
     "data": {
      "text/plain": [
       "<AxesSubplot:ylabel='BsmtFinSF1'>"
      ]
     },
     "execution_count": 364,
     "metadata": {},
     "output_type": "execute_result"
    },
    {
     "data": {
      "image/png": "[encoded data removed]",
      "text/plain": [
       "<Figure size 640x480 with 1 Axes>"
      ]
     },
     "metadata": {},
     "output_type": "display_data"
    }
   ],
   "source": [
    "sns.boxplot(df_clean['BsmtFinSF1'])"
   ]
  },
  {
   "cell_type": "code",
   "execution_count": 365,
   "metadata": {},
   "outputs": [
    {
     "data": {
      "text/plain": [
       "<AxesSubplot:ylabel='BsmtFinSF2'>"
      ]
     },
     "execution_count": 365,
     "metadata": {},
     "output_type": "execute_result"
    },
    {
     "data": {
      "image/png": "[encoded data removed]",
      "text/plain": [
       "<Figure size 640x480 with 1 Axes>"
      ]
     },
     "metadata": {},
     "output_type": "display_data"
    }
   ],
   "source": [
    "sns.boxplot(df_clean['BsmtFinSF2'])"
   ]
  },
  {
   "cell_type": "code",
   "execution_count": 366,
   "metadata": {},
   "outputs": [
    {
     "data": {
      "text/plain": [
       "<AxesSubplot:ylabel='BsmtFinSF2'>"
      ]
     },
     "execution_count": 366,
     "metadata": {},
     "output_type": "execute_result"
    },
    {
     "data": {
      "image/png": "[encoded data removed]",
      "text/plain": [
       "<Figure size 640x480 with 1 Axes>"
      ]
     },
     "metadata": {},
     "output_type": "display_data"
    }
   ],
   "source": [
    "df_clean = df_clean.loc[df_clean['BsmtFinSF2'] <= 20]  \n",
    "sns.boxplot(df_clean['BsmtFinSF2'])"
   ]
  },
  {
   "cell_type": "code",
   "execution_count": 367,
   "metadata": {},
   "outputs": [
    {
     "data": {
      "text/plain": [
       "<AxesSubplot:ylabel='BsmtUnfSF'>"
      ]
     },
     "execution_count": 367,
     "metadata": {},
     "output_type": "execute_result"
    },
    {
     "data": {
      "image/png": "[encoded data removed]",
      "text/plain": [
       "<Figure size 640x480 with 1 Axes>"
      ]
     },
     "metadata": {},
     "output_type": "display_data"
    }
   ],
   "source": [
    "sns.boxplot(df_clean['BsmtUnfSF'])"
   ]
  },
  {
   "cell_type": "code",
   "execution_count": 368,
   "metadata": {},
   "outputs": [
    {
     "data": {
      "text/plain": [
       "<AxesSubplot:ylabel='BsmtUnfSF'>"
      ]
     },
     "execution_count": 368,
     "metadata": {},
     "output_type": "execute_result"
    },
    {
     "data": {
      "image/png": "[encoded data removed]",
      "text/plain": [
       "<Figure size 640x480 with 1 Axes>"
      ]
     },
     "metadata": {},
     "output_type": "display_data"
    }
   ],
   "source": [
    "df_clean = df_clean.loc[df_clean['BsmtUnfSF'] <= 1800]  \n",
    "sns.boxplot(df_clean['BsmtUnfSF'])"
   ]
  },
  {
   "cell_type": "code",
   "execution_count": 369,
   "metadata": {},
   "outputs": [
    {
     "data": {
      "text/plain": [
       "<AxesSubplot:ylabel='TotalBsmtSF'>"
      ]
     },
     "execution_count": 369,
     "metadata": {},
     "output_type": "execute_result"
    },
    {
     "data": {
      "image/png": "[encoded data removed]",
      "text/plain": [
       "<Figure size 640x480 with 1 Axes>"
      ]
     },
     "metadata": {},
     "output_type": "display_data"
    }
   ],
   "source": [
    "sns.boxplot(df_clean['TotalBsmtSF'])"
   ]
  },
  {
   "cell_type": "code",
   "execution_count": 370,
   "metadata": {},
   "outputs": [
    {
     "data": {
      "text/plain": [
       "<AxesSubplot:ylabel='1stFlrSF'>"
      ]
     },
     "execution_count": 370,
     "metadata": {},
     "output_type": "execute_result"
    },
    {
     "data": {
      "image/png": "[encoded data removed]",
      "text/plain": [
       "<Figure size 640x480 with 1 Axes>"
      ]
     },
     "metadata": {},
     "output_type": "display_data"
    }
   ],
   "source": [
    "sns.boxplot(df_clean['1stFlrSF'])"
   ]
  },
  {
   "cell_type": "code",
   "execution_count": 371,
   "metadata": {},
   "outputs": [
    {
     "data": {
      "text/plain": [
       "<AxesSubplot:ylabel='2ndFlrSF'>"
      ]
     },
     "execution_count": 371,
     "metadata": {},
     "output_type": "execute_result"
    },
    {
     "data": {
      "image/png": "[encoded data removed]",
      "text/plain": [
       "<Figure size 640x480 with 1 Axes>"
      ]
     },
     "metadata": {},
     "output_type": "display_data"
    }
   ],
   "source": [
    "\n",
    "sns.boxplot(df_clean['2ndFlrSF'])"
   ]
  },
  {
   "cell_type": "code",
   "execution_count": 372,
   "metadata": {},
   "outputs": [
    {
     "data": {
      "text/plain": [
       "<AxesSubplot:ylabel='LowQualFinSF'>"
      ]
     },
     "execution_count": 372,
     "metadata": {},
     "output_type": "execute_result"
    },
    {
     "data": {
      "image/png": "[encoded data removed]",
      "text/plain": [
       "<Figure size 640x480 with 1 Axes>"
      ]
     },
     "metadata": {},
     "output_type": "display_data"
    }
   ],
   "source": [
    "\n",
    "sns.boxplot(df_clean['LowQualFinSF'])"
   ]
  },
  {
   "cell_type": "code",
   "execution_count": 373,
   "metadata": {},
   "outputs": [
    {
     "data": {
      "text/plain": [
       "<AxesSubplot:ylabel='LowQualFinSF'>"
      ]
     },
     "execution_count": 373,
     "metadata": {},
     "output_type": "execute_result"
    },
    {
     "data": {
      "image/png": "[encoded data removed]",
      "text/plain": [
       "<Figure size 640x480 with 1 Axes>"
      ]
     },
     "metadata": {},
     "output_type": "display_data"
    }
   ],
   "source": [
    "df_clean = df_clean.loc[df_clean['LowQualFinSF'] <= 20]  \n",
    "sns.boxplot(df_clean['LowQualFinSF'])"
   ]
  },
  {
   "cell_type": "code",
   "execution_count": 374,
   "metadata": {},
   "outputs": [
    {
     "data": {
      "text/plain": [
       "<AxesSubplot:ylabel='GrLivArea'>"
      ]
     },
     "execution_count": 374,
     "metadata": {},
     "output_type": "execute_result"
    },
    {
     "data": {
      "image/png": "[encoded data removed]",
      "text/plain": [
       "<Figure size 640x480 with 1 Axes>"
      ]
     },
     "metadata": {},
     "output_type": "display_data"
    }
   ],
   "source": [
    "sns.boxplot(df_clean['GrLivArea'])"
   ]
  },
  {
   "cell_type": "code",
   "execution_count": 375,
   "metadata": {},
   "outputs": [
    {
     "data": {
      "text/plain": [
       "<AxesSubplot:ylabel='BsmtFullBath'>"
      ]
     },
     "execution_count": 375,
     "metadata": {},
     "output_type": "execute_result"
    },
    {
     "data": {
      "image/png": "[encoded data removed]",
      "text/plain": [
       "<Figure size 640x480 with 1 Axes>"
      ]
     },
     "metadata": {},
     "output_type": "display_data"
    }
   ],
   "source": [
    "\n",
    "sns.boxplot(df_clean['BsmtFullBath'])"
   ]
  },
  {
   "cell_type": "code",
   "execution_count": 376,
   "metadata": {},
   "outputs": [
    {
     "data": {
      "text/plain": [
       "<AxesSubplot:ylabel='GarageArea'>"
      ]
     },
     "execution_count": 376,
     "metadata": {},
     "output_type": "execute_result"
    },
    {
     "data": {
      "image/png": "[encoded data removed]",
      "text/plain": [
       "<Figure size 640x480 with 1 Axes>"
      ]
     },
     "metadata": {},
     "output_type": "display_data"
    }
   ],
   "source": [
    "sns.boxplot(df_clean['GarageArea'])"
   ]
  },
  {
   "cell_type": "code",
   "execution_count": 377,
   "metadata": {},
   "outputs": [
    {
     "data": {
      "text/plain": [
       "<AxesSubplot:ylabel='WoodDeckSF'>"
      ]
     },
     "execution_count": 377,
     "metadata": {},
     "output_type": "execute_result"
    },
    {
     "data": {
      "image/png": "[encoded data removed]",
      "text/plain": [
       "<Figure size 640x480 with 1 Axes>"
      ]
     },
     "metadata": {},
     "output_type": "display_data"
    }
   ],
   "source": [
    "sns.boxplot(df_clean['WoodDeckSF'])"
   ]
  },
  {
   "cell_type": "code",
   "execution_count": 378,
   "metadata": {},
   "outputs": [
    {
     "data": {
      "text/plain": [
       "<AxesSubplot:ylabel='WoodDeckSF'>"
      ]
     },
     "execution_count": 378,
     "metadata": {},
     "output_type": "execute_result"
    },
    {
     "data": {
      "image/png": "[encoded data removed]",
      "text/plain": [
       "<Figure size 640x480 with 1 Axes>"
      ]
     },
     "metadata": {},
     "output_type": "display_data"
    }
   ],
   "source": [
    "df_clean = df_clean.loc[df_clean['WoodDeckSF'] <= 400]  \n",
    "sns.boxplot(df_clean['WoodDeckSF'])"
   ]
  },
  {
   "cell_type": "code",
   "execution_count": 379,
   "metadata": {},
   "outputs": [
    {
     "data": {
      "text/plain": [
       "<AxesSubplot:ylabel='OpenPorchSF'>"
      ]
     },
     "execution_count": 379,
     "metadata": {},
     "output_type": "execute_result"
    },
    {
     "data": {
      "image/png": "[encoded data removed]",
      "text/plain": [
       "<Figure size 640x480 with 1 Axes>"
      ]
     },
     "metadata": {},
     "output_type": "display_data"
    }
   ],
   "source": [
    "sns.boxplot(df_clean['OpenPorchSF'])"
   ]
  },
  {
   "cell_type": "code",
   "execution_count": 380,
   "metadata": {},
   "outputs": [
    {
     "data": {
      "text/plain": [
       "<AxesSubplot:ylabel='OpenPorchSF'>"
      ]
     },
     "execution_count": 380,
     "metadata": {},
     "output_type": "execute_result"
    },
    {
     "data": {
      "image/png": "[encoded data removed]",
      "text/plain": [
       "<Figure size 640x480 with 1 Axes>"
      ]
     },
     "metadata": {},
     "output_type": "display_data"
    }
   ],
   "source": [
    "df_clean = df_clean.loc[df_clean['OpenPorchSF'] <= 150]  \n",
    "sns.boxplot(df_clean['OpenPorchSF'])"
   ]
  },
  {
   "cell_type": "code",
   "execution_count": 381,
   "metadata": {},
   "outputs": [
    {
     "data": {
      "text/plain": [
       "<AxesSubplot:ylabel='PoolArea'>"
      ]
     },
     "execution_count": 381,
     "metadata": {},
     "output_type": "execute_result"
    },
    {
     "data": {
      "image/png": "[encoded data removed]",
      "text/plain": [
       "<Figure size 640x480 with 1 Axes>"
      ]
     },
     "metadata": {},
     "output_type": "display_data"
    }
   ],
   "source": [
    "sns.boxplot(df_clean['PoolArea'])"
   ]
  },
  {
   "cell_type": "code",
   "execution_count": 382,
   "metadata": {},
   "outputs": [
    {
     "data": {
      "text/plain": [
       "<AxesSubplot:ylabel='PoolArea'>"
      ]
     },
     "execution_count": 382,
     "metadata": {},
     "output_type": "execute_result"
    },
    {
     "data": {
      "image/png": "[encoded data removed]",
      "text/plain": [
       "<Figure size 640x480 with 1 Axes>"
      ]
     },
     "metadata": {},
     "output_type": "display_data"
    }
   ],
   "source": [
    "df_clean = df_clean.loc[df_clean['PoolArea'] <= 10]  \n",
    "sns.boxplot(df_clean['PoolArea'])"
   ]
  },
  {
   "cell_type": "code",
   "execution_count": 383,
   "metadata": {},
   "outputs": [
    {
     "data": {
      "text/plain": [
       "<AxesSubplot:ylabel='MiscVal'>"
      ]
     },
     "execution_count": 383,
     "metadata": {},
     "output_type": "execute_result"
    },
    {
     "data": {
      "image/png": "[encoded data removed]",
      "text/plain": [
       "<Figure size 640x480 with 1 Axes>"
      ]
     },
     "metadata": {},
     "output_type": "display_data"
    }
   ],
   "source": [
    "sns.boxplot(df_clean['MiscVal'])"
   ]
  },
  {
   "cell_type": "code",
   "execution_count": 384,
   "metadata": {},
   "outputs": [
    {
     "data": {
      "text/plain": [
       "<AxesSubplot:ylabel='MiscVal'>"
      ]
     },
     "execution_count": 384,
     "metadata": {},
     "output_type": "execute_result"
    },
    {
     "data": {
      "image/png": "[encoded data removed]",
      "text/plain": [
       "<Figure size 640x480 with 1 Axes>"
      ]
     },
     "metadata": {},
     "output_type": "display_data"
    }
   ],
   "source": [
    "df_clean = df_clean.loc[df_clean['MiscVal'] <= 10]  \n",
    "sns.boxplot(df_clean['MiscVal'])"
   ]
  },
  {
   "cell_type": "markdown",
   "metadata": {},
   "source": [
    "CheckiChecking the original shape of the dataframe and after cleaning outliers"
   ]
  },
  {
   "cell_type": "code",
   "execution_count": 385,
   "metadata": {},
   "outputs": [
    {
     "name": "stdout",
     "output_type": "stream",
     "text": [
      "Original df shape: (1338, 73)\n",
      "Cleaned df shape: (929, 73)\n"
     ]
    }
   ],
   "source": [
    "#Checking the original shape of the dataframe and after cleaning outliers\n",
    "print(f\"Original df shape: {df.shape}\")\n",
    "print(f\"Cleaned df shape: {df_clean.shape}\")"
   ]
  },
  {
   "cell_type": "markdown",
   "metadata": {},
   "source": [
    "Still we have more than 900 datapoints which should be sufficient for model building"
   ]
  },
  {
   "cell_type": "markdown",
   "metadata": {},
   "source": [
    "#### Converting categorical variables into dummy variables"
   ]
  },
  {
   "cell_type": "code",
   "execution_count": 386,
   "metadata": {},
   "outputs": [
    {
     "data": {
      "text/html": [
       "<div>\n",
       "<style scoped>\n",
       "    .dataframe tbody tr th:only-of-type {\n",
       "        vertical-align: middle;\n",
       "    }\n",
       "\n",
       "    .dataframe tbody tr th {\n",
       "        vertical-align: top;\n",
       "    }\n",
       "\n",
       "    .dataframe thead th {\n",
       "        text-align: right;\n",
       "    }\n",
       "</style>\n",
       "<table border=\"1\" class=\"dataframe\">\n",
       "  <thead>\n",
       "    <tr style=\"text-align: right;\">\n",
       "      <th></th>\n",
       "      <th>MSSubClass</th>\n",
       "      <th>MSZoning</th>\n",
       "      <th>LotArea</th>\n",
       "      <th>Street</th>\n",
       "      <th>LotShape</th>\n",
       "      <th>LandContour</th>\n",
       "      <th>Utilities</th>\n",
       "      <th>LotConfig</th>\n",
       "      <th>LandSlope</th>\n",
       "      <th>Neighborhood</th>\n",
       "      <th>...</th>\n",
       "      <th>MoSold_6</th>\n",
       "      <th>MoSold_7</th>\n",
       "      <th>MoSold_8</th>\n",
       "      <th>MoSold_9</th>\n",
       "      <th>MoSold_10</th>\n",
       "      <th>MoSold_11</th>\n",
       "      <th>MoSold_12</th>\n",
       "      <th>Heating_GasW</th>\n",
       "      <th>Heating_Grav</th>\n",
       "      <th>Heating_OthW</th>\n",
       "    </tr>\n",
       "  </thead>\n",
       "  <tbody>\n",
       "    <tr>\n",
       "      <th>0</th>\n",
       "      <td>60</td>\n",
       "      <td>RL</td>\n",
       "      <td>8450</td>\n",
       "      <td>Pave</td>\n",
       "      <td>Reg</td>\n",
       "      <td>Lvl</td>\n",
       "      <td>AllPub</td>\n",
       "      <td>Inside</td>\n",
       "      <td>Gtl</td>\n",
       "      <td>CollgCr</td>\n",
       "      <td>...</td>\n",
       "      <td>0</td>\n",
       "      <td>0</td>\n",
       "      <td>0</td>\n",
       "      <td>0</td>\n",
       "      <td>0</td>\n",
       "      <td>0</td>\n",
       "      <td>0</td>\n",
       "      <td>0</td>\n",
       "      <td>0</td>\n",
       "      <td>0</td>\n",
       "    </tr>\n",
       "    <tr>\n",
       "      <th>1</th>\n",
       "      <td>20</td>\n",
       "      <td>RL</td>\n",
       "      <td>9600</td>\n",
       "      <td>Pave</td>\n",
       "      <td>Reg</td>\n",
       "      <td>Lvl</td>\n",
       "      <td>AllPub</td>\n",
       "      <td>FR2</td>\n",
       "      <td>Gtl</td>\n",
       "      <td>Veenker</td>\n",
       "      <td>...</td>\n",
       "      <td>0</td>\n",
       "      <td>0</td>\n",
       "      <td>0</td>\n",
       "      <td>0</td>\n",
       "      <td>0</td>\n",
       "      <td>0</td>\n",
       "      <td>0</td>\n",
       "      <td>0</td>\n",
       "      <td>0</td>\n",
       "      <td>0</td>\n",
       "    </tr>\n",
       "    <tr>\n",
       "      <th>2</th>\n",
       "      <td>60</td>\n",
       "      <td>RL</td>\n",
       "      <td>11250</td>\n",
       "      <td>Pave</td>\n",
       "      <td>IR1</td>\n",
       "      <td>Lvl</td>\n",
       "      <td>AllPub</td>\n",
       "      <td>Inside</td>\n",
       "      <td>Gtl</td>\n",
       "      <td>CollgCr</td>\n",
       "      <td>...</td>\n",
       "      <td>0</td>\n",
       "      <td>0</td>\n",
       "      <td>0</td>\n",
       "      <td>1</td>\n",
       "      <td>0</td>\n",
       "      <td>0</td>\n",
       "      <td>0</td>\n",
       "      <td>0</td>\n",
       "      <td>0</td>\n",
       "      <td>0</td>\n",
       "    </tr>\n",
       "    <tr>\n",
       "      <th>3</th>\n",
       "      <td>70</td>\n",
       "      <td>RL</td>\n",
       "      <td>9550</td>\n",
       "      <td>Pave</td>\n",
       "      <td>IR1</td>\n",
       "      <td>Lvl</td>\n",
       "      <td>AllPub</td>\n",
       "      <td>Corner</td>\n",
       "      <td>Gtl</td>\n",
       "      <td>Crawfor</td>\n",
       "      <td>...</td>\n",
       "      <td>0</td>\n",
       "      <td>0</td>\n",
       "      <td>0</td>\n",
       "      <td>0</td>\n",
       "      <td>0</td>\n",
       "      <td>0</td>\n",
       "      <td>0</td>\n",
       "      <td>0</td>\n",
       "      <td>0</td>\n",
       "      <td>0</td>\n",
       "    </tr>\n",
       "    <tr>\n",
       "      <th>4</th>\n",
       "      <td>60</td>\n",
       "      <td>RL</td>\n",
       "      <td>14260</td>\n",
       "      <td>Pave</td>\n",
       "      <td>IR1</td>\n",
       "      <td>Lvl</td>\n",
       "      <td>AllPub</td>\n",
       "      <td>FR2</td>\n",
       "      <td>Gtl</td>\n",
       "      <td>NoRidge</td>\n",
       "      <td>...</td>\n",
       "      <td>0</td>\n",
       "      <td>0</td>\n",
       "      <td>0</td>\n",
       "      <td>0</td>\n",
       "      <td>0</td>\n",
       "      <td>0</td>\n",
       "      <td>1</td>\n",
       "      <td>0</td>\n",
       "      <td>0</td>\n",
       "      <td>0</td>\n",
       "    </tr>\n",
       "  </tbody>\n",
       "</table>\n",
       "<p>5 rows × 279 columns</p>\n",
       "</div>"
      ],
      "text/plain": [
       "   MSSubClass MSZoning  LotArea Street LotShape LandContour Utilities  \\\n",
       "0          60       RL     8450   Pave      Reg         Lvl    AllPub   \n",
       "1          20       RL     9600   Pave      Reg         Lvl    AllPub   \n",
       "2          60       RL    11250   Pave      IR1         Lvl    AllPub   \n",
       "3          70       RL     9550   Pave      IR1         Lvl    AllPub   \n",
       "4          60       RL    14260   Pave      IR1         Lvl    AllPub   \n",
       "\n",
       "  LotConfig LandSlope Neighborhood  ... MoSold_6 MoSold_7 MoSold_8 MoSold_9  \\\n",
       "0    Inside       Gtl      CollgCr  ...        0        0        0        0   \n",
       "1       FR2       Gtl      Veenker  ...        0        0        0        0   \n",
       "2    Inside       Gtl      CollgCr  ...        0        0        0        1   \n",
       "3    Corner       Gtl      Crawfor  ...        0        0        0        0   \n",
       "4       FR2       Gtl      NoRidge  ...        0        0        0        0   \n",
       "\n",
       "   MoSold_10  MoSold_11  MoSold_12  Heating_GasW Heating_Grav Heating_OthW  \n",
       "0          0          0          0             0            0            0  \n",
       "1          0          0          0             0            0            0  \n",
       "2          0          0          0             0            0            0  \n",
       "3          0          0          0             0            0            0  \n",
       "4          0          0          1             0            0            0  \n",
       "\n",
       "[5 rows x 279 columns]"
      ]
     },
     "execution_count": 386,
     "metadata": {},
     "output_type": "execute_result"
    }
   ],
   "source": [
    "#Convert categorical variables to dummy variables and concatenating the dummies to the original df to form a new dataframe df1\n",
    "#Prefix is also added to dummy variables, if there are same values of categories for multiple varaibles\n",
    "\n",
    "df1 = df_clean\n",
    "for i in cat_list:\n",
    "    dumm = pd.get_dummies(df1[i], prefix=i, dtype=int, drop_first=True)\n",
    "    df1 = pd.concat([df1, dumm], axis = 1)\n",
    " \n",
    "df1.head()\n"
   ]
  },
  {
   "cell_type": "markdown",
   "metadata": {},
   "source": [
    "Dropping the original variables after converting to dummies"
   ]
  },
  {
   "cell_type": "code",
   "execution_count": 387,
   "metadata": {},
   "outputs": [
    {
     "data": {
      "text/html": [
       "<div>\n",
       "<style scoped>\n",
       "    .dataframe tbody tr th:only-of-type {\n",
       "        vertical-align: middle;\n",
       "    }\n",
       "\n",
       "    .dataframe tbody tr th {\n",
       "        vertical-align: top;\n",
       "    }\n",
       "\n",
       "    .dataframe thead th {\n",
       "        text-align: right;\n",
       "    }\n",
       "</style>\n",
       "<table border=\"1\" class=\"dataframe\">\n",
       "  <thead>\n",
       "    <tr style=\"text-align: right;\">\n",
       "      <th></th>\n",
       "      <th>LotArea</th>\n",
       "      <th>YearBuilt</th>\n",
       "      <th>YearRemodAdd</th>\n",
       "      <th>MasVnrArea</th>\n",
       "      <th>BsmtFinSF1</th>\n",
       "      <th>BsmtFinSF2</th>\n",
       "      <th>BsmtUnfSF</th>\n",
       "      <th>TotalBsmtSF</th>\n",
       "      <th>1stFlrSF</th>\n",
       "      <th>2ndFlrSF</th>\n",
       "      <th>...</th>\n",
       "      <th>MoSold_6</th>\n",
       "      <th>MoSold_7</th>\n",
       "      <th>MoSold_8</th>\n",
       "      <th>MoSold_9</th>\n",
       "      <th>MoSold_10</th>\n",
       "      <th>MoSold_11</th>\n",
       "      <th>MoSold_12</th>\n",
       "      <th>Heating_GasW</th>\n",
       "      <th>Heating_Grav</th>\n",
       "      <th>Heating_OthW</th>\n",
       "    </tr>\n",
       "  </thead>\n",
       "  <tbody>\n",
       "    <tr>\n",
       "      <th>0</th>\n",
       "      <td>8450</td>\n",
       "      <td>2003</td>\n",
       "      <td>2003</td>\n",
       "      <td>196.0</td>\n",
       "      <td>706</td>\n",
       "      <td>0</td>\n",
       "      <td>150</td>\n",
       "      <td>856</td>\n",
       "      <td>856</td>\n",
       "      <td>854</td>\n",
       "      <td>...</td>\n",
       "      <td>0</td>\n",
       "      <td>0</td>\n",
       "      <td>0</td>\n",
       "      <td>0</td>\n",
       "      <td>0</td>\n",
       "      <td>0</td>\n",
       "      <td>0</td>\n",
       "      <td>0</td>\n",
       "      <td>0</td>\n",
       "      <td>0</td>\n",
       "    </tr>\n",
       "    <tr>\n",
       "      <th>1</th>\n",
       "      <td>9600</td>\n",
       "      <td>1976</td>\n",
       "      <td>1976</td>\n",
       "      <td>0.0</td>\n",
       "      <td>978</td>\n",
       "      <td>0</td>\n",
       "      <td>284</td>\n",
       "      <td>1262</td>\n",
       "      <td>1262</td>\n",
       "      <td>0</td>\n",
       "      <td>...</td>\n",
       "      <td>0</td>\n",
       "      <td>0</td>\n",
       "      <td>0</td>\n",
       "      <td>0</td>\n",
       "      <td>0</td>\n",
       "      <td>0</td>\n",
       "      <td>0</td>\n",
       "      <td>0</td>\n",
       "      <td>0</td>\n",
       "      <td>0</td>\n",
       "    </tr>\n",
       "    <tr>\n",
       "      <th>2</th>\n",
       "      <td>11250</td>\n",
       "      <td>2001</td>\n",
       "      <td>2002</td>\n",
       "      <td>162.0</td>\n",
       "      <td>486</td>\n",
       "      <td>0</td>\n",
       "      <td>434</td>\n",
       "      <td>920</td>\n",
       "      <td>920</td>\n",
       "      <td>866</td>\n",
       "      <td>...</td>\n",
       "      <td>0</td>\n",
       "      <td>0</td>\n",
       "      <td>0</td>\n",
       "      <td>1</td>\n",
       "      <td>0</td>\n",
       "      <td>0</td>\n",
       "      <td>0</td>\n",
       "      <td>0</td>\n",
       "      <td>0</td>\n",
       "      <td>0</td>\n",
       "    </tr>\n",
       "    <tr>\n",
       "      <th>3</th>\n",
       "      <td>9550</td>\n",
       "      <td>1915</td>\n",
       "      <td>1970</td>\n",
       "      <td>0.0</td>\n",
       "      <td>216</td>\n",
       "      <td>0</td>\n",
       "      <td>540</td>\n",
       "      <td>756</td>\n",
       "      <td>961</td>\n",
       "      <td>756</td>\n",
       "      <td>...</td>\n",
       "      <td>0</td>\n",
       "      <td>0</td>\n",
       "      <td>0</td>\n",
       "      <td>0</td>\n",
       "      <td>0</td>\n",
       "      <td>0</td>\n",
       "      <td>0</td>\n",
       "      <td>0</td>\n",
       "      <td>0</td>\n",
       "      <td>0</td>\n",
       "    </tr>\n",
       "    <tr>\n",
       "      <th>4</th>\n",
       "      <td>14260</td>\n",
       "      <td>2000</td>\n",
       "      <td>2000</td>\n",
       "      <td>350.0</td>\n",
       "      <td>655</td>\n",
       "      <td>0</td>\n",
       "      <td>490</td>\n",
       "      <td>1145</td>\n",
       "      <td>1145</td>\n",
       "      <td>1053</td>\n",
       "      <td>...</td>\n",
       "      <td>0</td>\n",
       "      <td>0</td>\n",
       "      <td>0</td>\n",
       "      <td>0</td>\n",
       "      <td>0</td>\n",
       "      <td>0</td>\n",
       "      <td>1</td>\n",
       "      <td>0</td>\n",
       "      <td>0</td>\n",
       "      <td>0</td>\n",
       "    </tr>\n",
       "  </tbody>\n",
       "</table>\n",
       "<p>5 rows × 238 columns</p>\n",
       "</div>"
      ],
      "text/plain": [
       "   LotArea  YearBuilt  YearRemodAdd  MasVnrArea  BsmtFinSF1  BsmtFinSF2  \\\n",
       "0     8450       2003          2003       196.0         706           0   \n",
       "1     9600       1976          1976         0.0         978           0   \n",
       "2    11250       2001          2002       162.0         486           0   \n",
       "3     9550       1915          1970         0.0         216           0   \n",
       "4    14260       2000          2000       350.0         655           0   \n",
       "\n",
       "   BsmtUnfSF  TotalBsmtSF  1stFlrSF  2ndFlrSF  ...  MoSold_6  MoSold_7  \\\n",
       "0        150          856       856       854  ...         0         0   \n",
       "1        284         1262      1262         0  ...         0         0   \n",
       "2        434          920       920       866  ...         0         0   \n",
       "3        540          756       961       756  ...         0         0   \n",
       "4        490         1145      1145      1053  ...         0         0   \n",
       "\n",
       "   MoSold_8  MoSold_9  MoSold_10  MoSold_11  MoSold_12  Heating_GasW  \\\n",
       "0         0         0          0          0          0             0   \n",
       "1         0         0          0          0          0             0   \n",
       "2         0         1          0          0          0             0   \n",
       "3         0         0          0          0          0             0   \n",
       "4         0         0          0          0          1             0   \n",
       "\n",
       "   Heating_Grav  Heating_OthW  \n",
       "0             0             0  \n",
       "1             0             0  \n",
       "2             0             0  \n",
       "3             0             0  \n",
       "4             0             0  \n",
       "\n",
       "[5 rows x 238 columns]"
      ]
     },
     "execution_count": 387,
     "metadata": {},
     "output_type": "execute_result"
    }
   ],
   "source": [
    "df1 = df1.drop(columns=cat_list)\n",
    "df1.head()"
   ]
  },
  {
   "cell_type": "markdown",
   "metadata": {},
   "source": [
    "Test-train split using scikit learn library"
   ]
  },
  {
   "cell_type": "code",
   "execution_count": 388,
   "metadata": {},
   "outputs": [],
   "source": [
    "# importing libraries for test-train split\n",
    "\n",
    "import sklearn\n",
    "from sklearn.model_selection import train_test_split"
   ]
  },
  {
   "cell_type": "code",
   "execution_count": 389,
   "metadata": {},
   "outputs": [],
   "source": [
    "#Test train split of the new dataframe df1\n",
    "df1_train, df1_test = train_test_split(df1, train_size=0.7, random_state = 100)"
   ]
  },
  {
   "cell_type": "markdown",
   "metadata": {},
   "source": [
    "Checking datatypes of numerical variables"
   ]
  },
  {
   "cell_type": "code",
   "execution_count": 390,
   "metadata": {},
   "outputs": [
    {
     "name": "stdout",
     "output_type": "stream",
     "text": [
      "int64\n",
      "int64\n",
      "int64\n",
      "float64\n",
      "int64\n",
      "int64\n",
      "int64\n",
      "int64\n",
      "int64\n",
      "int64\n",
      "int64\n",
      "int64\n",
      "int64\n",
      "int64\n",
      "int64\n",
      "int64\n",
      "int64\n",
      "int64\n",
      "int64\n",
      "int64\n",
      "float64\n",
      "int64\n",
      "int64\n",
      "int64\n",
      "int64\n",
      "int64\n",
      "int64\n",
      "int64\n",
      "int64\n",
      "int64\n",
      "int64\n",
      "int64\n"
     ]
    }
   ],
   "source": [
    "for i in num_list:\n",
    "   print(df[i].dtype)"
   ]
  },
  {
   "cell_type": "markdown",
   "metadata": {},
   "source": [
    "#### Scaling the numerical variables. This is requried since the scales of the variables are different and varying."
   ]
  },
  {
   "cell_type": "code",
   "execution_count": 391,
   "metadata": {},
   "outputs": [
    {
     "data": {
      "text/html": [
       "<div>\n",
       "<style scoped>\n",
       "    .dataframe tbody tr th:only-of-type {\n",
       "        vertical-align: middle;\n",
       "    }\n",
       "\n",
       "    .dataframe tbody tr th {\n",
       "        vertical-align: top;\n",
       "    }\n",
       "\n",
       "    .dataframe thead th {\n",
       "        text-align: right;\n",
       "    }\n",
       "</style>\n",
       "<table border=\"1\" class=\"dataframe\">\n",
       "  <thead>\n",
       "    <tr style=\"text-align: right;\">\n",
       "      <th></th>\n",
       "      <th>LotArea</th>\n",
       "      <th>YearBuilt</th>\n",
       "      <th>YearRemodAdd</th>\n",
       "      <th>MasVnrArea</th>\n",
       "      <th>BsmtFinSF1</th>\n",
       "      <th>BsmtFinSF2</th>\n",
       "      <th>BsmtUnfSF</th>\n",
       "      <th>TotalBsmtSF</th>\n",
       "      <th>1stFlrSF</th>\n",
       "      <th>2ndFlrSF</th>\n",
       "      <th>...</th>\n",
       "      <th>MoSold_6</th>\n",
       "      <th>MoSold_7</th>\n",
       "      <th>MoSold_8</th>\n",
       "      <th>MoSold_9</th>\n",
       "      <th>MoSold_10</th>\n",
       "      <th>MoSold_11</th>\n",
       "      <th>MoSold_12</th>\n",
       "      <th>Heating_GasW</th>\n",
       "      <th>Heating_Grav</th>\n",
       "      <th>Heating_OthW</th>\n",
       "    </tr>\n",
       "  </thead>\n",
       "  <tbody>\n",
       "    <tr>\n",
       "      <th>834</th>\n",
       "      <td>0.345543</td>\n",
       "      <td>0.623077</td>\n",
       "      <td>0.183333</td>\n",
       "      <td>0.302222</td>\n",
       "      <td>0.347509</td>\n",
       "      <td>0.0</td>\n",
       "      <td>0.317778</td>\n",
       "      <td>0.496875</td>\n",
       "      <td>0.399096</td>\n",
       "      <td>0.000000</td>\n",
       "      <td>...</td>\n",
       "      <td>0</td>\n",
       "      <td>0</td>\n",
       "      <td>0</td>\n",
       "      <td>1</td>\n",
       "      <td>0</td>\n",
       "      <td>0</td>\n",
       "      <td>0</td>\n",
       "      <td>0</td>\n",
       "      <td>0</td>\n",
       "      <td>0</td>\n",
       "    </tr>\n",
       "    <tr>\n",
       "      <th>193</th>\n",
       "      <td>0.054207</td>\n",
       "      <td>0.953846</td>\n",
       "      <td>0.900000</td>\n",
       "      <td>0.111111</td>\n",
       "      <td>0.000000</td>\n",
       "      <td>0.0</td>\n",
       "      <td>0.538889</td>\n",
       "      <td>0.406250</td>\n",
       "      <td>0.300735</td>\n",
       "      <td>0.406491</td>\n",
       "      <td>...</td>\n",
       "      <td>0</td>\n",
       "      <td>0</td>\n",
       "      <td>0</td>\n",
       "      <td>0</td>\n",
       "      <td>0</td>\n",
       "      <td>0</td>\n",
       "      <td>0</td>\n",
       "      <td>0</td>\n",
       "      <td>0</td>\n",
       "      <td>0</td>\n",
       "    </tr>\n",
       "    <tr>\n",
       "      <th>689</th>\n",
       "      <td>0.329324</td>\n",
       "      <td>0.961538</td>\n",
       "      <td>0.933333</td>\n",
       "      <td>0.568889</td>\n",
       "      <td>0.012151</td>\n",
       "      <td>0.0</td>\n",
       "      <td>0.745556</td>\n",
       "      <td>0.610417</td>\n",
       "      <td>0.522329</td>\n",
       "      <td>0.000000</td>\n",
       "      <td>...</td>\n",
       "      <td>1</td>\n",
       "      <td>0</td>\n",
       "      <td>0</td>\n",
       "      <td>0</td>\n",
       "      <td>0</td>\n",
       "      <td>0</td>\n",
       "      <td>0</td>\n",
       "      <td>0</td>\n",
       "      <td>0</td>\n",
       "      <td>0</td>\n",
       "    </tr>\n",
       "    <tr>\n",
       "      <th>186</th>\n",
       "      <td>0.458311</td>\n",
       "      <td>0.846154</td>\n",
       "      <td>0.683333</td>\n",
       "      <td>0.000000</td>\n",
       "      <td>0.371203</td>\n",
       "      <td>0.0</td>\n",
       "      <td>0.320556</td>\n",
       "      <td>0.519792</td>\n",
       "      <td>0.440362</td>\n",
       "      <td>0.000000</td>\n",
       "      <td>...</td>\n",
       "      <td>1</td>\n",
       "      <td>0</td>\n",
       "      <td>0</td>\n",
       "      <td>0</td>\n",
       "      <td>0</td>\n",
       "      <td>0</td>\n",
       "      <td>0</td>\n",
       "      <td>0</td>\n",
       "      <td>0</td>\n",
       "      <td>0</td>\n",
       "    </tr>\n",
       "    <tr>\n",
       "      <th>822</th>\n",
       "      <td>0.591488</td>\n",
       "      <td>0.946154</td>\n",
       "      <td>0.883333</td>\n",
       "      <td>0.000000</td>\n",
       "      <td>0.000000</td>\n",
       "      <td>0.0</td>\n",
       "      <td>0.470556</td>\n",
       "      <td>0.342188</td>\n",
       "      <td>0.231204</td>\n",
       "      <td>0.487349</td>\n",
       "      <td>...</td>\n",
       "      <td>0</td>\n",
       "      <td>0</td>\n",
       "      <td>0</td>\n",
       "      <td>0</td>\n",
       "      <td>1</td>\n",
       "      <td>0</td>\n",
       "      <td>0</td>\n",
       "      <td>0</td>\n",
       "      <td>0</td>\n",
       "      <td>0</td>\n",
       "    </tr>\n",
       "  </tbody>\n",
       "</table>\n",
       "<p>5 rows × 238 columns</p>\n",
       "</div>"
      ],
      "text/plain": [
       "      LotArea  YearBuilt  YearRemodAdd  MasVnrArea  BsmtFinSF1  BsmtFinSF2  \\\n",
       "834  0.345543   0.623077      0.183333    0.302222    0.347509         0.0   \n",
       "193  0.054207   0.953846      0.900000    0.111111    0.000000         0.0   \n",
       "689  0.329324   0.961538      0.933333    0.568889    0.012151         0.0   \n",
       "186  0.458311   0.846154      0.683333    0.000000    0.371203         0.0   \n",
       "822  0.591488   0.946154      0.883333    0.000000    0.000000         0.0   \n",
       "\n",
       "     BsmtUnfSF  TotalBsmtSF  1stFlrSF  2ndFlrSF  ...  MoSold_6  MoSold_7  \\\n",
       "834   0.317778     0.496875  0.399096  0.000000  ...         0         0   \n",
       "193   0.538889     0.406250  0.300735  0.406491  ...         0         0   \n",
       "689   0.745556     0.610417  0.522329  0.000000  ...         1         0   \n",
       "186   0.320556     0.519792  0.440362  0.000000  ...         1         0   \n",
       "822   0.470556     0.342188  0.231204  0.487349  ...         0         0   \n",
       "\n",
       "     MoSold_8  MoSold_9  MoSold_10  MoSold_11  MoSold_12  Heating_GasW  \\\n",
       "834         0         1          0          0          0             0   \n",
       "193         0         0          0          0          0             0   \n",
       "689         0         0          0          0          0             0   \n",
       "186         0         0          0          0          0             0   \n",
       "822         0         0          1          0          0             0   \n",
       "\n",
       "     Heating_Grav  Heating_OthW  \n",
       "834             0             0  \n",
       "193             0             0  \n",
       "689             0             0  \n",
       "186             0             0  \n",
       "822             0             0  \n",
       "\n",
       "[5 rows x 238 columns]"
      ]
     },
     "execution_count": 391,
     "metadata": {},
     "output_type": "execute_result"
    }
   ],
   "source": [
    "## Scaling numerical variables in training set. minMax Scaler is used since it seems to be apt.\n",
    "from sklearn.preprocessing import MinMaxScaler, RobustScaler, StandardScaler\n",
    "scaler = MinMaxScaler()\n",
    "df1_train[num_list] = scaler.fit_transform(df1_train[num_list])\n",
    "\n",
    "df1_train.head()"
   ]
  },
  {
   "cell_type": "code",
   "execution_count": 392,
   "metadata": {},
   "outputs": [
    {
     "data": {
      "text/html": [
       "<div>\n",
       "<style scoped>\n",
       "    .dataframe tbody tr th:only-of-type {\n",
       "        vertical-align: middle;\n",
       "    }\n",
       "\n",
       "    .dataframe tbody tr th {\n",
       "        vertical-align: top;\n",
       "    }\n",
       "\n",
       "    .dataframe thead th {\n",
       "        text-align: right;\n",
       "    }\n",
       "</style>\n",
       "<table border=\"1\" class=\"dataframe\">\n",
       "  <thead>\n",
       "    <tr style=\"text-align: right;\">\n",
       "      <th></th>\n",
       "      <th>LotArea</th>\n",
       "      <th>YearBuilt</th>\n",
       "      <th>YearRemodAdd</th>\n",
       "      <th>MasVnrArea</th>\n",
       "      <th>BsmtFinSF1</th>\n",
       "      <th>BsmtFinSF2</th>\n",
       "      <th>BsmtUnfSF</th>\n",
       "      <th>TotalBsmtSF</th>\n",
       "      <th>1stFlrSF</th>\n",
       "      <th>2ndFlrSF</th>\n",
       "      <th>...</th>\n",
       "      <th>MoSold_6</th>\n",
       "      <th>MoSold_7</th>\n",
       "      <th>MoSold_8</th>\n",
       "      <th>MoSold_9</th>\n",
       "      <th>MoSold_10</th>\n",
       "      <th>MoSold_11</th>\n",
       "      <th>MoSold_12</th>\n",
       "      <th>Heating_GasW</th>\n",
       "      <th>Heating_Grav</th>\n",
       "      <th>Heating_OthW</th>\n",
       "    </tr>\n",
       "  </thead>\n",
       "  <tbody>\n",
       "    <tr>\n",
       "      <th>count</th>\n",
       "      <td>650.000000</td>\n",
       "      <td>650.000000</td>\n",
       "      <td>650.000000</td>\n",
       "      <td>650.000000</td>\n",
       "      <td>650.000000</td>\n",
       "      <td>650.0</td>\n",
       "      <td>650.000000</td>\n",
       "      <td>650.000000</td>\n",
       "      <td>650.000000</td>\n",
       "      <td>650.000000</td>\n",
       "      <td>...</td>\n",
       "      <td>650.000000</td>\n",
       "      <td>650.000000</td>\n",
       "      <td>650.000000</td>\n",
       "      <td>650.000000</td>\n",
       "      <td>650.000000</td>\n",
       "      <td>650.000000</td>\n",
       "      <td>650.000000</td>\n",
       "      <td>650.000000</td>\n",
       "      <td>650.000000</td>\n",
       "      <td>650.0</td>\n",
       "    </tr>\n",
       "    <tr>\n",
       "      <th>mean</th>\n",
       "      <td>0.418134</td>\n",
       "      <td>0.724036</td>\n",
       "      <td>0.596846</td>\n",
       "      <td>0.178783</td>\n",
       "      <td>0.269729</td>\n",
       "      <td>0.0</td>\n",
       "      <td>0.343765</td>\n",
       "      <td>0.454558</td>\n",
       "      <td>0.394440</td>\n",
       "      <td>0.180789</td>\n",
       "      <td>...</td>\n",
       "      <td>0.164615</td>\n",
       "      <td>0.167692</td>\n",
       "      <td>0.069231</td>\n",
       "      <td>0.036923</td>\n",
       "      <td>0.061538</td>\n",
       "      <td>0.053846</td>\n",
       "      <td>0.041538</td>\n",
       "      <td>0.009231</td>\n",
       "      <td>0.003077</td>\n",
       "      <td>0.0</td>\n",
       "    </tr>\n",
       "    <tr>\n",
       "      <th>std</th>\n",
       "      <td>0.172626</td>\n",
       "      <td>0.230656</td>\n",
       "      <td>0.352056</td>\n",
       "      <td>0.263896</td>\n",
       "      <td>0.257139</td>\n",
       "      <td>0.0</td>\n",
       "      <td>0.236106</td>\n",
       "      <td>0.179723</td>\n",
       "      <td>0.188928</td>\n",
       "      <td>0.229340</td>\n",
       "      <td>...</td>\n",
       "      <td>0.371119</td>\n",
       "      <td>0.373881</td>\n",
       "      <td>0.254042</td>\n",
       "      <td>0.188718</td>\n",
       "      <td>0.240500</td>\n",
       "      <td>0.225888</td>\n",
       "      <td>0.199686</td>\n",
       "      <td>0.095706</td>\n",
       "      <td>0.055427</td>\n",
       "      <td>0.0</td>\n",
       "    </tr>\n",
       "    <tr>\n",
       "      <th>min</th>\n",
       "      <td>0.000000</td>\n",
       "      <td>0.000000</td>\n",
       "      <td>0.000000</td>\n",
       "      <td>0.000000</td>\n",
       "      <td>0.000000</td>\n",
       "      <td>0.0</td>\n",
       "      <td>0.000000</td>\n",
       "      <td>0.000000</td>\n",
       "      <td>0.000000</td>\n",
       "      <td>0.000000</td>\n",
       "      <td>...</td>\n",
       "      <td>0.000000</td>\n",
       "      <td>0.000000</td>\n",
       "      <td>0.000000</td>\n",
       "      <td>0.000000</td>\n",
       "      <td>0.000000</td>\n",
       "      <td>0.000000</td>\n",
       "      <td>0.000000</td>\n",
       "      <td>0.000000</td>\n",
       "      <td>0.000000</td>\n",
       "      <td>0.0</td>\n",
       "    </tr>\n",
       "    <tr>\n",
       "      <th>25%</th>\n",
       "      <td>0.325133</td>\n",
       "      <td>0.576923</td>\n",
       "      <td>0.287500</td>\n",
       "      <td>0.000000</td>\n",
       "      <td>0.000000</td>\n",
       "      <td>0.0</td>\n",
       "      <td>0.156528</td>\n",
       "      <td>0.325651</td>\n",
       "      <td>0.248869</td>\n",
       "      <td>0.000000</td>\n",
       "      <td>...</td>\n",
       "      <td>0.000000</td>\n",
       "      <td>0.000000</td>\n",
       "      <td>0.000000</td>\n",
       "      <td>0.000000</td>\n",
       "      <td>0.000000</td>\n",
       "      <td>0.000000</td>\n",
       "      <td>0.000000</td>\n",
       "      <td>0.000000</td>\n",
       "      <td>0.000000</td>\n",
       "      <td>0.0</td>\n",
       "    </tr>\n",
       "    <tr>\n",
       "      <th>50%</th>\n",
       "      <td>0.415315</td>\n",
       "      <td>0.738462</td>\n",
       "      <td>0.766667</td>\n",
       "      <td>0.000000</td>\n",
       "      <td>0.255468</td>\n",
       "      <td>0.0</td>\n",
       "      <td>0.304167</td>\n",
       "      <td>0.421094</td>\n",
       "      <td>0.358677</td>\n",
       "      <td>0.000000</td>\n",
       "      <td>...</td>\n",
       "      <td>0.000000</td>\n",
       "      <td>0.000000</td>\n",
       "      <td>0.000000</td>\n",
       "      <td>0.000000</td>\n",
       "      <td>0.000000</td>\n",
       "      <td>0.000000</td>\n",
       "      <td>0.000000</td>\n",
       "      <td>0.000000</td>\n",
       "      <td>0.000000</td>\n",
       "      <td>0.0</td>\n",
       "    </tr>\n",
       "    <tr>\n",
       "      <th>75%</th>\n",
       "      <td>0.520205</td>\n",
       "      <td>0.946154</td>\n",
       "      <td>0.900000</td>\n",
       "      <td>0.328889</td>\n",
       "      <td>0.445170</td>\n",
       "      <td>0.0</td>\n",
       "      <td>0.479583</td>\n",
       "      <td>0.574219</td>\n",
       "      <td>0.520774</td>\n",
       "      <td>0.389714</td>\n",
       "      <td>...</td>\n",
       "      <td>0.000000</td>\n",
       "      <td>0.000000</td>\n",
       "      <td>0.000000</td>\n",
       "      <td>0.000000</td>\n",
       "      <td>0.000000</td>\n",
       "      <td>0.000000</td>\n",
       "      <td>0.000000</td>\n",
       "      <td>0.000000</td>\n",
       "      <td>0.000000</td>\n",
       "      <td>0.0</td>\n",
       "    </tr>\n",
       "    <tr>\n",
       "      <th>max</th>\n",
       "      <td>1.000000</td>\n",
       "      <td>1.000000</td>\n",
       "      <td>1.000000</td>\n",
       "      <td>1.000000</td>\n",
       "      <td>1.000000</td>\n",
       "      <td>0.0</td>\n",
       "      <td>1.000000</td>\n",
       "      <td>1.000000</td>\n",
       "      <td>1.000000</td>\n",
       "      <td>1.000000</td>\n",
       "      <td>...</td>\n",
       "      <td>1.000000</td>\n",
       "      <td>1.000000</td>\n",
       "      <td>1.000000</td>\n",
       "      <td>1.000000</td>\n",
       "      <td>1.000000</td>\n",
       "      <td>1.000000</td>\n",
       "      <td>1.000000</td>\n",
       "      <td>1.000000</td>\n",
       "      <td>1.000000</td>\n",
       "      <td>0.0</td>\n",
       "    </tr>\n",
       "  </tbody>\n",
       "</table>\n",
       "<p>8 rows × 238 columns</p>\n",
       "</div>"
      ],
      "text/plain": [
       "          LotArea   YearBuilt  YearRemodAdd  MasVnrArea  BsmtFinSF1  \\\n",
       "count  650.000000  650.000000    650.000000  650.000000  650.000000   \n",
       "mean     0.418134    0.724036      0.596846    0.178783    0.269729   \n",
       "std      0.172626    0.230656      0.352056    0.263896    0.257139   \n",
       "min      0.000000    0.000000      0.000000    0.000000    0.000000   \n",
       "25%      0.325133    0.576923      0.287500    0.000000    0.000000   \n",
       "50%      0.415315    0.738462      0.766667    0.000000    0.255468   \n",
       "75%      0.520205    0.946154      0.900000    0.328889    0.445170   \n",
       "max      1.000000    1.000000      1.000000    1.000000    1.000000   \n",
       "\n",
       "       BsmtFinSF2   BsmtUnfSF  TotalBsmtSF    1stFlrSF    2ndFlrSF  ...  \\\n",
       "count       650.0  650.000000   650.000000  650.000000  650.000000  ...   \n",
       "mean          0.0    0.343765     0.454558    0.394440    0.180789  ...   \n",
       "std           0.0    0.236106     0.179723    0.188928    0.229340  ...   \n",
       "min           0.0    0.000000     0.000000    0.000000    0.000000  ...   \n",
       "25%           0.0    0.156528     0.325651    0.248869    0.000000  ...   \n",
       "50%           0.0    0.304167     0.421094    0.358677    0.000000  ...   \n",
       "75%           0.0    0.479583     0.574219    0.520774    0.389714  ...   \n",
       "max           0.0    1.000000     1.000000    1.000000    1.000000  ...   \n",
       "\n",
       "         MoSold_6    MoSold_7    MoSold_8    MoSold_9   MoSold_10   MoSold_11  \\\n",
       "count  650.000000  650.000000  650.000000  650.000000  650.000000  650.000000   \n",
       "mean     0.164615    0.167692    0.069231    0.036923    0.061538    0.053846   \n",
       "std      0.371119    0.373881    0.254042    0.188718    0.240500    0.225888   \n",
       "min      0.000000    0.000000    0.000000    0.000000    0.000000    0.000000   \n",
       "25%      0.000000    0.000000    0.000000    0.000000    0.000000    0.000000   \n",
       "50%      0.000000    0.000000    0.000000    0.000000    0.000000    0.000000   \n",
       "75%      0.000000    0.000000    0.000000    0.000000    0.000000    0.000000   \n",
       "max      1.000000    1.000000    1.000000    1.000000    1.000000    1.000000   \n",
       "\n",
       "        MoSold_12  Heating_GasW  Heating_Grav  Heating_OthW  \n",
       "count  650.000000    650.000000    650.000000         650.0  \n",
       "mean     0.041538      0.009231      0.003077           0.0  \n",
       "std      0.199686      0.095706      0.055427           0.0  \n",
       "min      0.000000      0.000000      0.000000           0.0  \n",
       "25%      0.000000      0.000000      0.000000           0.0  \n",
       "50%      0.000000      0.000000      0.000000           0.0  \n",
       "75%      0.000000      0.000000      0.000000           0.0  \n",
       "max      1.000000      1.000000      1.000000           0.0  \n",
       "\n",
       "[8 rows x 238 columns]"
      ]
     },
     "execution_count": 392,
     "metadata": {},
     "output_type": "execute_result"
    }
   ],
   "source": [
    "df1_train.describe()"
   ]
  },
  {
   "cell_type": "markdown",
   "metadata": {},
   "source": [
    "from the above, it can be seen that all the values are now between zero and one"
   ]
  },
  {
   "cell_type": "markdown",
   "metadata": {},
   "source": [
    "#### Fitting a linear regression model"
   ]
  },
  {
   "cell_type": "code",
   "execution_count": 393,
   "metadata": {},
   "outputs": [],
   "source": [
    "#Importing necessary library\n",
    "from sklearn.linear_model import LinearRegression\n"
   ]
  },
  {
   "cell_type": "code",
   "execution_count": 394,
   "metadata": {},
   "outputs": [],
   "source": [
    "#defining predictor and target variables in training data\n",
    "y_train = df1_train.pop('SalePrice') # prediction requried\n",
    "X_train = df1_train # predictor variables"
   ]
  },
  {
   "cell_type": "code",
   "execution_count": 395,
   "metadata": {},
   "outputs": [],
   "source": [
    "lm = LinearRegression()"
   ]
  },
  {
   "cell_type": "code",
   "execution_count": 396,
   "metadata": {},
   "outputs": [
    {
     "data": {
      "text/html": [
       "<style>#sk-container-id-8 {color: black;}#sk-container-id-8 pre{padding: 0;}#sk-container-id-8 div.sk-toggleable {background-color: white;}#sk-container-id-8 label.sk-toggleable__label {cursor: pointer;display: block;width: 100%;margin-bottom: 0;padding: 0.3em;box-sizing: border-box;text-align: center;}#sk-container-id-8 label.sk-toggleable__label-arrow:before {content: \"▸\";float: left;margin-right: 0.25em;color: #696969;}#sk-container-id-8 label.sk-toggleable__label-arrow:hover:before {color: black;}#sk-container-id-8 div.sk-estimator:hover label.sk-toggleable__label-arrow:before {color: black;}#sk-container-id-8 div.sk-toggleable__content {max-height: 0;max-width: 0;overflow: hidden;text-align: left;background-color: #f0f8ff;}#sk-container-id-8 div.sk-toggleable__content pre {margin: 0.2em;color: black;border-radius: 0.25em;background-color: #f0f8ff;}#sk-container-id-8 input.sk-toggleable__control:checked~div.sk-toggleable__content {max-height: 200px;max-width: 100%;overflow: auto;}#sk-container-id-8 input.sk-toggleable__control:checked~label.sk-toggleable__label-arrow:before {content: \"▾\";}#sk-container-id-8 div.sk-estimator input.sk-toggleable__control:checked~label.sk-toggleable__label {background-color: #d4ebff;}#sk-container-id-8 div.sk-label input.sk-toggleable__control:checked~label.sk-toggleable__label {background-color: #d4ebff;}#sk-container-id-8 input.sk-hidden--visually {border: 0;clip: rect(1px 1px 1px 1px);clip: rect(1px, 1px, 1px, 1px);height: 1px;margin: -1px;overflow: hidden;padding: 0;position: absolute;width: 1px;}#sk-container-id-8 div.sk-estimator {font-family: monospace;background-color: #f0f8ff;border: 1px dotted black;border-radius: 0.25em;box-sizing: border-box;margin-bottom: 0.5em;}#sk-container-id-8 div.sk-estimator:hover {background-color: #d4ebff;}#sk-container-id-8 div.sk-parallel-item::after {content: \"\";width: 100%;border-bottom: 1px solid gray;flex-grow: 1;}#sk-container-id-8 div.sk-label:hover label.sk-toggleable__label {background-color: #d4ebff;}#sk-container-id-8 div.sk-serial::before {content: \"\";position: absolute;border-left: 1px solid gray;box-sizing: border-box;top: 0;bottom: 0;left: 50%;z-index: 0;}#sk-container-id-8 div.sk-serial {display: flex;flex-direction: column;align-items: center;background-color: white;padding-right: 0.2em;padding-left: 0.2em;position: relative;}#sk-container-id-8 div.sk-item {position: relative;z-index: 1;}#sk-container-id-8 div.sk-parallel {display: flex;align-items: stretch;justify-content: center;background-color: white;position: relative;}#sk-container-id-8 div.sk-item::before, #sk-container-id-8 div.sk-parallel-item::before {content: \"\";position: absolute;border-left: 1px solid gray;box-sizing: border-box;top: 0;bottom: 0;left: 50%;z-index: -1;}#sk-container-id-8 div.sk-parallel-item {display: flex;flex-direction: column;z-index: 1;position: relative;background-color: white;}#sk-container-id-8 div.sk-parallel-item:first-child::after {align-self: flex-end;width: 50%;}#sk-container-id-8 div.sk-parallel-item:last-child::after {align-self: flex-start;width: 50%;}#sk-container-id-8 div.sk-parallel-item:only-child::after {width: 0;}#sk-container-id-8 div.sk-dashed-wrapped {border: 1px dashed gray;margin: 0 0.4em 0.5em 0.4em;box-sizing: border-box;padding-bottom: 0.4em;background-color: white;}#sk-container-id-8 div.sk-label label {font-family: monospace;font-weight: bold;display: inline-block;line-height: 1.2em;}#sk-container-id-8 div.sk-label-container {text-align: center;}#sk-container-id-8 div.sk-container {/* jupyter's `normalize.less` sets `[hidden] { display: none; }` but bootstrap.min.css set `[hidden] { display: none !important; }` so we also need the `!important` here to be able to override the default hidden behavior on the sphinx rendered scikit-learn.org. See: https://github.com/scikit-learn/scikit-learn/issues/21755 */display: inline-block !important;position: relative;}#sk-container-id-8 div.sk-text-repr-fallback {display: none;}</style><div id=\"sk-container-id-8\" class=\"sk-top-container\"><div class=\"sk-text-repr-fallback\"><pre>LinearRegression()</pre><b>In a Jupyter environment, please rerun this cell to show the HTML representation or trust the notebook. <br />On GitHub, the HTML representation is unable to render, please try loading this page with nbviewer.org.</b></div><div class=\"sk-container\" hidden><div class=\"sk-item\"><div class=\"sk-estimator sk-toggleable\"><input class=\"sk-toggleable__control sk-hidden--visually\" id=\"sk-estimator-id-8\" type=\"checkbox\" checked><label for=\"sk-estimator-id-8\" class=\"sk-toggleable__label sk-toggleable__label-arrow\">LinearRegression</label><div class=\"sk-toggleable__content\"><pre>LinearRegression()</pre></div></div></div></div></div>"
      ],
      "text/plain": [
       "LinearRegression()"
      ]
     },
     "execution_count": 396,
     "metadata": {},
     "output_type": "execute_result"
    }
   ],
   "source": [
    "lm.fit(X_train, y_train)\n"
   ]
  },
  {
   "cell_type": "code",
   "execution_count": 397,
   "metadata": {},
   "outputs": [],
   "source": [
    "#Predciting y values from X_train\n",
    "y_pred_train = lm.predict(X_train)"
   ]
  },
  {
   "cell_type": "code",
   "execution_count": 398,
   "metadata": {},
   "outputs": [],
   "source": [
    "#Residuals from y_train\n",
    "residuals = y_pred_train - y_train"
   ]
  },
  {
   "cell_type": "code",
   "execution_count": 399,
   "metadata": {},
   "outputs": [
    {
     "data": {
      "text/plain": [
       "<AxesSubplot:ylabel='SalePrice'>"
      ]
     },
     "execution_count": 399,
     "metadata": {},
     "output_type": "execute_result"
    },
    {
     "data": {
      "image/png": "[encoded data removed]",
      "text/plain": [
       "<Figure size 640x480 with 1 Axes>"
      ]
     },
     "metadata": {},
     "output_type": "display_data"
    }
   ],
   "source": [
    "#Plotting scatter plot of residuals\n",
    "sns.scatterplot(residuals)"
   ]
  },
  {
   "cell_type": "code",
   "execution_count": 400,
   "metadata": {},
   "outputs": [
    {
     "data": {
      "text/plain": [
       "<AxesSubplot:ylabel='SalePrice'>"
      ]
     },
     "execution_count": 400,
     "metadata": {},
     "output_type": "execute_result"
    },
    {
     "data": {
      "image/png": "[encoded data removed]",
      "text/plain": [
       "<Figure size 640x480 with 1 Axes>"
      ]
     },
     "metadata": {},
     "output_type": "display_data"
    }
   ],
   "source": [
    "#Scatter plot of residuals vs predictions in training data set\n",
    "sns.scatterplot(x=y_pred_train, y=residuals)\n",
    "    "
   ]
  },
  {
   "cell_type": "markdown",
   "metadata": {},
   "source": [
    "#### Linear Model evaluation"
   ]
  },
  {
   "cell_type": "code",
   "execution_count": 401,
   "metadata": {},
   "outputs": [],
   "source": [
    "#Importing necessary libraries\n",
    "from sklearn.metrics import r2_score, mean_squared_error, mean_absolute_error"
   ]
  },
  {
   "cell_type": "code",
   "execution_count": 402,
   "metadata": {},
   "outputs": [
    {
     "data": {
      "text/plain": [
       "0.9461732854639885"
      ]
     },
     "execution_count": 402,
     "metadata": {},
     "output_type": "execute_result"
    }
   ],
   "source": [
    "#FInding r2 score from y_train\n",
    "r2_score_LR_train = r2_score(y_true = y_train, y_pred = y_pred_train)\n",
    "r2_score_LR_train"
   ]
  },
  {
   "cell_type": "markdown",
   "metadata": {},
   "source": [
    "performing same min-max scaling transformation on test data as done on training data"
   ]
  },
  {
   "cell_type": "code",
   "execution_count": 403,
   "metadata": {},
   "outputs": [
    {
     "data": {
      "text/html": [
       "<div>\n",
       "<style scoped>\n",
       "    .dataframe tbody tr th:only-of-type {\n",
       "        vertical-align: middle;\n",
       "    }\n",
       "\n",
       "    .dataframe tbody tr th {\n",
       "        vertical-align: top;\n",
       "    }\n",
       "\n",
       "    .dataframe thead th {\n",
       "        text-align: right;\n",
       "    }\n",
       "</style>\n",
       "<table border=\"1\" class=\"dataframe\">\n",
       "  <thead>\n",
       "    <tr style=\"text-align: right;\">\n",
       "      <th></th>\n",
       "      <th>LotArea</th>\n",
       "      <th>YearBuilt</th>\n",
       "      <th>YearRemodAdd</th>\n",
       "      <th>MasVnrArea</th>\n",
       "      <th>BsmtFinSF1</th>\n",
       "      <th>BsmtFinSF2</th>\n",
       "      <th>BsmtUnfSF</th>\n",
       "      <th>TotalBsmtSF</th>\n",
       "      <th>1stFlrSF</th>\n",
       "      <th>2ndFlrSF</th>\n",
       "      <th>...</th>\n",
       "      <th>MoSold_6</th>\n",
       "      <th>MoSold_7</th>\n",
       "      <th>MoSold_8</th>\n",
       "      <th>MoSold_9</th>\n",
       "      <th>MoSold_10</th>\n",
       "      <th>MoSold_11</th>\n",
       "      <th>MoSold_12</th>\n",
       "      <th>Heating_GasW</th>\n",
       "      <th>Heating_Grav</th>\n",
       "      <th>Heating_OthW</th>\n",
       "    </tr>\n",
       "  </thead>\n",
       "  <tbody>\n",
       "    <tr>\n",
       "      <th>593</th>\n",
       "      <td>0.158322</td>\n",
       "      <td>0.946154</td>\n",
       "      <td>0.883333</td>\n",
       "      <td>0.377778</td>\n",
       "      <td>0.416160</td>\n",
       "      <td>0.0</td>\n",
       "      <td>0.090556</td>\n",
       "      <td>0.342708</td>\n",
       "      <td>0.231769</td>\n",
       "      <td>0.000000</td>\n",
       "      <td>...</td>\n",
       "      <td>0</td>\n",
       "      <td>0</td>\n",
       "      <td>0</td>\n",
       "      <td>0</td>\n",
       "      <td>0</td>\n",
       "      <td>0</td>\n",
       "      <td>0</td>\n",
       "      <td>0</td>\n",
       "      <td>0</td>\n",
       "      <td>0</td>\n",
       "    </tr>\n",
       "    <tr>\n",
       "      <th>202</th>\n",
       "      <td>0.297921</td>\n",
       "      <td>0.338462</td>\n",
       "      <td>0.000000</td>\n",
       "      <td>0.000000</td>\n",
       "      <td>0.374848</td>\n",
       "      <td>0.0</td>\n",
       "      <td>0.000000</td>\n",
       "      <td>0.222396</td>\n",
       "      <td>0.241379</td>\n",
       "      <td>0.244774</td>\n",
       "      <td>...</td>\n",
       "      <td>0</td>\n",
       "      <td>0</td>\n",
       "      <td>0</td>\n",
       "      <td>0</td>\n",
       "      <td>0</td>\n",
       "      <td>0</td>\n",
       "      <td>0</td>\n",
       "      <td>0</td>\n",
       "      <td>0</td>\n",
       "      <td>0</td>\n",
       "    </tr>\n",
       "    <tr>\n",
       "      <th>476</th>\n",
       "      <td>0.631272</td>\n",
       "      <td>0.900000</td>\n",
       "      <td>0.800000</td>\n",
       "      <td>0.477778</td>\n",
       "      <td>0.603888</td>\n",
       "      <td>0.0</td>\n",
       "      <td>0.268889</td>\n",
       "      <td>0.670833</td>\n",
       "      <td>0.596382</td>\n",
       "      <td>0.000000</td>\n",
       "      <td>...</td>\n",
       "      <td>0</td>\n",
       "      <td>0</td>\n",
       "      <td>0</td>\n",
       "      <td>0</td>\n",
       "      <td>0</td>\n",
       "      <td>0</td>\n",
       "      <td>0</td>\n",
       "      <td>0</td>\n",
       "      <td>0</td>\n",
       "      <td>0</td>\n",
       "    </tr>\n",
       "    <tr>\n",
       "      <th>225</th>\n",
       "      <td>0.008381</td>\n",
       "      <td>0.700000</td>\n",
       "      <td>0.350000</td>\n",
       "      <td>0.315556</td>\n",
       "      <td>0.000000</td>\n",
       "      <td>0.0</td>\n",
       "      <td>0.350000</td>\n",
       "      <td>0.229167</td>\n",
       "      <td>0.108536</td>\n",
       "      <td>0.369637</td>\n",
       "      <td>...</td>\n",
       "      <td>0</td>\n",
       "      <td>0</td>\n",
       "      <td>0</td>\n",
       "      <td>0</td>\n",
       "      <td>0</td>\n",
       "      <td>0</td>\n",
       "      <td>0</td>\n",
       "      <td>0</td>\n",
       "      <td>0</td>\n",
       "      <td>0</td>\n",
       "    </tr>\n",
       "    <tr>\n",
       "      <th>1172</th>\n",
       "      <td>0.135572</td>\n",
       "      <td>0.969231</td>\n",
       "      <td>0.950000</td>\n",
       "      <td>0.000000</td>\n",
       "      <td>0.000000</td>\n",
       "      <td>0.0</td>\n",
       "      <td>0.347222</td>\n",
       "      <td>0.226562</td>\n",
       "      <td>0.105709</td>\n",
       "      <td>0.343784</td>\n",
       "      <td>...</td>\n",
       "      <td>0</td>\n",
       "      <td>0</td>\n",
       "      <td>0</td>\n",
       "      <td>0</td>\n",
       "      <td>0</td>\n",
       "      <td>0</td>\n",
       "      <td>0</td>\n",
       "      <td>0</td>\n",
       "      <td>0</td>\n",
       "      <td>0</td>\n",
       "    </tr>\n",
       "  </tbody>\n",
       "</table>\n",
       "<p>5 rows × 238 columns</p>\n",
       "</div>"
      ],
      "text/plain": [
       "       LotArea  YearBuilt  YearRemodAdd  MasVnrArea  BsmtFinSF1  BsmtFinSF2  \\\n",
       "593   0.158322   0.946154      0.883333    0.377778    0.416160         0.0   \n",
       "202   0.297921   0.338462      0.000000    0.000000    0.374848         0.0   \n",
       "476   0.631272   0.900000      0.800000    0.477778    0.603888         0.0   \n",
       "225   0.008381   0.700000      0.350000    0.315556    0.000000         0.0   \n",
       "1172  0.135572   0.969231      0.950000    0.000000    0.000000         0.0   \n",
       "\n",
       "      BsmtUnfSF  TotalBsmtSF  1stFlrSF  2ndFlrSF  ...  MoSold_6  MoSold_7  \\\n",
       "593    0.090556     0.342708  0.231769  0.000000  ...         0         0   \n",
       "202    0.000000     0.222396  0.241379  0.244774  ...         0         0   \n",
       "476    0.268889     0.670833  0.596382  0.000000  ...         0         0   \n",
       "225    0.350000     0.229167  0.108536  0.369637  ...         0         0   \n",
       "1172   0.347222     0.226562  0.105709  0.343784  ...         0         0   \n",
       "\n",
       "      MoSold_8  MoSold_9  MoSold_10  MoSold_11  MoSold_12  Heating_GasW  \\\n",
       "593          0         0          0          0          0             0   \n",
       "202          0         0          0          0          0             0   \n",
       "476          0         0          0          0          0             0   \n",
       "225          0         0          0          0          0             0   \n",
       "1172         0         0          0          0          0             0   \n",
       "\n",
       "      Heating_Grav  Heating_OthW  \n",
       "593              0             0  \n",
       "202              0             0  \n",
       "476              0             0  \n",
       "225              0             0  \n",
       "1172             0             0  \n",
       "\n",
       "[5 rows x 238 columns]"
      ]
     },
     "execution_count": 403,
     "metadata": {},
     "output_type": "execute_result"
    }
   ],
   "source": [
    "df1_test[num_list] = scaler.transform(df1_test[num_list])\n",
    "\n",
    "df1_test.head()"
   ]
  },
  {
   "cell_type": "code",
   "execution_count": 404,
   "metadata": {},
   "outputs": [
    {
     "data": {
      "text/html": [
       "<div>\n",
       "<style scoped>\n",
       "    .dataframe tbody tr th:only-of-type {\n",
       "        vertical-align: middle;\n",
       "    }\n",
       "\n",
       "    .dataframe tbody tr th {\n",
       "        vertical-align: top;\n",
       "    }\n",
       "\n",
       "    .dataframe thead th {\n",
       "        text-align: right;\n",
       "    }\n",
       "</style>\n",
       "<table border=\"1\" class=\"dataframe\">\n",
       "  <thead>\n",
       "    <tr style=\"text-align: right;\">\n",
       "      <th></th>\n",
       "      <th>LotArea</th>\n",
       "      <th>YearBuilt</th>\n",
       "      <th>YearRemodAdd</th>\n",
       "      <th>MasVnrArea</th>\n",
       "      <th>BsmtFinSF1</th>\n",
       "      <th>BsmtFinSF2</th>\n",
       "      <th>BsmtUnfSF</th>\n",
       "      <th>TotalBsmtSF</th>\n",
       "      <th>1stFlrSF</th>\n",
       "      <th>2ndFlrSF</th>\n",
       "      <th>...</th>\n",
       "      <th>MoSold_6</th>\n",
       "      <th>MoSold_7</th>\n",
       "      <th>MoSold_8</th>\n",
       "      <th>MoSold_9</th>\n",
       "      <th>MoSold_10</th>\n",
       "      <th>MoSold_11</th>\n",
       "      <th>MoSold_12</th>\n",
       "      <th>Heating_GasW</th>\n",
       "      <th>Heating_Grav</th>\n",
       "      <th>Heating_OthW</th>\n",
       "    </tr>\n",
       "  </thead>\n",
       "  <tbody>\n",
       "    <tr>\n",
       "      <th>count</th>\n",
       "      <td>279.000000</td>\n",
       "      <td>279.000000</td>\n",
       "      <td>279.000000</td>\n",
       "      <td>279.000000</td>\n",
       "      <td>279.000000</td>\n",
       "      <td>279.0</td>\n",
       "      <td>279.000000</td>\n",
       "      <td>279.000000</td>\n",
       "      <td>279.000000</td>\n",
       "      <td>279.000000</td>\n",
       "      <td>...</td>\n",
       "      <td>279.000000</td>\n",
       "      <td>279.000000</td>\n",
       "      <td>279.000000</td>\n",
       "      <td>279.000000</td>\n",
       "      <td>279.000000</td>\n",
       "      <td>279.000000</td>\n",
       "      <td>279.000000</td>\n",
       "      <td>279.000000</td>\n",
       "      <td>279.000000</td>\n",
       "      <td>279.000000</td>\n",
       "    </tr>\n",
       "    <tr>\n",
       "      <th>mean</th>\n",
       "      <td>0.408632</td>\n",
       "      <td>0.707168</td>\n",
       "      <td>0.609438</td>\n",
       "      <td>0.180112</td>\n",
       "      <td>0.260225</td>\n",
       "      <td>0.0</td>\n",
       "      <td>0.326213</td>\n",
       "      <td>0.429954</td>\n",
       "      <td>0.373639</td>\n",
       "      <td>0.206714</td>\n",
       "      <td>...</td>\n",
       "      <td>0.182796</td>\n",
       "      <td>0.150538</td>\n",
       "      <td>0.111111</td>\n",
       "      <td>0.050179</td>\n",
       "      <td>0.064516</td>\n",
       "      <td>0.046595</td>\n",
       "      <td>0.039427</td>\n",
       "      <td>0.010753</td>\n",
       "      <td>0.003584</td>\n",
       "      <td>0.003584</td>\n",
       "    </tr>\n",
       "    <tr>\n",
       "      <th>std</th>\n",
       "      <td>0.179258</td>\n",
       "      <td>0.242948</td>\n",
       "      <td>0.339618</td>\n",
       "      <td>0.251970</td>\n",
       "      <td>0.254030</td>\n",
       "      <td>0.0</td>\n",
       "      <td>0.206967</td>\n",
       "      <td>0.169612</td>\n",
       "      <td>0.183627</td>\n",
       "      <td>0.224850</td>\n",
       "      <td>...</td>\n",
       "      <td>0.387193</td>\n",
       "      <td>0.358240</td>\n",
       "      <td>0.314834</td>\n",
       "      <td>0.218707</td>\n",
       "      <td>0.246112</td>\n",
       "      <td>0.211148</td>\n",
       "      <td>0.194957</td>\n",
       "      <td>0.103321</td>\n",
       "      <td>0.059868</td>\n",
       "      <td>0.059868</td>\n",
       "    </tr>\n",
       "    <tr>\n",
       "      <th>min</th>\n",
       "      <td>-0.012300</td>\n",
       "      <td>0.076923</td>\n",
       "      <td>0.000000</td>\n",
       "      <td>0.000000</td>\n",
       "      <td>0.000000</td>\n",
       "      <td>0.0</td>\n",
       "      <td>0.000000</td>\n",
       "      <td>-0.044271</td>\n",
       "      <td>0.023742</td>\n",
       "      <td>0.000000</td>\n",
       "      <td>...</td>\n",
       "      <td>0.000000</td>\n",
       "      <td>0.000000</td>\n",
       "      <td>0.000000</td>\n",
       "      <td>0.000000</td>\n",
       "      <td>0.000000</td>\n",
       "      <td>0.000000</td>\n",
       "      <td>0.000000</td>\n",
       "      <td>0.000000</td>\n",
       "      <td>0.000000</td>\n",
       "      <td>0.000000</td>\n",
       "    </tr>\n",
       "    <tr>\n",
       "      <th>25%</th>\n",
       "      <td>0.298411</td>\n",
       "      <td>0.534615</td>\n",
       "      <td>0.333333</td>\n",
       "      <td>0.000000</td>\n",
       "      <td>0.000000</td>\n",
       "      <td>0.0</td>\n",
       "      <td>0.163056</td>\n",
       "      <td>0.309375</td>\n",
       "      <td>0.232052</td>\n",
       "      <td>0.000000</td>\n",
       "      <td>...</td>\n",
       "      <td>0.000000</td>\n",
       "      <td>0.000000</td>\n",
       "      <td>0.000000</td>\n",
       "      <td>0.000000</td>\n",
       "      <td>0.000000</td>\n",
       "      <td>0.000000</td>\n",
       "      <td>0.000000</td>\n",
       "      <td>0.000000</td>\n",
       "      <td>0.000000</td>\n",
       "      <td>0.000000</td>\n",
       "    </tr>\n",
       "    <tr>\n",
       "      <th>50%</th>\n",
       "      <td>0.409056</td>\n",
       "      <td>0.738462</td>\n",
       "      <td>0.766667</td>\n",
       "      <td>0.000000</td>\n",
       "      <td>0.229648</td>\n",
       "      <td>0.0</td>\n",
       "      <td>0.302778</td>\n",
       "      <td>0.388542</td>\n",
       "      <td>0.332391</td>\n",
       "      <td>0.000000</td>\n",
       "      <td>...</td>\n",
       "      <td>0.000000</td>\n",
       "      <td>0.000000</td>\n",
       "      <td>0.000000</td>\n",
       "      <td>0.000000</td>\n",
       "      <td>0.000000</td>\n",
       "      <td>0.000000</td>\n",
       "      <td>0.000000</td>\n",
       "      <td>0.000000</td>\n",
       "      <td>0.000000</td>\n",
       "      <td>0.000000</td>\n",
       "    </tr>\n",
       "    <tr>\n",
       "      <th>75%</th>\n",
       "      <td>0.524872</td>\n",
       "      <td>0.938462</td>\n",
       "      <td>0.900000</td>\n",
       "      <td>0.347778</td>\n",
       "      <td>0.432868</td>\n",
       "      <td>0.0</td>\n",
       "      <td>0.445000</td>\n",
       "      <td>0.544010</td>\n",
       "      <td>0.495195</td>\n",
       "      <td>0.410341</td>\n",
       "      <td>...</td>\n",
       "      <td>0.000000</td>\n",
       "      <td>0.000000</td>\n",
       "      <td>0.000000</td>\n",
       "      <td>0.000000</td>\n",
       "      <td>0.000000</td>\n",
       "      <td>0.000000</td>\n",
       "      <td>0.000000</td>\n",
       "      <td>0.000000</td>\n",
       "      <td>0.000000</td>\n",
       "      <td>0.000000</td>\n",
       "    </tr>\n",
       "    <tr>\n",
       "      <th>max</th>\n",
       "      <td>0.940133</td>\n",
       "      <td>0.992308</td>\n",
       "      <td>1.000000</td>\n",
       "      <td>0.966667</td>\n",
       "      <td>0.983597</td>\n",
       "      <td>0.0</td>\n",
       "      <td>0.950000</td>\n",
       "      <td>1.013542</td>\n",
       "      <td>0.972301</td>\n",
       "      <td>0.726073</td>\n",
       "      <td>...</td>\n",
       "      <td>1.000000</td>\n",
       "      <td>1.000000</td>\n",
       "      <td>1.000000</td>\n",
       "      <td>1.000000</td>\n",
       "      <td>1.000000</td>\n",
       "      <td>1.000000</td>\n",
       "      <td>1.000000</td>\n",
       "      <td>1.000000</td>\n",
       "      <td>1.000000</td>\n",
       "      <td>1.000000</td>\n",
       "    </tr>\n",
       "  </tbody>\n",
       "</table>\n",
       "<p>8 rows × 238 columns</p>\n",
       "</div>"
      ],
      "text/plain": [
       "          LotArea   YearBuilt  YearRemodAdd  MasVnrArea  BsmtFinSF1  \\\n",
       "count  279.000000  279.000000    279.000000  279.000000  279.000000   \n",
       "mean     0.408632    0.707168      0.609438    0.180112    0.260225   \n",
       "std      0.179258    0.242948      0.339618    0.251970    0.254030   \n",
       "min     -0.012300    0.076923      0.000000    0.000000    0.000000   \n",
       "25%      0.298411    0.534615      0.333333    0.000000    0.000000   \n",
       "50%      0.409056    0.738462      0.766667    0.000000    0.229648   \n",
       "75%      0.524872    0.938462      0.900000    0.347778    0.432868   \n",
       "max      0.940133    0.992308      1.000000    0.966667    0.983597   \n",
       "\n",
       "       BsmtFinSF2   BsmtUnfSF  TotalBsmtSF    1stFlrSF    2ndFlrSF  ...  \\\n",
       "count       279.0  279.000000   279.000000  279.000000  279.000000  ...   \n",
       "mean          0.0    0.326213     0.429954    0.373639    0.206714  ...   \n",
       "std           0.0    0.206967     0.169612    0.183627    0.224850  ...   \n",
       "min           0.0    0.000000    -0.044271    0.023742    0.000000  ...   \n",
       "25%           0.0    0.163056     0.309375    0.232052    0.000000  ...   \n",
       "50%           0.0    0.302778     0.388542    0.332391    0.000000  ...   \n",
       "75%           0.0    0.445000     0.544010    0.495195    0.410341  ...   \n",
       "max           0.0    0.950000     1.013542    0.972301    0.726073  ...   \n",
       "\n",
       "         MoSold_6    MoSold_7    MoSold_8    MoSold_9   MoSold_10   MoSold_11  \\\n",
       "count  279.000000  279.000000  279.000000  279.000000  279.000000  279.000000   \n",
       "mean     0.182796    0.150538    0.111111    0.050179    0.064516    0.046595   \n",
       "std      0.387193    0.358240    0.314834    0.218707    0.246112    0.211148   \n",
       "min      0.000000    0.000000    0.000000    0.000000    0.000000    0.000000   \n",
       "25%      0.000000    0.000000    0.000000    0.000000    0.000000    0.000000   \n",
       "50%      0.000000    0.000000    0.000000    0.000000    0.000000    0.000000   \n",
       "75%      0.000000    0.000000    0.000000    0.000000    0.000000    0.000000   \n",
       "max      1.000000    1.000000    1.000000    1.000000    1.000000    1.000000   \n",
       "\n",
       "        MoSold_12  Heating_GasW  Heating_Grav  Heating_OthW  \n",
       "count  279.000000    279.000000    279.000000    279.000000  \n",
       "mean     0.039427      0.010753      0.003584      0.003584  \n",
       "std      0.194957      0.103321      0.059868      0.059868  \n",
       "min      0.000000      0.000000      0.000000      0.000000  \n",
       "25%      0.000000      0.000000      0.000000      0.000000  \n",
       "50%      0.000000      0.000000      0.000000      0.000000  \n",
       "75%      0.000000      0.000000      0.000000      0.000000  \n",
       "max      1.000000      1.000000      1.000000      1.000000  \n",
       "\n",
       "[8 rows x 238 columns]"
      ]
     },
     "execution_count": 404,
     "metadata": {},
     "output_type": "execute_result"
    }
   ],
   "source": [
    "df1_test.describe()"
   ]
  },
  {
   "cell_type": "code",
   "execution_count": 405,
   "metadata": {},
   "outputs": [],
   "source": [
    "#defining predictor and target variables in test data\n",
    "y_test = df1_test.pop('SalePrice') # prediction requried\n",
    "X_test = df1_test # predictor variables"
   ]
  },
  {
   "cell_type": "code",
   "execution_count": 406,
   "metadata": {},
   "outputs": [],
   "source": [
    "#y test predicted using Linear Model\n",
    "y_pred_test = lm.predict(X_test)"
   ]
  },
  {
   "cell_type": "code",
   "execution_count": 407,
   "metadata": {},
   "outputs": [],
   "source": [
    "#Residuals from y_test predicted\n",
    "residuals_test = y_pred_test - y_test"
   ]
  },
  {
   "cell_type": "code",
   "execution_count": 408,
   "metadata": {},
   "outputs": [
    {
     "data": {
      "text/plain": [
       "<AxesSubplot:ylabel='SalePrice'>"
      ]
     },
     "execution_count": 408,
     "metadata": {},
     "output_type": "execute_result"
    },
    {
     "data": {
      "image/png": "[encoded data removed]",
      "text/plain": [
       "<Figure size 640x480 with 1 Axes>"
      ]
     },
     "metadata": {},
     "output_type": "display_data"
    }
   ],
   "source": [
    "#Scatter plot of residuals of y_test\n",
    "sns.scatterplot(residuals_test)"
   ]
  },
  {
   "cell_type": "markdown",
   "metadata": {},
   "source": [
    "#### The Linear model is no good than a horizontal line!!!!"
   ]
  },
  {
   "cell_type": "code",
   "execution_count": 409,
   "metadata": {},
   "outputs": [
    {
     "data": {
      "text/plain": [
       "<AxesSubplot:ylabel='SalePrice'>"
      ]
     },
     "execution_count": 409,
     "metadata": {},
     "output_type": "execute_result"
    },
    {
     "data": {
      "image/png": "[encoded data removed]",
      "text/plain": [
       "<Figure size 640x480 with 1 Axes>"
      ]
     },
     "metadata": {},
     "output_type": "display_data"
    }
   ],
   "source": [
    "#Scatter plot of residuals vs predictions in test data set\n",
    "sns.scatterplot(x=y_pred_test, y=residuals_test)\n",
    "    "
   ]
  },
  {
   "cell_type": "markdown",
   "metadata": {},
   "source": [
    "#### No specific patterns could be observed the residuals plots which calls for polynomial regression fits. Therefore polynomial regression exercise is considered futile"
   ]
  },
  {
   "cell_type": "code",
   "execution_count": 410,
   "metadata": {},
   "outputs": [
    {
     "data": {
      "text/plain": [
       "-4.5072856987609294e+20"
      ]
     },
     "execution_count": 410,
     "metadata": {},
     "output_type": "execute_result"
    }
   ],
   "source": [
    "#r2 score from y_test predicted\n",
    "r2_score_LR_test = r2_score(y_true = y_test, y_pred = y_pred_test)\n",
    "r2_score_LR_test"
   ]
  },
  {
   "cell_type": "markdown",
   "metadata": {},
   "source": [
    "Other metrics"
   ]
  },
  {
   "cell_type": "code",
   "execution_count": 411,
   "metadata": {},
   "outputs": [
    {
     "name": "stdout",
     "output_type": "stream",
     "text": [
      "r2 for train data(LR): 0.9461732854639885\n",
      "r2 for test data(LR): -4.5072856987609294e+20\n",
      "mse for train data(LR): 0.0009298275025130358\n",
      "mse for test data(LR): 7.132205105060337e+18\n",
      "mae for train data(LR): 0.020390898852724756\n",
      "mae for test data(LR): 287334612.5240714\n"
     ]
    }
   ],
   "source": [
    "mse_train_LR = mean_squared_error(y_true = y_train, y_pred = y_pred_train)\n",
    "mse_test_LR = mean_squared_error(y_true = y_test, y_pred = y_pred_test)\n",
    "mae_train_LR = mean_absolute_error(y_true = y_train, y_pred = y_pred_train)\n",
    "mae_test_LR = mean_absolute_error(y_true = y_test, y_pred = y_pred_test)\n",
    "\n",
    "print(f\"r2 for train data(LR): {r2_score_LR_train}\")\n",
    "print(f\"r2 for test data(LR): {r2_score_LR_test}\")\n",
    "print(f\"mse for train data(LR): {mse_train_LR}\")\n",
    "print(f\"mse for test data(LR): {mse_test_LR}\")\n",
    "print(f\"mae for train data(LR): {mae_train_LR}\")\n",
    "print(f\"mae for test data(LR): {mae_test_LR}\")"
   ]
  },
  {
   "cell_type": "markdown",
   "metadata": {},
   "source": [
    "r2 score on predictions is negative...something wrong with the model. Mostly overfitting<br>r2 score of training data set is well above that of test data set. <br> There is good scope for regularization."
   ]
  },
  {
   "cell_type": "markdown",
   "metadata": {},
   "source": [
    "#### Regularization Steps"
   ]
  },
  {
   "cell_type": "code",
   "execution_count": 412,
   "metadata": {},
   "outputs": [],
   "source": [
    "#importing ridge and lasso regularization functions from sklearn\n",
    "from sklearn.linear_model import Ridge, Lasso\n",
    "#importing gridsearchCV function for hyper parameter tuning\n",
    "from sklearn.model_selection import GridSearchCV"
   ]
  },
  {
   "cell_type": "markdown",
   "metadata": {},
   "source": [
    "Trying out Ridge regularization function and finding our best value of alpha(hyperparameter)"
   ]
  },
  {
   "cell_type": "code",
   "execution_count": 413,
   "metadata": {},
   "outputs": [
    {
     "name": "stdout",
     "output_type": "stream",
     "text": [
      "Fitting 5 folds for each of 28 candidates, totalling 140 fits\n",
      "{'alpha': 4.0}\n"
     ]
    }
   ],
   "source": [
    "ridge = Ridge() # Invoking ridge function\n",
    "params = {'alpha':[0.0001, 0.001, 0.01, 0.05, 0.1, 0.2, 0.3, 0.4, 0.5, 0.6, 0.7, 0.8, 0.9, 1.0, 2.0, 3.0, 4.0, 5.0, 6.0, 7.0, 8.0, 9.0, 10.0, 20, 50, 100, 500, 1000]}#Defining a list of alpha paramteres\n",
    "folds = 5 # defining number of folds for cross validation\n",
    "\n",
    "#GridSearch algorithm\n",
    "model_cv = GridSearchCV(\n",
    "    estimator=ridge, \n",
    "    param_grid=params, \n",
    "    scoring='neg_mean_absolute_error', \n",
    "    cv=folds, \n",
    "    return_train_score=True, \n",
    "    verbose=1)\n",
    "\n",
    "model_cv.fit(X_train, y_train)#Fitting the ridge linear model\n",
    "\n",
    "print(model_cv.best_params_)#Printing the best parameter of alpha(hyperparameter)\n",
    "\n"
   ]
  },
  {
   "cell_type": "code",
   "execution_count": 414,
   "metadata": {},
   "outputs": [
    {
     "data": {
      "text/html": [
       "<style>#sk-container-id-9 {color: black;}#sk-container-id-9 pre{padding: 0;}#sk-container-id-9 div.sk-toggleable {background-color: white;}#sk-container-id-9 label.sk-toggleable__label {cursor: pointer;display: block;width: 100%;margin-bottom: 0;padding: 0.3em;box-sizing: border-box;text-align: center;}#sk-container-id-9 label.sk-toggleable__label-arrow:before {content: \"▸\";float: left;margin-right: 0.25em;color: #696969;}#sk-container-id-9 label.sk-toggleable__label-arrow:hover:before {color: black;}#sk-container-id-9 div.sk-estimator:hover label.sk-toggleable__label-arrow:before {color: black;}#sk-container-id-9 div.sk-toggleable__content {max-height: 0;max-width: 0;overflow: hidden;text-align: left;background-color: #f0f8ff;}#sk-container-id-9 div.sk-toggleable__content pre {margin: 0.2em;color: black;border-radius: 0.25em;background-color: #f0f8ff;}#sk-container-id-9 input.sk-toggleable__control:checked~div.sk-toggleable__content {max-height: 200px;max-width: 100%;overflow: auto;}#sk-container-id-9 input.sk-toggleable__control:checked~label.sk-toggleable__label-arrow:before {content: \"▾\";}#sk-container-id-9 div.sk-estimator input.sk-toggleable__control:checked~label.sk-toggleable__label {background-color: #d4ebff;}#sk-container-id-9 div.sk-label input.sk-toggleable__control:checked~label.sk-toggleable__label {background-color: #d4ebff;}#sk-container-id-9 input.sk-hidden--visually {border: 0;clip: rect(1px 1px 1px 1px);clip: rect(1px, 1px, 1px, 1px);height: 1px;margin: -1px;overflow: hidden;padding: 0;position: absolute;width: 1px;}#sk-container-id-9 div.sk-estimator {font-family: monospace;background-color: #f0f8ff;border: 1px dotted black;border-radius: 0.25em;box-sizing: border-box;margin-bottom: 0.5em;}#sk-container-id-9 div.sk-estimator:hover {background-color: #d4ebff;}#sk-container-id-9 div.sk-parallel-item::after {content: \"\";width: 100%;border-bottom: 1px solid gray;flex-grow: 1;}#sk-container-id-9 div.sk-label:hover label.sk-toggleable__label {background-color: #d4ebff;}#sk-container-id-9 div.sk-serial::before {content: \"\";position: absolute;border-left: 1px solid gray;box-sizing: border-box;top: 0;bottom: 0;left: 50%;z-index: 0;}#sk-container-id-9 div.sk-serial {display: flex;flex-direction: column;align-items: center;background-color: white;padding-right: 0.2em;padding-left: 0.2em;position: relative;}#sk-container-id-9 div.sk-item {position: relative;z-index: 1;}#sk-container-id-9 div.sk-parallel {display: flex;align-items: stretch;justify-content: center;background-color: white;position: relative;}#sk-container-id-9 div.sk-item::before, #sk-container-id-9 div.sk-parallel-item::before {content: \"\";position: absolute;border-left: 1px solid gray;box-sizing: border-box;top: 0;bottom: 0;left: 50%;z-index: -1;}#sk-container-id-9 div.sk-parallel-item {display: flex;flex-direction: column;z-index: 1;position: relative;background-color: white;}#sk-container-id-9 div.sk-parallel-item:first-child::after {align-self: flex-end;width: 50%;}#sk-container-id-9 div.sk-parallel-item:last-child::after {align-self: flex-start;width: 50%;}#sk-container-id-9 div.sk-parallel-item:only-child::after {width: 0;}#sk-container-id-9 div.sk-dashed-wrapped {border: 1px dashed gray;margin: 0 0.4em 0.5em 0.4em;box-sizing: border-box;padding-bottom: 0.4em;background-color: white;}#sk-container-id-9 div.sk-label label {font-family: monospace;font-weight: bold;display: inline-block;line-height: 1.2em;}#sk-container-id-9 div.sk-label-container {text-align: center;}#sk-container-id-9 div.sk-container {/* jupyter's `normalize.less` sets `[hidden] { display: none; }` but bootstrap.min.css set `[hidden] { display: none !important; }` so we also need the `!important` here to be able to override the default hidden behavior on the sphinx rendered scikit-learn.org. See: https://github.com/scikit-learn/scikit-learn/issues/21755 */display: inline-block !important;position: relative;}#sk-container-id-9 div.sk-text-repr-fallback {display: none;}</style><div id=\"sk-container-id-9\" class=\"sk-top-container\"><div class=\"sk-text-repr-fallback\"><pre>Ridge(alpha=4)</pre><b>In a Jupyter environment, please rerun this cell to show the HTML representation or trust the notebook. <br />On GitHub, the HTML representation is unable to render, please try loading this page with nbviewer.org.</b></div><div class=\"sk-container\" hidden><div class=\"sk-item\"><div class=\"sk-estimator sk-toggleable\"><input class=\"sk-toggleable__control sk-hidden--visually\" id=\"sk-estimator-id-9\" type=\"checkbox\" checked><label for=\"sk-estimator-id-9\" class=\"sk-toggleable__label sk-toggleable__label-arrow\">Ridge</label><div class=\"sk-toggleable__content\"><pre>Ridge(alpha=4)</pre></div></div></div></div></div>"
      ],
      "text/plain": [
       "Ridge(alpha=4)"
      ]
     },
     "execution_count": 414,
     "metadata": {},
     "output_type": "execute_result"
    }
   ],
   "source": [
    "#After finding the best value of alpha(hyperparameter), refitting the model with best value of alpha\n",
    "alpha = 4\n",
    "ridge = Ridge(alpha=alpha)\n",
    "\n",
    "ridge.fit(X_train, y_train)"
   ]
  },
  {
   "cell_type": "code",
   "execution_count": 415,
   "metadata": {},
   "outputs": [],
   "source": [
    "#predicting the variables using ridge model\n",
    "y_pred_train = ridge.predict(X_train)\n",
    "y_pred_test = ridge.predict(X_test)"
   ]
  },
  {
   "cell_type": "markdown",
   "metadata": {},
   "source": [
    "Evaluation of ridge model"
   ]
  },
  {
   "cell_type": "code",
   "execution_count": 416,
   "metadata": {},
   "outputs": [
    {
     "name": "stdout",
     "output_type": "stream",
     "text": [
      "r2 for train data(ridge): 0.9336542757792746\n",
      "r2 for test data(ridge): 0.8964754426058412\n",
      "mse for train data(ridge): 0.001146086652071313\n",
      "mse for test data(ridge): 0.0016381441650097934\n",
      "mae for train data(ridge): 0.02276288747859135\n",
      "mae for test data(ridge): 0.028542940506995716\n"
     ]
    }
   ],
   "source": [
    "#Finding model metrics for ridge model\n",
    "r2_train_ridge = r2_score(y_train, y_pred_train)\n",
    "r2_test_ridge = r2_score(y_test, y_pred_test)\n",
    "mse_train_ridge = mean_squared_error(y_train, y_pred_train)\n",
    "mse_test_ridge = mean_squared_error(y_test, y_pred_test)\n",
    "mae_train_ridge = mean_absolute_error(y_train, y_pred_train)\n",
    "mae_test_ridge = mean_absolute_error(y_test, y_pred_test)\n",
    "\n",
    "residuals_ridge = y_pred_test - y_test\n",
    "\n",
    "print(f\"r2 for train data(ridge): {r2_train_ridge}\")\n",
    "print(f\"r2 for test data(ridge): {r2_test_ridge}\")\n",
    "print(f\"mse for train data(ridge): {mse_train_ridge}\")\n",
    "print(f\"mse for test data(ridge): {mse_test_ridge}\")\n",
    "print(f\"mae for train data(ridge): {mae_train_ridge}\")\n",
    "print(f\"mae for test data(ridge): {mae_test_ridge}\")"
   ]
  },
  {
   "cell_type": "markdown",
   "metadata": {},
   "source": [
    "From the above it can be seen that the r2 score of the train and test data are very close, implying a good optimally fit model. The values when compared with a linear model without regularization are much better and trustworthy<br>Other metrics are also comparable"
   ]
  },
  {
   "cell_type": "code",
   "execution_count": 417,
   "metadata": {},
   "outputs": [
    {
     "data": {
      "text/plain": [
       "<AxesSubplot:ylabel='SalePrice'>"
      ]
     },
     "execution_count": 417,
     "metadata": {},
     "output_type": "execute_result"
    },
    {
     "data": {
      "image/png": "[encoded data removed]",
      "text/plain": [
       "<Figure size 640x480 with 1 Axes>"
      ]
     },
     "metadata": {},
     "output_type": "display_data"
    }
   ],
   "source": [
    "#Scatter plot of residuals vs predictions\n",
    "sns.scatterplot(y=residuals_ridge, x=y_pred_test)"
   ]
  },
  {
   "cell_type": "markdown",
   "metadata": {},
   "source": [
    "The plot shows no specific pattern and the mean is around zero"
   ]
  },
  {
   "cell_type": "markdown",
   "metadata": {},
   "source": [
    "Trying out Lasso regularization function and finding our best value of alpha(hyperparameter)"
   ]
  },
  {
   "cell_type": "code",
   "execution_count": 418,
   "metadata": {},
   "outputs": [
    {
     "name": "stdout",
     "output_type": "stream",
     "text": [
      "Fitting 5 folds for each of 33 candidates, totalling 165 fits\n",
      "{'alpha': 0.0002}\n"
     ]
    }
   ],
   "source": [
    "lasso = Lasso()#Invoking Lasso function\n",
    "\n",
    "params = {'alpha':[0.00001, 0.00005, 0.0001, 0.0002, 0.0003, 0.0004, 0.001, 0.01, 0.05, 0.1, 0.2, 0.3, 0.4, 0.5, 0.6, 0.7, 0.8, 0.9, 1.0, 2.0, 3.0, 4.0, 5.0, 6.0, 7.0, 8.0, 9.0, 10.0, 20, 50, 100, 500, 1000]}#Defining a list of alpha paramteres\n",
    "folds = 5 # defining number of folds for cross validation\n",
    "\n",
    "#grid search algorithm\n",
    "model_cv = GridSearchCV(\n",
    "    estimator=lasso, \n",
    "    param_grid=params, \n",
    "    scoring='neg_mean_absolute_error', \n",
    "    cv=folds, \n",
    "    return_train_score=True, \n",
    "    verbose=1)\n",
    "\n",
    "#Fitting the lasso regression model\n",
    "model_cv.fit(X_train, y_train)\n",
    "#Printing the best value of alpha(hyper parameter from lasso model)\n",
    "print(model_cv.best_params_)\n"
   ]
  },
  {
   "cell_type": "code",
   "execution_count": 419,
   "metadata": {},
   "outputs": [],
   "source": [
    "#After finding the best value of alpha(hyperparameter), refitting the model with best value of alpha\n",
    "alpha = 0.0002\n",
    "lasso = Lasso(alpha=alpha)\n",
    "\n",
    "lasso.fit(X_train, y_train)\n",
    "\n",
    "#Predictions using lasso model\n",
    "y_pred_train = lasso.predict(X_train)\n",
    "y_pred_test = lasso.predict(X_test)\n"
   ]
  },
  {
   "cell_type": "markdown",
   "metadata": {},
   "source": [
    "Evaluating the lasso model"
   ]
  },
  {
   "cell_type": "code",
   "execution_count": 420,
   "metadata": {},
   "outputs": [
    {
     "name": "stdout",
     "output_type": "stream",
     "text": [
      "r2 for train data(lasso): 0.9281459246348163\n",
      "r2 for test data(lasso): 0.8954619362667169\n",
      "mse for train data(lasso): 0.001241240451291028\n",
      "mse for test data(lasso): 0.001654181610978442\n",
      "mae for train data(lasso): 0.02372001174404411\n",
      "mae for test data(lasso): 0.0287456857020155\n"
     ]
    }
   ],
   "source": [
    "\n",
    "#residuals \n",
    "residuals_lasso = y_pred_test - y_test\n",
    "\n",
    "#Evaluation metrics for lasso model\n",
    "r2_train_lasso = r2_score(y_train, y_pred_train)\n",
    "r2_test_lasso = r2_score(y_test, y_pred_test)\n",
    "mse_train_lasso = mean_squared_error(y_train, y_pred_train)\n",
    "mse_test_lasso = mean_squared_error(y_test, y_pred_test)\n",
    "mae_train_lasso = mean_absolute_error(y_train, y_pred_train)\n",
    "mae_test_lasso = mean_absolute_error(y_test, y_pred_test)\n",
    "\n",
    "\n",
    "print(f\"r2 for train data(lasso): {r2_train_lasso}\")\n",
    "print(f\"r2 for test data(lasso): {r2_test_lasso}\")\n",
    "print(f\"mse for train data(lasso): {mse_train_lasso}\")\n",
    "print(f\"mse for test data(lasso): {mse_test_lasso}\")\n",
    "print(f\"mae for train data(lasso): {mae_train_lasso}\")\n",
    "print(f\"mae for test data(lasso): {mae_test_lasso}\")"
   ]
  },
  {
   "cell_type": "markdown",
   "metadata": {},
   "source": [
    "From the above it can be seen that the r2 score of the train and test data are very close, implying a good optimally fit model. The values when compared with a linear model without regularization are much better and trustworthy<br>Other metrics are also comparable"
   ]
  },
  {
   "cell_type": "code",
   "execution_count": 421,
   "metadata": {},
   "outputs": [
    {
     "data": {
      "text/plain": [
       "<AxesSubplot:ylabel='SalePrice'>"
      ]
     },
     "execution_count": 421,
     "metadata": {},
     "output_type": "execute_result"
    },
    {
     "data": {
      "image/png": "[encoded data removed]",
      "text/plain": [
       "<Figure size 640x480 with 1 Axes>"
      ]
     },
     "metadata": {},
     "output_type": "display_data"
    }
   ],
   "source": [
    "#Scatter plot of reiduals vs predictions in case of lasso\n",
    "sns.scatterplot(y=residuals_lasso, x=y_pred_test)"
   ]
  },
  {
   "cell_type": "markdown",
   "metadata": {},
   "source": [
    "The plot shows no specific pattern and is centered around mean  = zero"
   ]
  },
  {
   "cell_type": "markdown",
   "metadata": {},
   "source": [
    "##### Plots of residuals in case of ridge and lasso models"
   ]
  },
  {
   "cell_type": "code",
   "execution_count": 422,
   "metadata": {},
   "outputs": [
    {
     "data": {
      "text/plain": [
       "<AxesSubplot:xlabel='SalePrice', ylabel='Density'>"
      ]
     },
     "execution_count": 422,
     "metadata": {},
     "output_type": "execute_result"
    },
    {
     "data": {
      "image/png": "[encoded data removed]",
      "text/plain": [
       "<Figure size 640x480 with 1 Axes>"
      ]
     },
     "metadata": {},
     "output_type": "display_data"
    }
   ],
   "source": [
    "sns.distplot(residuals_ridge)"
   ]
  },
  {
   "cell_type": "code",
   "execution_count": 423,
   "metadata": {},
   "outputs": [
    {
     "data": {
      "text/plain": [
       "<AxesSubplot:xlabel='SalePrice', ylabel='Density'>"
      ]
     },
     "execution_count": 423,
     "metadata": {},
     "output_type": "execute_result"
    },
    {
     "data": {
      "image/png": "[encoded data removed]",
      "text/plain": [
       "<Figure size 640x480 with 1 Axes>"
      ]
     },
     "metadata": {},
     "output_type": "display_data"
    }
   ],
   "source": [
    "\n",
    "sns.distplot(residuals_lasso)\n"
   ]
  },
  {
   "cell_type": "markdown",
   "metadata": {},
   "source": [
    "##### It can be seen from the above plots of residuals that both the ridge and lasso models are good since the distribution is normal, no skews and centered around zero."
   ]
  },
  {
   "cell_type": "markdown",
   "metadata": {},
   "source": [
    "#### Finding most influential variables by arranging the variables in the order of coefficients"
   ]
  },
  {
   "cell_type": "code",
   "execution_count": 424,
   "metadata": {},
   "outputs": [
    {
     "data": {
      "text/plain": [
       "{'LotArea': 0.029575543287358362,\n",
       " 'YearBuilt': 0.04852158095629925,\n",
       " 'YearRemodAdd': 0.02361832435313543,\n",
       " 'MasVnrArea': 0.011011985046483352,\n",
       " 'BsmtFinSF1': 0.0567622505967029,\n",
       " 'BsmtFinSF2': 0.0,\n",
       " 'BsmtUnfSF': 0.0,\n",
       " 'TotalBsmtSF': 0.05121261745149894,\n",
       " '1stFlrSF': 0.03502509436939551,\n",
       " '2ndFlrSF': 0.0,\n",
       " 'LowQualFinSF': 0.0,\n",
       " 'GrLivArea': 0.2937852315025598,\n",
       " 'BsmtFullBath': -0.0052976018345492586,\n",
       " 'BsmtHalfBath': -0.0,\n",
       " 'FullBath': 0.0,\n",
       " 'HalfBath': 0.000512198566926356,\n",
       " 'BedroomAbvGr': -7.776034820424154e-05,\n",
       " 'KitchenAbvGr': -0.046167126087777975,\n",
       " 'TotRmsAbvGrd': 0.0,\n",
       " 'Fireplaces': 0.01616840939831296,\n",
       " 'GarageYrBlt': 0.006393326972634365,\n",
       " 'GarageCars': 0.03299365078791652,\n",
       " 'GarageArea': 0.026169241213424083,\n",
       " 'WoodDeckSF': 0.006420012295643813,\n",
       " 'OpenPorchSF': 0.011838655909717158,\n",
       " 'EnclosedPorch': 0.0,\n",
       " '3SsnPorch': 0.0,\n",
       " 'ScreenPorch': 0.003971100130783604,\n",
       " 'PoolArea': 0.0,\n",
       " 'MiscVal': 0.0,\n",
       " 'YrSold': 0.0,\n",
       " 'MSSubClass_30': -0.0025629115052860987,\n",
       " 'MSSubClass_40': 0.0,\n",
       " 'MSSubClass_45': 0.0,\n",
       " 'MSSubClass_50': -0.0,\n",
       " 'MSSubClass_60': 0.01359516180921857,\n",
       " 'MSSubClass_70': 0.004059386252579536,\n",
       " 'MSSubClass_75': -0.0,\n",
       " 'MSSubClass_80': 0.0,\n",
       " 'MSSubClass_85': -0.0,\n",
       " 'MSSubClass_90': -0.013723217728104689,\n",
       " 'MSSubClass_120': -0.0,\n",
       " 'MSSubClass_160': -0.003025509101903118,\n",
       " 'MSSubClass_180': -0.0,\n",
       " 'MSSubClass_190': -0.0,\n",
       " 'MSZoning_FV': 0.01672723529007266,\n",
       " 'MSZoning_RH': 0.0,\n",
       " 'MSZoning_RL': 0.006646713246851825,\n",
       " 'MSZoning_RM': -0.005628003353323422,\n",
       " 'LotShape_IR2': 0.0,\n",
       " 'LotShape_IR3': 0.0,\n",
       " 'LotShape_Reg': -0.001353975519977006,\n",
       " 'LandContour_HLS': 0.0,\n",
       " 'LandContour_Low': -0.0,\n",
       " 'LandContour_Lvl': 0.0,\n",
       " 'LotConfig_CulDSac': 0.0061643147218212666,\n",
       " 'LotConfig_FR2': -0.0,\n",
       " 'LotConfig_FR3': -0.0,\n",
       " 'LotConfig_Inside': -0.0,\n",
       " 'LandSlope_Mod': -0.0,\n",
       " 'LandSlope_Sev': -0.0,\n",
       " 'Neighborhood_Blueste': 0.0,\n",
       " 'Neighborhood_BrDale': 0.0,\n",
       " 'Neighborhood_BrkSide': 0.010492234734459056,\n",
       " 'Neighborhood_ClearCr': 0.0,\n",
       " 'Neighborhood_CollgCr': 0.0,\n",
       " 'Neighborhood_Crawfor': 0.048451501387788226,\n",
       " 'Neighborhood_Edwards': -0.02152320433297119,\n",
       " 'Neighborhood_Gilbert': -0.0,\n",
       " 'Neighborhood_IDOTRR': -0.0,\n",
       " 'Neighborhood_MeadowV': -0.026243531844477943,\n",
       " 'Neighborhood_Mitchel': -0.0024132282560112637,\n",
       " 'Neighborhood_NAmes': -0.015417791798089359,\n",
       " 'Neighborhood_NPkVill': 0.0,\n",
       " 'Neighborhood_NWAmes': -0.0,\n",
       " 'Neighborhood_NoRidge': 0.0015348368903268547,\n",
       " 'Neighborhood_NridgHt': 0.03893664466716222,\n",
       " 'Neighborhood_OldTown': -0.004222577864876436,\n",
       " 'Neighborhood_SWISU': -0.0,\n",
       " 'Neighborhood_Sawyer': -0.0007068325969685933,\n",
       " 'Neighborhood_SawyerW': -0.0,\n",
       " 'Neighborhood_Somerst': 0.005609431145392932,\n",
       " 'Neighborhood_StoneBr': 0.08124034206382509,\n",
       " 'Neighborhood_Timber': -0.0,\n",
       " 'Neighborhood_Veenker': 0.0,\n",
       " 'Condition1_Feedr': 0.0,\n",
       " 'Condition1_Norm': 0.016687874738753963,\n",
       " 'Condition1_PosA': -0.0,\n",
       " 'Condition1_PosN': 0.0,\n",
       " 'Condition1_RRAe': -0.0005073569727928602,\n",
       " 'Condition1_RRAn': -0.0,\n",
       " 'Condition1_RRNe': 0.0,\n",
       " 'Condition1_RRNn': 0.0,\n",
       " 'Condition2_Feedr': 0.0,\n",
       " 'Condition2_Norm': 0.0,\n",
       " 'Condition2_RRAn': -0.0,\n",
       " 'Condition2_RRNn': 0.0,\n",
       " 'BldgType_2fmCon': -0.0,\n",
       " 'BldgType_Duplex': -0.005172030219365218,\n",
       " 'BldgType_Twnhs': -0.010195981106108183,\n",
       " 'BldgType_TwnhsE': -0.010449220305319832,\n",
       " 'HouseStyle_1.5Unf': 0.0,\n",
       " 'HouseStyle_1Story': 0.0,\n",
       " 'HouseStyle_2.5Fin': 0.0,\n",
       " 'HouseStyle_2.5Unf': -0.0,\n",
       " 'HouseStyle_2Story': 0.0,\n",
       " 'HouseStyle_SFoyer': -0.0009960072802953411,\n",
       " 'HouseStyle_SLvl': 0.0,\n",
       " 'OverallQual_3': -0.0,\n",
       " 'OverallQual_4': -0.02179037586236031,\n",
       " 'OverallQual_5': -0.019043725946810038,\n",
       " 'OverallQual_6': -0.01812940776725638,\n",
       " 'OverallQual_7': 0.0,\n",
       " 'OverallQual_8': 0.038216718913610115,\n",
       " 'OverallQual_9': 0.09743914277586685,\n",
       " 'OverallQual_10': 0.025682084354983644,\n",
       " 'OverallCond_3': -0.02144217939944246,\n",
       " 'OverallCond_4': -0.02150667050631841,\n",
       " 'OverallCond_5': -0.012839062940672453,\n",
       " 'OverallCond_6': 0.0,\n",
       " 'OverallCond_7': 0.011155431977061722,\n",
       " 'OverallCond_8': 0.008923851878980838,\n",
       " 'OverallCond_9': 0.01179907512730151,\n",
       " 'RoofStyle_Gable': -0.003161089766000225,\n",
       " 'RoofStyle_Gambrel': 0.0,\n",
       " 'RoofStyle_Hip': 0.0,\n",
       " 'RoofStyle_Mansard': 0.0,\n",
       " 'RoofMatl_Tar&Grv': -0.0,\n",
       " 'RoofMatl_WdShake': -0.0,\n",
       " 'Exterior1st_BrkComm': 0.0,\n",
       " 'Exterior1st_BrkFace': 0.025966712523990364,\n",
       " 'Exterior1st_CemntBd': 0.0,\n",
       " 'Exterior1st_HdBoard': -0.0004334124784862026,\n",
       " 'Exterior1st_ImStucc': 0.0,\n",
       " 'Exterior1st_MetalSd': 0.0015244706971879512,\n",
       " 'Exterior1st_Plywood': -0.00389928029490547,\n",
       " 'Exterior1st_Stucco': 0.0,\n",
       " 'Exterior1st_VinylSd': -0.0,\n",
       " 'Exterior1st_Wd Sdng': -0.0,\n",
       " 'Exterior1st_WdShing': 0.0,\n",
       " 'Exterior2nd_AsphShn': 0.0,\n",
       " 'Exterior2nd_Brk Cmn': 0.0,\n",
       " 'Exterior2nd_BrkFace': -0.0,\n",
       " 'Exterior2nd_CmentBd': 0.015637252688109938,\n",
       " 'Exterior2nd_HdBoard': -0.008122721911404776,\n",
       " 'Exterior2nd_ImStucc': -0.0,\n",
       " 'Exterior2nd_MetalSd': 0.0,\n",
       " 'Exterior2nd_Other': 0.0,\n",
       " 'Exterior2nd_Plywood': -0.001924893606065361,\n",
       " 'Exterior2nd_Stone': 0.0,\n",
       " 'Exterior2nd_Stucco': 0.0,\n",
       " 'Exterior2nd_VinylSd': -0.0,\n",
       " 'Exterior2nd_Wd Sdng': 0.0020177707362800494,\n",
       " 'Exterior2nd_Wd Shng': -0.022063627272248358,\n",
       " 'ExterQual_Fa': 0.0,\n",
       " 'ExterQual_Gd': -0.0018284025597509082,\n",
       " 'ExterQual_TA': -0.010662141881495259,\n",
       " 'ExterCond_Fa': 0.0,\n",
       " 'ExterCond_Gd': -0.00021595123740865868,\n",
       " 'ExterCond_TA': 0.0,\n",
       " 'Foundation_CBlock': -0.0,\n",
       " 'Foundation_PConc': 2.2996339451962193e-05,\n",
       " 'Foundation_Stone': 0.0,\n",
       " 'Foundation_Wood': -0.0,\n",
       " 'BsmtQual_Fa': -0.0160031749047639,\n",
       " 'BsmtQual_Gd': -0.022996743803220126,\n",
       " 'BsmtQual_TA': -0.015968047683324427,\n",
       " 'BsmtCond_Gd': -0.0,\n",
       " 'BsmtCond_Po': -0.0,\n",
       " 'BsmtCond_TA': 0.01659127398395947,\n",
       " 'BsmtExposure_Gd': 0.03156601805674255,\n",
       " 'BsmtExposure_Mn': -0.0,\n",
       " 'BsmtExposure_No': -0.0,\n",
       " 'BsmtFinType1_BLQ': 0.0,\n",
       " 'BsmtFinType1_GLQ': 0.016655955554677276,\n",
       " 'BsmtFinType1_LwQ': -0.0013090536525894381,\n",
       " 'BsmtFinType1_Rec': -0.004083593264490924,\n",
       " 'BsmtFinType1_Unf': -0.0,\n",
       " 'HeatingQC_Fa': -0.002316109927800657,\n",
       " 'HeatingQC_Gd': -0.005055062677000851,\n",
       " 'HeatingQC_Po': 0.0,\n",
       " 'HeatingQC_TA': -0.006452843735002367,\n",
       " 'CentralAir_Y': 0.0,\n",
       " 'Electrical_FuseF': -0.0,\n",
       " 'Electrical_FuseP': -0.0,\n",
       " 'Electrical_Mix': -0.0,\n",
       " 'Electrical_SBrkr': -0.00974490732877466,\n",
       " 'SaleType_CWD': 0.0,\n",
       " 'SaleType_Con': 0.0,\n",
       " 'SaleType_ConLD': 0.0,\n",
       " 'SaleType_ConLI': -0.0,\n",
       " 'SaleType_ConLw': -0.0,\n",
       " 'SaleType_New': 0.006363561497715134,\n",
       " 'SaleType_Oth': 0.0,\n",
       " 'SaleType_WD': -0.0,\n",
       " 'SaleCondition_AdjLand': 0.0,\n",
       " 'SaleCondition_Alloca': 0.0,\n",
       " 'SaleCondition_Family': 0.0,\n",
       " 'SaleCondition_Normal': 0.0023748193797299955,\n",
       " 'SaleCondition_Partial': 0.032471771144610896,\n",
       " 'KitchenQual_Fa': -0.006442916713630664,\n",
       " 'KitchenQual_Gd': -0.006852873678616566,\n",
       " 'KitchenQual_TA': -0.005147618462335155,\n",
       " 'Functional_Maj2': -0.0,\n",
       " 'Functional_Min1': -0.0,\n",
       " 'Functional_Min2': 0.00022373080566607647,\n",
       " 'Functional_Mod': -0.0,\n",
       " 'Functional_Typ': 0.028053211801033647,\n",
       " 'GarageType_Attchd': 0.0001544583126653781,\n",
       " 'GarageType_Basment': -0.0,\n",
       " 'GarageType_BuiltIn': 0.008148045282551622,\n",
       " 'GarageType_CarPort': -0.0,\n",
       " 'GarageType_Detchd': -0.0,\n",
       " 'GarageFinish_RFn': 0.0005905990938958344,\n",
       " 'GarageFinish_Unf': -0.0,\n",
       " 'GarageQual_Gd': 0.0,\n",
       " 'GarageQual_Po': -0.0,\n",
       " 'GarageQual_TA': 0.0002209663865117541,\n",
       " 'GarageCond_Gd': 0.0,\n",
       " 'GarageCond_Po': 0.0,\n",
       " 'GarageCond_TA': 0.0,\n",
       " 'PavedDrive_P': -0.0,\n",
       " 'PavedDrive_Y': -0.0,\n",
       " 'MoSold_2': -0.007933855547294482,\n",
       " 'MoSold_3': -0.0,\n",
       " 'MoSold_4': 0.0004915847136423746,\n",
       " 'MoSold_5': 0.0038447632580585417,\n",
       " 'MoSold_6': 0.0,\n",
       " 'MoSold_7': 0.0034917188421135685,\n",
       " 'MoSold_8': 0.0,\n",
       " 'MoSold_9': 0.0,\n",
       " 'MoSold_10': -0.0,\n",
       " 'MoSold_11': -0.0,\n",
       " 'MoSold_12': -0.002038192807770042,\n",
       " 'Heating_GasW': -0.0,\n",
       " 'Heating_Grav': -0.0,\n",
       " 'Heating_OthW': 0.0}"
      ]
     },
     "execution_count": 424,
     "metadata": {},
     "output_type": "execute_result"
    }
   ],
   "source": [
    "#Finding influential variables in case of lasso\n",
    "features_lasso = lasso.feature_names_in_\n",
    "coeff_lasso = lasso.coef_\n",
    "dic_lasso = dict(zip(features_lasso, coeff_lasso))\n",
    "dic_lasso"
   ]
  },
  {
   "cell_type": "code",
   "execution_count": 425,
   "metadata": {},
   "outputs": [
    {
     "data": {
      "text/plain": [
       "{'KitchenAbvGr': -0.046167126087777975,\n",
       " 'Neighborhood_MeadowV': -0.026243531844477943,\n",
       " 'BsmtQual_Gd': -0.022996743803220126,\n",
       " 'Exterior2nd_Wd Shng': -0.022063627272248358,\n",
       " 'OverallQual_4': -0.02179037586236031,\n",
       " 'Neighborhood_Edwards': -0.02152320433297119,\n",
       " 'OverallCond_4': -0.02150667050631841,\n",
       " 'OverallCond_3': -0.02144217939944246,\n",
       " 'OverallQual_5': -0.019043725946810038,\n",
       " 'OverallQual_6': -0.01812940776725638,\n",
       " 'BsmtQual_Fa': -0.0160031749047639,\n",
       " 'BsmtQual_TA': -0.015968047683324427,\n",
       " 'Neighborhood_NAmes': -0.015417791798089359,\n",
       " 'MSSubClass_90': -0.013723217728104689,\n",
       " 'OverallCond_5': -0.012839062940672453,\n",
       " 'ExterQual_TA': -0.010662141881495259,\n",
       " 'BldgType_TwnhsE': -0.010449220305319832,\n",
       " 'BldgType_Twnhs': -0.010195981106108183,\n",
       " 'Electrical_SBrkr': -0.00974490732877466,\n",
       " 'Exterior2nd_HdBoard': -0.008122721911404776,\n",
       " 'MoSold_2': -0.007933855547294482,\n",
       " 'KitchenQual_Gd': -0.006852873678616566,\n",
       " 'HeatingQC_TA': -0.006452843735002367,\n",
       " 'KitchenQual_Fa': -0.006442916713630664,\n",
       " 'MSZoning_RM': -0.005628003353323422,\n",
       " 'BsmtFullBath': -0.0052976018345492586,\n",
       " 'BldgType_Duplex': -0.005172030219365218,\n",
       " 'KitchenQual_TA': -0.005147618462335155,\n",
       " 'HeatingQC_Gd': -0.005055062677000851,\n",
       " 'Neighborhood_OldTown': -0.004222577864876436,\n",
       " 'BsmtFinType1_Rec': -0.004083593264490924,\n",
       " 'Exterior1st_Plywood': -0.00389928029490547,\n",
       " 'RoofStyle_Gable': -0.003161089766000225,\n",
       " 'MSSubClass_160': -0.003025509101903118,\n",
       " 'MSSubClass_30': -0.0025629115052860987,\n",
       " 'Neighborhood_Mitchel': -0.0024132282560112637,\n",
       " 'HeatingQC_Fa': -0.002316109927800657,\n",
       " 'MoSold_12': -0.002038192807770042,\n",
       " 'Exterior2nd_Plywood': -0.001924893606065361,\n",
       " 'ExterQual_Gd': -0.0018284025597509082,\n",
       " 'LotShape_Reg': -0.001353975519977006,\n",
       " 'BsmtFinType1_LwQ': -0.0013090536525894381,\n",
       " 'HouseStyle_SFoyer': -0.0009960072802953411,\n",
       " 'Neighborhood_Sawyer': -0.0007068325969685933,\n",
       " 'Condition1_RRAe': -0.0005073569727928602,\n",
       " 'Exterior1st_HdBoard': -0.0004334124784862026,\n",
       " 'ExterCond_Gd': -0.00021595123740865868,\n",
       " 'BedroomAbvGr': -7.776034820424154e-05,\n",
       " 'BsmtFinSF2': 0.0,\n",
       " 'BsmtUnfSF': 0.0,\n",
       " '2ndFlrSF': 0.0,\n",
       " 'LowQualFinSF': 0.0,\n",
       " 'BsmtHalfBath': -0.0,\n",
       " 'FullBath': 0.0,\n",
       " 'TotRmsAbvGrd': 0.0,\n",
       " 'EnclosedPorch': 0.0,\n",
       " '3SsnPorch': 0.0,\n",
       " 'PoolArea': 0.0,\n",
       " 'MiscVal': 0.0,\n",
       " 'YrSold': 0.0,\n",
       " 'MSSubClass_40': 0.0,\n",
       " 'MSSubClass_45': 0.0,\n",
       " 'MSSubClass_50': -0.0,\n",
       " 'MSSubClass_75': -0.0,\n",
       " 'MSSubClass_80': 0.0,\n",
       " 'MSSubClass_85': -0.0,\n",
       " 'MSSubClass_120': -0.0,\n",
       " 'MSSubClass_180': -0.0,\n",
       " 'MSSubClass_190': -0.0,\n",
       " 'MSZoning_RH': 0.0,\n",
       " 'LotShape_IR2': 0.0,\n",
       " 'LotShape_IR3': 0.0,\n",
       " 'LandContour_HLS': 0.0,\n",
       " 'LandContour_Low': -0.0,\n",
       " 'LandContour_Lvl': 0.0,\n",
       " 'LotConfig_FR2': -0.0,\n",
       " 'LotConfig_FR3': -0.0,\n",
       " 'LotConfig_Inside': -0.0,\n",
       " 'LandSlope_Mod': -0.0,\n",
       " 'LandSlope_Sev': -0.0,\n",
       " 'Neighborhood_Blueste': 0.0,\n",
       " 'Neighborhood_BrDale': 0.0,\n",
       " 'Neighborhood_ClearCr': 0.0,\n",
       " 'Neighborhood_CollgCr': 0.0,\n",
       " 'Neighborhood_Gilbert': -0.0,\n",
       " 'Neighborhood_IDOTRR': -0.0,\n",
       " 'Neighborhood_NPkVill': 0.0,\n",
       " 'Neighborhood_NWAmes': -0.0,\n",
       " 'Neighborhood_SWISU': -0.0,\n",
       " 'Neighborhood_SawyerW': -0.0,\n",
       " 'Neighborhood_Timber': -0.0,\n",
       " 'Neighborhood_Veenker': 0.0,\n",
       " 'Condition1_Feedr': 0.0,\n",
       " 'Condition1_PosA': -0.0,\n",
       " 'Condition1_PosN': 0.0,\n",
       " 'Condition1_RRAn': -0.0,\n",
       " 'Condition1_RRNe': 0.0,\n",
       " 'Condition1_RRNn': 0.0,\n",
       " 'Condition2_Feedr': 0.0,\n",
       " 'Condition2_Norm': 0.0,\n",
       " 'Condition2_RRAn': -0.0,\n",
       " 'Condition2_RRNn': 0.0,\n",
       " 'BldgType_2fmCon': -0.0,\n",
       " 'HouseStyle_1.5Unf': 0.0,\n",
       " 'HouseStyle_1Story': 0.0,\n",
       " 'HouseStyle_2.5Fin': 0.0,\n",
       " 'HouseStyle_2.5Unf': -0.0,\n",
       " 'HouseStyle_2Story': 0.0,\n",
       " 'HouseStyle_SLvl': 0.0,\n",
       " 'OverallQual_3': -0.0,\n",
       " 'OverallQual_7': 0.0,\n",
       " 'OverallCond_6': 0.0,\n",
       " 'RoofStyle_Gambrel': 0.0,\n",
       " 'RoofStyle_Hip': 0.0,\n",
       " 'RoofStyle_Mansard': 0.0,\n",
       " 'RoofMatl_Tar&Grv': -0.0,\n",
       " 'RoofMatl_WdShake': -0.0,\n",
       " 'Exterior1st_BrkComm': 0.0,\n",
       " 'Exterior1st_CemntBd': 0.0,\n",
       " 'Exterior1st_ImStucc': 0.0,\n",
       " 'Exterior1st_Stucco': 0.0,\n",
       " 'Exterior1st_VinylSd': -0.0,\n",
       " 'Exterior1st_Wd Sdng': -0.0,\n",
       " 'Exterior1st_WdShing': 0.0,\n",
       " 'Exterior2nd_AsphShn': 0.0,\n",
       " 'Exterior2nd_Brk Cmn': 0.0,\n",
       " 'Exterior2nd_BrkFace': -0.0,\n",
       " 'Exterior2nd_ImStucc': -0.0,\n",
       " 'Exterior2nd_MetalSd': 0.0,\n",
       " 'Exterior2nd_Other': 0.0,\n",
       " 'Exterior2nd_Stone': 0.0,\n",
       " 'Exterior2nd_Stucco': 0.0,\n",
       " 'Exterior2nd_VinylSd': -0.0,\n",
       " 'ExterQual_Fa': 0.0,\n",
       " 'ExterCond_Fa': 0.0,\n",
       " 'ExterCond_TA': 0.0,\n",
       " 'Foundation_CBlock': -0.0,\n",
       " 'Foundation_Stone': 0.0,\n",
       " 'Foundation_Wood': -0.0,\n",
       " 'BsmtCond_Gd': -0.0,\n",
       " 'BsmtCond_Po': -0.0,\n",
       " 'BsmtExposure_Mn': -0.0,\n",
       " 'BsmtExposure_No': -0.0,\n",
       " 'BsmtFinType1_BLQ': 0.0,\n",
       " 'BsmtFinType1_Unf': -0.0,\n",
       " 'HeatingQC_Po': 0.0,\n",
       " 'CentralAir_Y': 0.0,\n",
       " 'Electrical_FuseF': -0.0,\n",
       " 'Electrical_FuseP': -0.0,\n",
       " 'Electrical_Mix': -0.0,\n",
       " 'SaleType_CWD': 0.0,\n",
       " 'SaleType_Con': 0.0,\n",
       " 'SaleType_ConLD': 0.0,\n",
       " 'SaleType_ConLI': -0.0,\n",
       " 'SaleType_ConLw': -0.0,\n",
       " 'SaleType_Oth': 0.0,\n",
       " 'SaleType_WD': -0.0,\n",
       " 'SaleCondition_AdjLand': 0.0,\n",
       " 'SaleCondition_Alloca': 0.0,\n",
       " 'SaleCondition_Family': 0.0,\n",
       " 'Functional_Maj2': -0.0,\n",
       " 'Functional_Min1': -0.0,\n",
       " 'Functional_Mod': -0.0,\n",
       " 'GarageType_Basment': -0.0,\n",
       " 'GarageType_CarPort': -0.0,\n",
       " 'GarageType_Detchd': -0.0,\n",
       " 'GarageFinish_Unf': -0.0,\n",
       " 'GarageQual_Gd': 0.0,\n",
       " 'GarageQual_Po': -0.0,\n",
       " 'GarageCond_Gd': 0.0,\n",
       " 'GarageCond_Po': 0.0,\n",
       " 'GarageCond_TA': 0.0,\n",
       " 'PavedDrive_P': -0.0,\n",
       " 'PavedDrive_Y': -0.0,\n",
       " 'MoSold_3': -0.0,\n",
       " 'MoSold_6': 0.0,\n",
       " 'MoSold_8': 0.0,\n",
       " 'MoSold_9': 0.0,\n",
       " 'MoSold_10': -0.0,\n",
       " 'MoSold_11': -0.0,\n",
       " 'Heating_GasW': -0.0,\n",
       " 'Heating_Grav': -0.0,\n",
       " 'Heating_OthW': 0.0,\n",
       " 'Foundation_PConc': 2.2996339451962193e-05,\n",
       " 'GarageType_Attchd': 0.0001544583126653781,\n",
       " 'GarageQual_TA': 0.0002209663865117541,\n",
       " 'Functional_Min2': 0.00022373080566607647,\n",
       " 'MoSold_4': 0.0004915847136423746,\n",
       " 'HalfBath': 0.000512198566926356,\n",
       " 'GarageFinish_RFn': 0.0005905990938958344,\n",
       " 'Exterior1st_MetalSd': 0.0015244706971879512,\n",
       " 'Neighborhood_NoRidge': 0.0015348368903268547,\n",
       " 'Exterior2nd_Wd Sdng': 0.0020177707362800494,\n",
       " 'SaleCondition_Normal': 0.0023748193797299955,\n",
       " 'MoSold_7': 0.0034917188421135685,\n",
       " 'MoSold_5': 0.0038447632580585417,\n",
       " 'ScreenPorch': 0.003971100130783604,\n",
       " 'MSSubClass_70': 0.004059386252579536,\n",
       " 'Neighborhood_Somerst': 0.005609431145392932,\n",
       " 'LotConfig_CulDSac': 0.0061643147218212666,\n",
       " 'SaleType_New': 0.006363561497715134,\n",
       " 'GarageYrBlt': 0.006393326972634365,\n",
       " 'WoodDeckSF': 0.006420012295643813,\n",
       " 'MSZoning_RL': 0.006646713246851825,\n",
       " 'GarageType_BuiltIn': 0.008148045282551622,\n",
       " 'OverallCond_8': 0.008923851878980838,\n",
       " 'Neighborhood_BrkSide': 0.010492234734459056,\n",
       " 'MasVnrArea': 0.011011985046483352,\n",
       " 'OverallCond_7': 0.011155431977061722,\n",
       " 'OverallCond_9': 0.01179907512730151,\n",
       " 'OpenPorchSF': 0.011838655909717158,\n",
       " 'MSSubClass_60': 0.01359516180921857,\n",
       " 'Exterior2nd_CmentBd': 0.015637252688109938,\n",
       " 'Fireplaces': 0.01616840939831296,\n",
       " 'BsmtCond_TA': 0.01659127398395947,\n",
       " 'BsmtFinType1_GLQ': 0.016655955554677276,\n",
       " 'Condition1_Norm': 0.016687874738753963,\n",
       " 'MSZoning_FV': 0.01672723529007266,\n",
       " 'YearRemodAdd': 0.02361832435313543,\n",
       " 'OverallQual_10': 0.025682084354983644,\n",
       " 'Exterior1st_BrkFace': 0.025966712523990364,\n",
       " 'GarageArea': 0.026169241213424083,\n",
       " 'Functional_Typ': 0.028053211801033647,\n",
       " 'LotArea': 0.029575543287358362,\n",
       " 'BsmtExposure_Gd': 0.03156601805674255,\n",
       " 'SaleCondition_Partial': 0.032471771144610896,\n",
       " 'GarageCars': 0.03299365078791652,\n",
       " '1stFlrSF': 0.03502509436939551,\n",
       " 'OverallQual_8': 0.038216718913610115,\n",
       " 'Neighborhood_NridgHt': 0.03893664466716222,\n",
       " 'Neighborhood_Crawfor': 0.048451501387788226,\n",
       " 'YearBuilt': 0.04852158095629925,\n",
       " 'TotalBsmtSF': 0.05121261745149894,\n",
       " 'BsmtFinSF1': 0.0567622505967029,\n",
       " 'Neighborhood_StoneBr': 0.08124034206382509,\n",
       " 'OverallQual_9': 0.09743914277586685,\n",
       " 'GrLivArea': 0.2937852315025598}"
      ]
     },
     "execution_count": 425,
     "metadata": {},
     "output_type": "execute_result"
    }
   ],
   "source": [
    "sorted_dict_lasso = dict(sorted(dic_lasso.items(), key=lambda item: item[1]))\n",
    "sorted_dict_lasso"
   ]
  },
  {
   "cell_type": "markdown",
   "metadata": {},
   "source": [
    "Most influential varaibles in lasso model are the below, given together with the coefficient values:<br><br>\n",
    "'TotalBsmtSF': 0.05121261745149894,<br>\n",
    "'BsmtFinSF1': 0.0567622505967029,<br>\n",
    "'Neighborhood_StoneBr': 0.08124034206382509,<br>\n",
    "'OverallQual_9': 0.09743914277586685,<br>\n",
    "'GrLivArea': 0.2937852315025598"
   ]
  },
  {
   "cell_type": "code",
   "execution_count": 426,
   "metadata": {},
   "outputs": [
    {
     "data": {
      "text/plain": [
       "{'LotArea': 0.038557825748434464,\n",
       " 'YearBuilt': 0.02901506547732977,\n",
       " 'YearRemodAdd': 0.023116877486865854,\n",
       " 'MasVnrArea': 0.016438558086668435,\n",
       " 'BsmtFinSF1': 0.061195204562296934,\n",
       " 'BsmtFinSF2': 0.0,\n",
       " 'BsmtUnfSF': 0.007496243754295226,\n",
       " 'TotalBsmtSF': 0.05948986743087073,\n",
       " '1stFlrSF': 0.08110759807099444,\n",
       " '2ndFlrSF': 0.0504316096289735,\n",
       " 'LowQualFinSF': 0.0,\n",
       " 'GrLivArea': 0.07697676179805613,\n",
       " 'BsmtFullBath': -0.008660024617992592,\n",
       " 'BsmtHalfBath': -0.005960121015772016,\n",
       " 'FullBath': 0.02370818431278918,\n",
       " 'HalfBath': 0.0115300905996365,\n",
       " 'BedroomAbvGr': -0.012067517107778215,\n",
       " 'KitchenAbvGr': -0.020416265970478607,\n",
       " 'TotRmsAbvGrd': 0.03119248163481293,\n",
       " 'Fireplaces': 0.021749285666359246,\n",
       " 'GarageYrBlt': 0.009318924471687858,\n",
       " 'GarageCars': 0.03217693461881481,\n",
       " 'GarageArea': 0.03335316186558291,\n",
       " 'WoodDeckSF': 0.007340804149720635,\n",
       " 'OpenPorchSF': 0.014174154775803076,\n",
       " 'EnclosedPorch': 0.006219168558357949,\n",
       " '3SsnPorch': 0.009794959984457695,\n",
       " 'ScreenPorch': 0.01097470556384785,\n",
       " 'PoolArea': 0.0,\n",
       " 'MiscVal': 0.0,\n",
       " 'YrSold': -0.0022991802875442766,\n",
       " 'MSSubClass_30': -0.011152063341551888,\n",
       " 'MSSubClass_40': 0.0,\n",
       " 'MSSubClass_45': 0.001115627805381802,\n",
       " 'MSSubClass_50': 0.0014173748961763106,\n",
       " 'MSSubClass_60': 0.016873099325191737,\n",
       " 'MSSubClass_70': 0.00885956617264947,\n",
       " 'MSSubClass_75': 0.006285284571709328,\n",
       " 'MSSubClass_80': -0.002837148157750277,\n",
       " 'MSSubClass_85': -0.0023580430852210084,\n",
       " 'MSSubClass_90': -0.015346112233112429,\n",
       " 'MSSubClass_120': -0.006983526903924543,\n",
       " 'MSSubClass_160': -0.013449126592723164,\n",
       " 'MSSubClass_180': -0.00902211786564231,\n",
       " 'MSSubClass_190': -0.011672895528033772,\n",
       " 'MSZoning_FV': 0.018972267625034407,\n",
       " 'MSZoning_RH': 0.00028436403721883734,\n",
       " 'MSZoning_RL': 0.009618786153333456,\n",
       " 'MSZoning_RM': -0.0017212483448168123,\n",
       " 'LotShape_IR2': 0.0011137429911448964,\n",
       " 'LotShape_IR3': 0.0038331191903639697,\n",
       " 'LotShape_Reg': -0.00233186030650949,\n",
       " 'LandContour_HLS': 0.002769991204371585,\n",
       " 'LandContour_Low': -0.009576752022109284,\n",
       " 'LandContour_Lvl': -0.00025469068449779174,\n",
       " 'LotConfig_CulDSac': 0.008156186884206714,\n",
       " 'LotConfig_FR2': -0.00912041016574352,\n",
       " 'LotConfig_FR3': -0.0140801883104527,\n",
       " 'LotConfig_Inside': -0.0020170361618963464,\n",
       " 'LandSlope_Mod': -2.4560187275783503e-05,\n",
       " 'LandSlope_Sev': -0.016236305425034223,\n",
       " 'Neighborhood_Blueste': 0.0,\n",
       " 'Neighborhood_BrDale': 0.008730741315263493,\n",
       " 'Neighborhood_BrkSide': 0.005042211925689034,\n",
       " 'Neighborhood_ClearCr': 0.004478998338535176,\n",
       " 'Neighborhood_CollgCr': -0.008846549909083852,\n",
       " 'Neighborhood_Crawfor': 0.03862268231560354,\n",
       " 'Neighborhood_Edwards': -0.02854721275358869,\n",
       " 'Neighborhood_Gilbert': -0.012382269552518007,\n",
       " 'Neighborhood_IDOTRR': -0.011162760762264886,\n",
       " 'Neighborhood_MeadowV': -0.03226469807679569,\n",
       " 'Neighborhood_Mitchel': -0.015312885036446145,\n",
       " 'Neighborhood_NAmes': -0.025168276224289046,\n",
       " 'Neighborhood_NPkVill': 0.00843559766285237,\n",
       " 'Neighborhood_NWAmes': -0.008530738292082531,\n",
       " 'Neighborhood_NoRidge': 0.010445985835659541,\n",
       " 'Neighborhood_NridgHt': 0.029999477612330964,\n",
       " 'Neighborhood_OldTown': -0.013209944882033019,\n",
       " 'Neighborhood_SWISU': -0.005083284511637699,\n",
       " 'Neighborhood_Sawyer': -0.011307563068903086,\n",
       " 'Neighborhood_SawyerW': -0.00520116641200657,\n",
       " 'Neighborhood_Somerst': 0.000813611482253027,\n",
       " 'Neighborhood_StoneBr': 0.06333384093064026,\n",
       " 'Neighborhood_Timber': -0.013477189018372708,\n",
       " 'Neighborhood_Veenker': -0.0033988363155834063,\n",
       " 'Condition1_Feedr': 0.000702525831483094,\n",
       " 'Condition1_Norm': 0.01505984092922025,\n",
       " 'Condition1_PosA': -0.010342583166740997,\n",
       " 'Condition1_PosN': 0.008015406397371465,\n",
       " 'Condition1_RRAe': -0.014098156697958136,\n",
       " 'Condition1_RRAn': -0.003959201182609265,\n",
       " 'Condition1_RRNe': -0.003144941941128736,\n",
       " 'Condition1_RRNn': -0.0010251667701634427,\n",
       " 'Condition2_Feedr': 0.0025375015903241803,\n",
       " 'Condition2_Norm': 0.004099400686052261,\n",
       " 'Condition2_RRAn': -0.0022150398122894517,\n",
       " 'Condition2_RRNn': 0.0027217598588414457,\n",
       " 'BldgType_2fmCon': -0.010164802768622062,\n",
       " 'BldgType_Duplex': -0.015346112233112406,\n",
       " 'BldgType_Twnhs': -0.014360636288248322,\n",
       " 'BldgType_TwnhsE': -0.012219389151992475,\n",
       " 'HouseStyle_1.5Unf': 0.00411215533692945,\n",
       " 'HouseStyle_1Story': -0.00177103894155761,\n",
       " 'HouseStyle_2.5Fin': 0.004740373820949654,\n",
       " 'HouseStyle_2.5Unf': -0.007935510177491757,\n",
       " 'HouseStyle_2Story': 0.00503703386011073,\n",
       " 'HouseStyle_SFoyer': -0.01393120403972893,\n",
       " 'HouseStyle_SLvl': 0.00027477870146686267,\n",
       " 'OverallQual_3': -0.016243503355960337,\n",
       " 'OverallQual_4': -0.03072371601132878,\n",
       " 'OverallQual_5': -0.027776109912092454,\n",
       " 'OverallQual_6': -0.026175643010253588,\n",
       " 'OverallQual_7': -0.007206274473240485,\n",
       " 'OverallQual_8': 0.02823850002748198,\n",
       " 'OverallQual_9': 0.064576906130004,\n",
       " 'OverallQual_10': 0.017954540105010807,\n",
       " 'OverallCond_3': -0.02293746685602062,\n",
       " 'OverallCond_4': -0.018227274070805922,\n",
       " 'OverallCond_5': -0.01035081105689336,\n",
       " 'OverallCond_6': 0.0010192723156959732,\n",
       " 'OverallCond_7': 0.013047736110892985,\n",
       " 'OverallCond_8': 0.012029446048175579,\n",
       " 'OverallCond_9': 0.023191026197906823,\n",
       " 'RoofStyle_Gable': -0.010559925792104576,\n",
       " 'RoofStyle_Gambrel': 0.005998633000222908,\n",
       " 'RoofStyle_Hip': -0.003818882867273892,\n",
       " 'RoofStyle_Mansard': 0.012535498837261667,\n",
       " 'RoofMatl_Tar&Grv': -0.004155323178108755,\n",
       " 'RoofMatl_WdShake': -0.001113229597436009,\n",
       " 'Exterior1st_BrkComm': 0.0,\n",
       " 'Exterior1st_BrkFace': 0.02797287298273324,\n",
       " 'Exterior1st_CemntBd': 0.007933328253593334,\n",
       " 'Exterior1st_HdBoard': -0.00363548903705013,\n",
       " 'Exterior1st_ImStucc': -0.002274969155589425,\n",
       " 'Exterior1st_MetalSd': 0.0012683831504219745,\n",
       " 'Exterior1st_Plywood': -0.005409728308408974,\n",
       " 'Exterior1st_Stucco': -0.0053170347838937095,\n",
       " 'Exterior1st_VinylSd': -0.007074142681702069,\n",
       " 'Exterior1st_Wd Sdng': -0.008243571297413864,\n",
       " 'Exterior1st_WdShing': -0.0010511206463692502,\n",
       " 'Exterior2nd_AsphShn': 0.003391215896418998,\n",
       " 'Exterior2nd_Brk Cmn': 0.004660318119201128,\n",
       " 'Exterior2nd_BrkFace': -0.007293515705713899,\n",
       " 'Exterior2nd_CmentBd': 0.012925952850031978,\n",
       " 'Exterior2nd_HdBoard': -0.008106118848279432,\n",
       " 'Exterior2nd_ImStucc': -0.002455920418439309,\n",
       " 'Exterior2nd_MetalSd': 0.004428750554645773,\n",
       " 'Exterior2nd_Other': 0.0,\n",
       " 'Exterior2nd_Plywood': -0.0038116151000491707,\n",
       " 'Exterior2nd_Stone': 0.0,\n",
       " 'Exterior2nd_Stucco': 0.01129954747758954,\n",
       " 'Exterior2nd_VinylSd': 0.004335928906529803,\n",
       " 'Exterior2nd_Wd Sdng': 0.010720951653688946,\n",
       " 'Exterior2nd_Wd Shng': -0.022020384240152024,\n",
       " 'ExterQual_Fa': 0.006235299732210234,\n",
       " 'ExterQual_Gd': -0.010548569239912122,\n",
       " 'ExterQual_TA': -0.016544905008348633,\n",
       " 'ExterCond_Fa': 0.00780757043263047,\n",
       " 'ExterCond_Gd': -0.0059230075762766584,\n",
       " 'ExterCond_TA': -0.0018845628563526635,\n",
       " 'Foundation_CBlock': -0.0010399177440925465,\n",
       " 'Foundation_PConc': 0.0021525520689906295,\n",
       " 'Foundation_Stone': 0.008683892179632247,\n",
       " 'Foundation_Wood': -0.013900387463614479,\n",
       " 'BsmtQual_Fa': -0.0252987512410145,\n",
       " 'BsmtQual_Gd': -0.027337005002531556,\n",
       " 'BsmtQual_TA': -0.023379944883840337,\n",
       " 'BsmtCond_Gd': -0.004396526051180339,\n",
       " 'BsmtCond_Po': -0.004081122022624241,\n",
       " 'BsmtCond_TA': 0.01488647506424176,\n",
       " 'BsmtExposure_Gd': 0.03425419495089272,\n",
       " 'BsmtExposure_Mn': -0.002903210355599235,\n",
       " 'BsmtExposure_No': -0.004309705799045121,\n",
       " 'BsmtFinType1_BLQ': 0.0017881155973210245,\n",
       " 'BsmtFinType1_GLQ': 0.017748085657546906,\n",
       " 'BsmtFinType1_LwQ': -0.00742468504227797,\n",
       " 'BsmtFinType1_Rec': -0.006342727621645143,\n",
       " 'BsmtFinType1_Unf': -0.0027219137562132997,\n",
       " 'HeatingQC_Fa': -0.008957167378954255,\n",
       " 'HeatingQC_Gd': -0.00854615977157351,\n",
       " 'HeatingQC_Po': 0.0,\n",
       " 'HeatingQC_TA': -0.009125004925268064,\n",
       " 'CentralAir_Y': 0.00561312630365176,\n",
       " 'Electrical_FuseF': -0.010157061459057405,\n",
       " 'Electrical_FuseP': -0.0039344079935560205,\n",
       " 'Electrical_Mix': -0.0040811220226242406,\n",
       " 'Electrical_SBrkr': -0.011837422293194006,\n",
       " 'SaleType_CWD': 0.02293931212883928,\n",
       " 'SaleType_Con': 0.004931014983373655,\n",
       " 'SaleType_ConLD': 0.004877968895565337,\n",
       " 'SaleType_ConLI': -0.00420865139435093,\n",
       " 'SaleType_ConLw': -0.0018030547008282063,\n",
       " 'SaleType_New': 0.014193088375804243,\n",
       " 'SaleType_Oth': 0.007291362121952507,\n",
       " 'SaleType_WD': -0.004381201053624622,\n",
       " 'SaleCondition_AdjLand': 0.00831775553672421,\n",
       " 'SaleCondition_Alloca': 0.021341350144666853,\n",
       " 'SaleCondition_Family': 0.00263192629987429,\n",
       " 'SaleCondition_Normal': 0.004671158181816556,\n",
       " 'SaleCondition_Partial': 0.01793162715587297,\n",
       " 'KitchenQual_Fa': -0.020336008397593384,\n",
       " 'KitchenQual_Gd': -0.019379261460895726,\n",
       " 'KitchenQual_TA': -0.01903803095262874,\n",
       " 'Functional_Maj2': -0.011611516099849551,\n",
       " 'Functional_Min1': -0.0013423895875781613,\n",
       " 'Functional_Min2': 0.0113729937812185,\n",
       " 'Functional_Mod': -0.022142718140352454,\n",
       " 'Functional_Typ': 0.022381533178489243,\n",
       " 'GarageType_Attchd': -0.0006342917143684091,\n",
       " 'GarageType_Basment': -0.0012537955448288392,\n",
       " 'GarageType_BuiltIn': 0.018225758942723366,\n",
       " 'GarageType_CarPort': -0.014036904501602377,\n",
       " 'GarageType_Detchd': -0.0023007671819249833,\n",
       " 'GarageFinish_RFn': 0.0013634260921418719,\n",
       " 'GarageFinish_Unf': 0.0012615403899986742,\n",
       " 'GarageQual_Gd': 0.0015529137404444947,\n",
       " 'GarageQual_Po': -0.0019261046612391317,\n",
       " 'GarageQual_TA': 0.007640546646104444,\n",
       " 'GarageCond_Gd': 0.006945005602504771,\n",
       " 'GarageCond_Po': 0.004556108458355179,\n",
       " 'GarageCond_TA': -0.0003882232103833542,\n",
       " 'PavedDrive_P': -0.00018403387658292339,\n",
       " 'PavedDrive_Y': -2.1013029385086863e-05,\n",
       " 'MoSold_2': -0.009488867938392126,\n",
       " 'MoSold_3': 0.002969427248416643,\n",
       " 'MoSold_4': 0.007308261839634625,\n",
       " 'MoSold_5': 0.009370599029649622,\n",
       " 'MoSold_6': 0.002364183246735279,\n",
       " 'MoSold_7': 0.0053215009577856015,\n",
       " 'MoSold_8': 0.0064309491725687345,\n",
       " 'MoSold_9': 0.00559233860944386,\n",
       " 'MoSold_10': 0.0021611509954011354,\n",
       " 'MoSold_11': -0.0016942332923515877,\n",
       " 'MoSold_12': -0.003715198579171537,\n",
       " 'Heating_GasW': 0.00038034871407214004,\n",
       " 'Heating_Grav': 0.0017037333324282466,\n",
       " 'Heating_OthW': 0.0}"
      ]
     },
     "execution_count": 426,
     "metadata": {},
     "output_type": "execute_result"
    }
   ],
   "source": [
    "#FInding influential variables in case of ridge\n",
    "features_ridge = ridge.feature_names_in_\n",
    "coeff_ridge = ridge.coef_\n",
    "dic_ridge = dict(zip(features_ridge, coeff_ridge))\n",
    "dic_ridge"
   ]
  },
  {
   "cell_type": "code",
   "execution_count": 427,
   "metadata": {},
   "outputs": [
    {
     "data": {
      "text/plain": [
       "{'Neighborhood_MeadowV': -0.03226469807679569,\n",
       " 'OverallQual_4': -0.03072371601132878,\n",
       " 'Neighborhood_Edwards': -0.02854721275358869,\n",
       " 'OverallQual_5': -0.027776109912092454,\n",
       " 'BsmtQual_Gd': -0.027337005002531556,\n",
       " 'OverallQual_6': -0.026175643010253588,\n",
       " 'BsmtQual_Fa': -0.0252987512410145,\n",
       " 'Neighborhood_NAmes': -0.025168276224289046,\n",
       " 'BsmtQual_TA': -0.023379944883840337,\n",
       " 'OverallCond_3': -0.02293746685602062,\n",
       " 'Functional_Mod': -0.022142718140352454,\n",
       " 'Exterior2nd_Wd Shng': -0.022020384240152024,\n",
       " 'KitchenAbvGr': -0.020416265970478607,\n",
       " 'KitchenQual_Fa': -0.020336008397593384,\n",
       " 'KitchenQual_Gd': -0.019379261460895726,\n",
       " 'KitchenQual_TA': -0.01903803095262874,\n",
       " 'OverallCond_4': -0.018227274070805922,\n",
       " 'ExterQual_TA': -0.016544905008348633,\n",
       " 'OverallQual_3': -0.016243503355960337,\n",
       " 'LandSlope_Sev': -0.016236305425034223,\n",
       " 'MSSubClass_90': -0.015346112233112429,\n",
       " 'BldgType_Duplex': -0.015346112233112406,\n",
       " 'Neighborhood_Mitchel': -0.015312885036446145,\n",
       " 'BldgType_Twnhs': -0.014360636288248322,\n",
       " 'Condition1_RRAe': -0.014098156697958136,\n",
       " 'LotConfig_FR3': -0.0140801883104527,\n",
       " 'GarageType_CarPort': -0.014036904501602377,\n",
       " 'HouseStyle_SFoyer': -0.01393120403972893,\n",
       " 'Foundation_Wood': -0.013900387463614479,\n",
       " 'Neighborhood_Timber': -0.013477189018372708,\n",
       " 'MSSubClass_160': -0.013449126592723164,\n",
       " 'Neighborhood_OldTown': -0.013209944882033019,\n",
       " 'Neighborhood_Gilbert': -0.012382269552518007,\n",
       " 'BldgType_TwnhsE': -0.012219389151992475,\n",
       " 'BedroomAbvGr': -0.012067517107778215,\n",
       " 'Electrical_SBrkr': -0.011837422293194006,\n",
       " 'MSSubClass_190': -0.011672895528033772,\n",
       " 'Functional_Maj2': -0.011611516099849551,\n",
       " 'Neighborhood_Sawyer': -0.011307563068903086,\n",
       " 'Neighborhood_IDOTRR': -0.011162760762264886,\n",
       " 'MSSubClass_30': -0.011152063341551888,\n",
       " 'RoofStyle_Gable': -0.010559925792104576,\n",
       " 'ExterQual_Gd': -0.010548569239912122,\n",
       " 'OverallCond_5': -0.01035081105689336,\n",
       " 'Condition1_PosA': -0.010342583166740997,\n",
       " 'BldgType_2fmCon': -0.010164802768622062,\n",
       " 'Electrical_FuseF': -0.010157061459057405,\n",
       " 'LandContour_Low': -0.009576752022109284,\n",
       " 'MoSold_2': -0.009488867938392126,\n",
       " 'HeatingQC_TA': -0.009125004925268064,\n",
       " 'LotConfig_FR2': -0.00912041016574352,\n",
       " 'MSSubClass_180': -0.00902211786564231,\n",
       " 'HeatingQC_Fa': -0.008957167378954255,\n",
       " 'Neighborhood_CollgCr': -0.008846549909083852,\n",
       " 'BsmtFullBath': -0.008660024617992592,\n",
       " 'HeatingQC_Gd': -0.00854615977157351,\n",
       " 'Neighborhood_NWAmes': -0.008530738292082531,\n",
       " 'Exterior1st_Wd Sdng': -0.008243571297413864,\n",
       " 'Exterior2nd_HdBoard': -0.008106118848279432,\n",
       " 'HouseStyle_2.5Unf': -0.007935510177491757,\n",
       " 'BsmtFinType1_LwQ': -0.00742468504227797,\n",
       " 'Exterior2nd_BrkFace': -0.007293515705713899,\n",
       " 'OverallQual_7': -0.007206274473240485,\n",
       " 'Exterior1st_VinylSd': -0.007074142681702069,\n",
       " 'MSSubClass_120': -0.006983526903924543,\n",
       " 'BsmtFinType1_Rec': -0.006342727621645143,\n",
       " 'BsmtHalfBath': -0.005960121015772016,\n",
       " 'ExterCond_Gd': -0.0059230075762766584,\n",
       " 'Exterior1st_Plywood': -0.005409728308408974,\n",
       " 'Exterior1st_Stucco': -0.0053170347838937095,\n",
       " 'Neighborhood_SawyerW': -0.00520116641200657,\n",
       " 'Neighborhood_SWISU': -0.005083284511637699,\n",
       " 'BsmtCond_Gd': -0.004396526051180339,\n",
       " 'SaleType_WD': -0.004381201053624622,\n",
       " 'BsmtExposure_No': -0.004309705799045121,\n",
       " 'SaleType_ConLI': -0.00420865139435093,\n",
       " 'RoofMatl_Tar&Grv': -0.004155323178108755,\n",
       " 'BsmtCond_Po': -0.004081122022624241,\n",
       " 'Electrical_Mix': -0.0040811220226242406,\n",
       " 'Condition1_RRAn': -0.003959201182609265,\n",
       " 'Electrical_FuseP': -0.0039344079935560205,\n",
       " 'RoofStyle_Hip': -0.003818882867273892,\n",
       " 'Exterior2nd_Plywood': -0.0038116151000491707,\n",
       " 'MoSold_12': -0.003715198579171537,\n",
       " 'Exterior1st_HdBoard': -0.00363548903705013,\n",
       " 'Neighborhood_Veenker': -0.0033988363155834063,\n",
       " 'Condition1_RRNe': -0.003144941941128736,\n",
       " 'BsmtExposure_Mn': -0.002903210355599235,\n",
       " 'MSSubClass_80': -0.002837148157750277,\n",
       " 'BsmtFinType1_Unf': -0.0027219137562132997,\n",
       " 'Exterior2nd_ImStucc': -0.002455920418439309,\n",
       " 'MSSubClass_85': -0.0023580430852210084,\n",
       " 'LotShape_Reg': -0.00233186030650949,\n",
       " 'GarageType_Detchd': -0.0023007671819249833,\n",
       " 'YrSold': -0.0022991802875442766,\n",
       " 'Exterior1st_ImStucc': -0.002274969155589425,\n",
       " 'Condition2_RRAn': -0.0022150398122894517,\n",
       " 'LotConfig_Inside': -0.0020170361618963464,\n",
       " 'GarageQual_Po': -0.0019261046612391317,\n",
       " 'ExterCond_TA': -0.0018845628563526635,\n",
       " 'SaleType_ConLw': -0.0018030547008282063,\n",
       " 'HouseStyle_1Story': -0.00177103894155761,\n",
       " 'MSZoning_RM': -0.0017212483448168123,\n",
       " 'MoSold_11': -0.0016942332923515877,\n",
       " 'Functional_Min1': -0.0013423895875781613,\n",
       " 'GarageType_Basment': -0.0012537955448288392,\n",
       " 'RoofMatl_WdShake': -0.001113229597436009,\n",
       " 'Exterior1st_WdShing': -0.0010511206463692502,\n",
       " 'Foundation_CBlock': -0.0010399177440925465,\n",
       " 'Condition1_RRNn': -0.0010251667701634427,\n",
       " 'GarageType_Attchd': -0.0006342917143684091,\n",
       " 'GarageCond_TA': -0.0003882232103833542,\n",
       " 'LandContour_Lvl': -0.00025469068449779174,\n",
       " 'PavedDrive_P': -0.00018403387658292339,\n",
       " 'LandSlope_Mod': -2.4560187275783503e-05,\n",
       " 'PavedDrive_Y': -2.1013029385086863e-05,\n",
       " 'BsmtFinSF2': 0.0,\n",
       " 'LowQualFinSF': 0.0,\n",
       " 'PoolArea': 0.0,\n",
       " 'MiscVal': 0.0,\n",
       " 'MSSubClass_40': 0.0,\n",
       " 'Neighborhood_Blueste': 0.0,\n",
       " 'Exterior1st_BrkComm': 0.0,\n",
       " 'Exterior2nd_Other': 0.0,\n",
       " 'Exterior2nd_Stone': 0.0,\n",
       " 'HeatingQC_Po': 0.0,\n",
       " 'Heating_OthW': 0.0,\n",
       " 'HouseStyle_SLvl': 0.00027477870146686267,\n",
       " 'MSZoning_RH': 0.00028436403721883734,\n",
       " 'Heating_GasW': 0.00038034871407214004,\n",
       " 'Condition1_Feedr': 0.000702525831483094,\n",
       " 'Neighborhood_Somerst': 0.000813611482253027,\n",
       " 'OverallCond_6': 0.0010192723156959732,\n",
       " 'LotShape_IR2': 0.0011137429911448964,\n",
       " 'MSSubClass_45': 0.001115627805381802,\n",
       " 'GarageFinish_Unf': 0.0012615403899986742,\n",
       " 'Exterior1st_MetalSd': 0.0012683831504219745,\n",
       " 'GarageFinish_RFn': 0.0013634260921418719,\n",
       " 'MSSubClass_50': 0.0014173748961763106,\n",
       " 'GarageQual_Gd': 0.0015529137404444947,\n",
       " 'Heating_Grav': 0.0017037333324282466,\n",
       " 'BsmtFinType1_BLQ': 0.0017881155973210245,\n",
       " 'Foundation_PConc': 0.0021525520689906295,\n",
       " 'MoSold_10': 0.0021611509954011354,\n",
       " 'MoSold_6': 0.002364183246735279,\n",
       " 'Condition2_Feedr': 0.0025375015903241803,\n",
       " 'SaleCondition_Family': 0.00263192629987429,\n",
       " 'Condition2_RRNn': 0.0027217598588414457,\n",
       " 'LandContour_HLS': 0.002769991204371585,\n",
       " 'MoSold_3': 0.002969427248416643,\n",
       " 'Exterior2nd_AsphShn': 0.003391215896418998,\n",
       " 'LotShape_IR3': 0.0038331191903639697,\n",
       " 'Condition2_Norm': 0.004099400686052261,\n",
       " 'HouseStyle_1.5Unf': 0.00411215533692945,\n",
       " 'Exterior2nd_VinylSd': 0.004335928906529803,\n",
       " 'Exterior2nd_MetalSd': 0.004428750554645773,\n",
       " 'Neighborhood_ClearCr': 0.004478998338535176,\n",
       " 'GarageCond_Po': 0.004556108458355179,\n",
       " 'Exterior2nd_Brk Cmn': 0.004660318119201128,\n",
       " 'SaleCondition_Normal': 0.004671158181816556,\n",
       " 'HouseStyle_2.5Fin': 0.004740373820949654,\n",
       " 'SaleType_ConLD': 0.004877968895565337,\n",
       " 'SaleType_Con': 0.004931014983373655,\n",
       " 'HouseStyle_2Story': 0.00503703386011073,\n",
       " 'Neighborhood_BrkSide': 0.005042211925689034,\n",
       " 'MoSold_7': 0.0053215009577856015,\n",
       " 'MoSold_9': 0.00559233860944386,\n",
       " 'CentralAir_Y': 0.00561312630365176,\n",
       " 'RoofStyle_Gambrel': 0.005998633000222908,\n",
       " 'EnclosedPorch': 0.006219168558357949,\n",
       " 'ExterQual_Fa': 0.006235299732210234,\n",
       " 'MSSubClass_75': 0.006285284571709328,\n",
       " 'MoSold_8': 0.0064309491725687345,\n",
       " 'GarageCond_Gd': 0.006945005602504771,\n",
       " 'SaleType_Oth': 0.007291362121952507,\n",
       " 'MoSold_4': 0.007308261839634625,\n",
       " 'WoodDeckSF': 0.007340804149720635,\n",
       " 'BsmtUnfSF': 0.007496243754295226,\n",
       " 'GarageQual_TA': 0.007640546646104444,\n",
       " 'ExterCond_Fa': 0.00780757043263047,\n",
       " 'Exterior1st_CemntBd': 0.007933328253593334,\n",
       " 'Condition1_PosN': 0.008015406397371465,\n",
       " 'LotConfig_CulDSac': 0.008156186884206714,\n",
       " 'SaleCondition_AdjLand': 0.00831775553672421,\n",
       " 'Neighborhood_NPkVill': 0.00843559766285237,\n",
       " 'Foundation_Stone': 0.008683892179632247,\n",
       " 'Neighborhood_BrDale': 0.008730741315263493,\n",
       " 'MSSubClass_70': 0.00885956617264947,\n",
       " 'GarageYrBlt': 0.009318924471687858,\n",
       " 'MoSold_5': 0.009370599029649622,\n",
       " 'MSZoning_RL': 0.009618786153333456,\n",
       " '3SsnPorch': 0.009794959984457695,\n",
       " 'Neighborhood_NoRidge': 0.010445985835659541,\n",
       " 'Exterior2nd_Wd Sdng': 0.010720951653688946,\n",
       " 'ScreenPorch': 0.01097470556384785,\n",
       " 'Exterior2nd_Stucco': 0.01129954747758954,\n",
       " 'Functional_Min2': 0.0113729937812185,\n",
       " 'HalfBath': 0.0115300905996365,\n",
       " 'OverallCond_8': 0.012029446048175579,\n",
       " 'RoofStyle_Mansard': 0.012535498837261667,\n",
       " 'Exterior2nd_CmentBd': 0.012925952850031978,\n",
       " 'OverallCond_7': 0.013047736110892985,\n",
       " 'OpenPorchSF': 0.014174154775803076,\n",
       " 'SaleType_New': 0.014193088375804243,\n",
       " 'BsmtCond_TA': 0.01488647506424176,\n",
       " 'Condition1_Norm': 0.01505984092922025,\n",
       " 'MasVnrArea': 0.016438558086668435,\n",
       " 'MSSubClass_60': 0.016873099325191737,\n",
       " 'BsmtFinType1_GLQ': 0.017748085657546906,\n",
       " 'SaleCondition_Partial': 0.01793162715587297,\n",
       " 'OverallQual_10': 0.017954540105010807,\n",
       " 'GarageType_BuiltIn': 0.018225758942723366,\n",
       " 'MSZoning_FV': 0.018972267625034407,\n",
       " 'SaleCondition_Alloca': 0.021341350144666853,\n",
       " 'Fireplaces': 0.021749285666359246,\n",
       " 'Functional_Typ': 0.022381533178489243,\n",
       " 'SaleType_CWD': 0.02293931212883928,\n",
       " 'YearRemodAdd': 0.023116877486865854,\n",
       " 'OverallCond_9': 0.023191026197906823,\n",
       " 'FullBath': 0.02370818431278918,\n",
       " 'Exterior1st_BrkFace': 0.02797287298273324,\n",
       " 'OverallQual_8': 0.02823850002748198,\n",
       " 'YearBuilt': 0.02901506547732977,\n",
       " 'Neighborhood_NridgHt': 0.029999477612330964,\n",
       " 'TotRmsAbvGrd': 0.03119248163481293,\n",
       " 'GarageCars': 0.03217693461881481,\n",
       " 'GarageArea': 0.03335316186558291,\n",
       " 'BsmtExposure_Gd': 0.03425419495089272,\n",
       " 'LotArea': 0.038557825748434464,\n",
       " 'Neighborhood_Crawfor': 0.03862268231560354,\n",
       " '2ndFlrSF': 0.0504316096289735,\n",
       " 'TotalBsmtSF': 0.05948986743087073,\n",
       " 'BsmtFinSF1': 0.061195204562296934,\n",
       " 'Neighborhood_StoneBr': 0.06333384093064026,\n",
       " 'OverallQual_9': 0.064576906130004,\n",
       " 'GrLivArea': 0.07697676179805613,\n",
       " '1stFlrSF': 0.08110759807099444}"
      ]
     },
     "execution_count": 427,
     "metadata": {},
     "output_type": "execute_result"
    }
   ],
   "source": [
    "sorted_dict_ridge = dict(sorted(dic_ridge.items(), key=lambda item: item[1]))\n",
    "sorted_dict_ridge"
   ]
  },
  {
   "cell_type": "markdown",
   "metadata": {},
   "source": [
    "Most influential varaibles in ridge model are the below, given together with the coefficient values:<br><br>\n",
    "'BsmtFinSF1': 0.061195204562296934,<br>\n",
    " 'Neighborhood_StoneBr': 0.06333384093064026,<br>\n",
    " 'OverallQual_9': 0.064576906130004,<br>\n",
    " 'GrLivArea': 0.07697676179805613,<br>\n",
    " '1stFlrSF': 0.08110759807099444"
   ]
  },
  {
   "cell_type": "markdown",
   "metadata": {},
   "source": [
    "#### Summary:<br><br>  Comparison of r2 scores and other metrics"
   ]
  },
  {
   "cell_type": "code",
   "execution_count": 428,
   "metadata": {},
   "outputs": [
    {
     "data": {
      "text/html": [
       "<div>\n",
       "<style scoped>\n",
       "    .dataframe tbody tr th:only-of-type {\n",
       "        vertical-align: middle;\n",
       "    }\n",
       "\n",
       "    .dataframe tbody tr th {\n",
       "        vertical-align: top;\n",
       "    }\n",
       "\n",
       "    .dataframe thead th {\n",
       "        text-align: right;\n",
       "    }\n",
       "</style>\n",
       "<table border=\"1\" class=\"dataframe\">\n",
       "  <thead>\n",
       "    <tr style=\"text-align: right;\">\n",
       "      <th></th>\n",
       "      <th>Metric</th>\n",
       "      <th>Linear Regression Training data</th>\n",
       "      <th>Linear Regression Test data</th>\n",
       "      <th>Ridge Regression Training data</th>\n",
       "      <th>Ridge Regression Test data</th>\n",
       "      <th>Lasso Regression Training data</th>\n",
       "      <th>Lasso Regression Test data</th>\n",
       "    </tr>\n",
       "  </thead>\n",
       "  <tbody>\n",
       "    <tr>\n",
       "      <th>0</th>\n",
       "      <td>r2 score</td>\n",
       "      <td>0.946173</td>\n",
       "      <td>-4.507286e+20</td>\n",
       "      <td>0.933654</td>\n",
       "      <td>0.896475</td>\n",
       "      <td>0.928146</td>\n",
       "      <td>0.895462</td>\n",
       "    </tr>\n",
       "    <tr>\n",
       "      <th>1</th>\n",
       "      <td>MSE</td>\n",
       "      <td>0.000930</td>\n",
       "      <td>7.132205e+18</td>\n",
       "      <td>0.001146</td>\n",
       "      <td>0.001638</td>\n",
       "      <td>0.001241</td>\n",
       "      <td>0.001654</td>\n",
       "    </tr>\n",
       "    <tr>\n",
       "      <th>2</th>\n",
       "      <td>MAE</td>\n",
       "      <td>0.020391</td>\n",
       "      <td>2.039090e-02</td>\n",
       "      <td>0.022763</td>\n",
       "      <td>0.028543</td>\n",
       "      <td>0.023720</td>\n",
       "      <td>0.028746</td>\n",
       "    </tr>\n",
       "  </tbody>\n",
       "</table>\n",
       "</div>"
      ],
      "text/plain": [
       "     Metric  Linear Regression Training data  Linear Regression Test data  \\\n",
       "0  r2 score                         0.946173                -4.507286e+20   \n",
       "1       MSE                         0.000930                 7.132205e+18   \n",
       "2       MAE                         0.020391                 2.039090e-02   \n",
       "\n",
       "   Ridge Regression Training data  Ridge Regression Test data  \\\n",
       "0                        0.933654                    0.896475   \n",
       "1                        0.001146                    0.001638   \n",
       "2                        0.022763                    0.028543   \n",
       "\n",
       "   Lasso Regression Training data  Lasso Regression Test data  \n",
       "0                        0.928146                    0.895462  \n",
       "1                        0.001241                    0.001654  \n",
       "2                        0.023720                    0.028746  "
      ]
     },
     "execution_count": 428,
     "metadata": {},
     "output_type": "execute_result"
    }
   ],
   "source": [
    "metrics = {'Metric':['r2 score', 'MSE', 'MAE'],\n",
    "           'Linear Regression Training data':[r2_score_LR_train, mse_train_LR, mae_train_LR],\n",
    "           'Linear Regression Test data': [r2_score_LR_test, mse_test_LR, mae_train_LR],\n",
    "           'Ridge Regression Training data': [r2_train_ridge, mse_train_ridge, mae_train_ridge],\n",
    "           'Ridge Regression Test data': [r2_test_ridge, mse_test_ridge, mae_test_ridge],\n",
    "           'Lasso Regression Training data': [r2_train_lasso, mse_train_lasso, mae_train_lasso],\n",
    "           'Lasso Regression Test data': [r2_test_lasso, mse_test_lasso, mae_test_lasso]\n",
    "           }\n",
    "metrics_comp = pd.DataFrame(metrics)\n",
    "metrics_comp"
   ]
  },
  {
   "cell_type": "markdown",
   "metadata": {},
   "source": [
    "#### Checking the number of coefficients in Ridge and Lasso models"
   ]
  },
  {
   "cell_type": "code",
   "execution_count": 429,
   "metadata": {},
   "outputs": [
    {
     "name": "stdout",
     "output_type": "stream",
     "text": [
      "237\n",
      "237\n"
     ]
    }
   ],
   "source": [
    "#Printing the total number of coefficients in the models\n",
    "print(len(lasso.coef_))\n",
    "print(len(ridge.coef_))"
   ]
  },
  {
   "cell_type": "code",
   "execution_count": 430,
   "metadata": {},
   "outputs": [
    {
     "name": "stdout",
     "output_type": "stream",
     "text": [
      "No of coefficients reduced to zero in Lasso model: 135\n"
     ]
    }
   ],
   "source": [
    "#Checking the number of coefficients reduced to zero by lasso model\n",
    "j = 0\n",
    "for i in lasso.coef_:\n",
    "    if i == 0:\n",
    "        j = j+1\n",
    "\n",
    "print(f\"No of coefficients reduced to zero in Lasso model: {j}\")"
   ]
  },
  {
   "cell_type": "code",
   "execution_count": 431,
   "metadata": {},
   "outputs": [
    {
     "name": "stdout",
     "output_type": "stream",
     "text": [
      "No of coefficients reduced to zero in Ridge model: 11\n"
     ]
    }
   ],
   "source": [
    "#Checking the number of coefficients reduced to zero by ridge model\n",
    "j = 0\n",
    "for i in ridge.coef_:\n",
    "    if i == 0:\n",
    "        j = j+1\n",
    "\n",
    "print(f\"No of coefficients reduced to zero in Ridge model: {j}\")"
   ]
  },
  {
   "cell_type": "markdown",
   "metadata": {},
   "source": [
    "### Conclusions:<br>\n",
    "- It can be seen that r2 score and other metrics of test and train data in case of linear regression model is not at all comparable hinting at overfitting.<br>\n",
    "- Both Ridge and Lasso models yielded comparable metric values for r2 score and other metrics for training and test data. This implies a better well fit trustworthy model.<br>\n",
    "- Though values of metrics of Ridge and Lasso are comparable, Ridge model is marginally better since the r2 scores are better for Ridge model as can be seen from the above table.<br>\n",
    "- 4 nos features are commonly found to be having high influence in both ridge and lasso models, those are<br><br>\n",
    "    - 'BsmtFinSF1',<br>\n",
    "    - 'Neighborhood_StoneBr',<br>\n",
    "    - 'OverallQual_9',<br>\n",
    "    - 'GrLivArea'<br>\n",
    "- Considering model simplicity LASSO is the preferred one, explanation is given below.<br>\n",
    "\tIt has reduced the coefficients of 135 nos of variables to zero. Lasso regression model\tinherently is a feature selection model when compared to ridge model. In this specific case of \tassignment, ridge model reduces the number of features only by 11, in comparison to lasso \twhere 135 nos were reduced.\n",
    "    \n",
    "    - Total number of non-zero feature coefficients in Lasso model: 237 – 135 = 102 features<br>\n",
    "    - Total number of non-zero feature coefficients in Ridge model: 237 – 11 = 126 features<br>\n",
    "- Looking at the complexity of the models, lasso model is much simpler, and has comparable \tmetrics too. The Lasso model with the chosen variables describes almost 89.5% of the predictions which is a good score.<br>\n",
    "So, giving an upper hand to simpler models and also considering the metrics, LASSO model is the preferred on this use case.\n",
    "- The five most influential variables from the Lasso model are given below.\n",
    "    - TotalBsmtSF\n",
    "    - BsmtFinSF1\n",
    "    - Neighborhood_StoneBr\n",
    "    - OverallQual_9\n",
    "    - GrLivArea\n",
    "\n"
   ]
  }
 ],
 "metadata": {
  "kernelspec": {
   "display_name": "Python 3",
   "language": "python",
   "name": "python3"
  },
  "language_info": {
   "codemirror_mode": {
    "name": "ipython",
    "version": 3
   },
   "file_extension": ".py",
   "mimetype": "text/x-python",
   "name": "python",
   "nbconvert_exporter": "python",
   "pygments_lexer": "ipython3",
   "version": "3.8.10"
  }
 },
 "nbformat": 4,
 "nbformat_minor": 2
}
